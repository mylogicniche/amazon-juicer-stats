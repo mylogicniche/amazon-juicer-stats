{
 "cells": [
  {
   "cell_type": "code",
   "execution_count": 1,
   "metadata": {
    "collapsed": true
   },
   "outputs": [],
   "source": [
    "import json\n",
    "import numpy as np\n",
    "import matplotlib.pyplot as plt\n",
    "import matplotlib.mlab as mlab\n",
    "import pandas as pd\n",
    "import re\n",
    "from sklearn import linear_model\n",
    "from sklearn.model_selection import train_test_split\n",
    "from sklearn import preprocessing\n",
    "from collections import Counter\n",
    "#from nltk.corpus import stopwords\n",
    "import string\n",
    "import operator\n",
    "import seaborn as sns\n",
    "from itertools import groupby\n",
    "from sklearn.ensemble import RandomForestClassifier\n",
    "from sklearn.neighbors import KNeighborsClassifier\n",
    "%matplotlib inline"
   ]
  },
  {
   "cell_type": "code",
   "execution_count": 2,
   "metadata": {
    "collapsed": true
   },
   "outputs": [],
   "source": [
    "with open(\"../out/juicers.json\", \"r\") as f:\n",
    "    allJuicers = json.load(f)\n",
    "\n",
    "priceListByBrand = {}\n",
    "rankListByBrand = {}\n",
    "juicersByAsin = {}\n",
    "for cat, juicers in allJuicers.items():\n",
    "    for juicer in juicers:\n",
    "        asin = list(juicer.keys())[0]\n",
    "        val = list(juicer.values())[0]\n",
    "        val.update({\"category\":cat})\n",
    "        if any(x in val['title'].lower() for x in ['juice','juicer']):\n",
    "            juicersByAsin.update({asin: val})\n",
    "        else:\n",
    "            continue\n",
    "        brand = val['brand']\n",
    "        try:\n",
    "            if brand.lower() == 'breville juicer':\n",
    "                brand = 'breville'\n",
    "        except:\n",
    "            continue\n",
    "\n",
    "        try:\n",
    "            if brand.lower() == 'omega juicers':\n",
    "                brand = 'omega'\n",
    "        except:\n",
    "            continue\n",
    "        try:\n",
    "            priceListByBrand.setdefault(brand, []).append(float(val['price'][1:]))\n",
    "        except:\n",
    "            pass\n",
    "\n",
    "        try:\n",
    "            if not val['sales_rank'] == 'None':\n",
    "                rankListByBrand.setdefault(brand, []).append(int(val['sales_rank']))\n",
    "        except:\n",
    "            pass\n",
    "\n",
    "df_all = pd.DataFrame(juicersByAsin)\n",
    "\n",
    "df_all = df_all.T\n"
   ]
  },
  {
   "cell_type": "code",
   "execution_count": 6,
   "metadata": {
    "collapsed": false
   },
   "outputs": [],
   "source": [
    "df_all.to_csv(\"../out/data.csv\")"
   ]
  }
 ],
 "metadata": {
  "kernelspec": {
   "display_name": "Python 3",
   "language": "python",
   "name": "python3"
  },
  "language_info": {
   "codemirror_mode": {
    "name": "ipython",
    "version": 3
   },
   "file_extension": ".py",
   "mimetype": "text/x-python",
   "name": "python",
   "nbconvert_exporter": "python",
   "pygments_lexer": "ipython3",
   "version": "3.5.3"
  }
 },
 "nbformat": 4,
 "nbformat_minor": 2
}
