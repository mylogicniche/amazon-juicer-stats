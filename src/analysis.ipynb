{
 "cells": [
  {
   "cell_type": "code",
   "execution_count": 724,
   "metadata": {
    "collapsed": true
   },
   "outputs": [],
   "source": [
    "import json\n",
    "import numpy as np\n",
    "import matplotlib.pyplot as plt\n",
    "import matplotlib.mlab as mlab\n",
    "import pandas as pd\n",
    "import re\n",
    "from sklearn import linear_model\n",
    "from sklearn.model_selection import train_test_split\n",
    "from sklearn import preprocessing\n",
    "from collections import Counter\n",
    "#from nltk.corpus import stopwords\n",
    "import string\n",
    "import operator\n",
    "import seaborn as sns\n",
    "from itertools import groupby\n",
    "from sklearn.ensemble import RandomForestClassifier\n",
    "from sklearn.neighbors import KNeighborsClassifier\n",
    "%matplotlib inline"
   ]
  },
  {
   "cell_type": "code",
   "execution_count": 725,
   "metadata": {},
   "outputs": [],
   "source": [
    "with open(\"../out/juicers.json\", \"r\") as f:\n",
    "    allJuicers = json.load(f)\n",
    "\n",
    "priceListByBrand = {}\n",
    "rankListByBrand = {}\n",
    "juicersByAsin = {}\n",
    "for cat, juicers in allJuicers.items():\n",
    "    for juicer in juicers:\n",
    "        asin = list(juicer.keys())[0]\n",
    "        val = list(juicer.values())[0]\n",
    "        val.update({\"category\":cat})\n",
    "        if any(x in val['title'].lower() for x in ['juice','juicer']):\n",
    "            juicersByAsin.update({asin: val})\n",
    "        else:\n",
    "            continue\n",
    "        brand = val['brand']\n",
    "        try:\n",
    "            if brand.lower() == 'breville juicer':\n",
    "                brand = 'breville'\n",
    "        except:\n",
    "            continue\n",
    "\n",
    "        try:\n",
    "            if brand.lower() == 'omega juicers':\n",
    "                brand = 'omega'\n",
    "        except:\n",
    "            continue\n",
    "        try:\n",
    "            priceListByBrand.setdefault(brand, []).append(float(val['price'][1:]))\n",
    "        except:\n",
    "            pass\n",
    "\n",
    "        try:\n",
    "            if not val['sales_rank'] == 'None':\n",
    "                rankListByBrand.setdefault(brand, []).append(int(val['sales_rank']))\n",
    "        except:\n",
    "            pass\n",
    "\n",
    "df_all = pd.DataFrame(juicersByAsin)\n",
    "\n",
    "df_all = df_all.T"
   ]
  },
  {
   "cell_type": "code",
   "execution_count": 726,
   "metadata": {},
   "outputs": [
    {
     "data": {
      "text/html": [
       "<div>\n",
       "<style>\n",
       "    .dataframe thead tr:only-child th {\n",
       "        text-align: right;\n",
       "    }\n",
       "\n",
       "    .dataframe thead th {\n",
       "        text-align: left;\n",
       "    }\n",
       "\n",
       "    .dataframe tbody tr th {\n",
       "        vertical-align: top;\n",
       "    }\n",
       "</style>\n",
       "<table border=\"1\" class=\"dataframe\">\n",
       "  <thead>\n",
       "    <tr style=\"text-align: right;\">\n",
       "      <th></th>\n",
       "      <th>brand</th>\n",
       "      <th>category</th>\n",
       "      <th>color</th>\n",
       "      <th>features</th>\n",
       "      <th>price</th>\n",
       "      <th>sales_rank</th>\n",
       "      <th>title</th>\n",
       "    </tr>\n",
       "  </thead>\n",
       "  <tbody>\n",
       "    <tr>\n",
       "      <th>B00004R93U</th>\n",
       "      <td>Juiceman</td>\n",
       "      <td>centrifugal</td>\n",
       "      <td>Off-White</td>\n",
       "      <td>[Peppy 1/4-horsepower motor quickly juices mos...</td>\n",
       "      <td>$158.98</td>\n",
       "      <td>1006304</td>\n",
       "      <td>Juiceman Jr. Elite Pro JM211 Juice Extractor</td>\n",
       "    </tr>\n",
       "    <tr>\n",
       "      <th>B00004R93V</th>\n",
       "      <td>Juiceman</td>\n",
       "      <td>centrifugal</td>\n",
       "      <td>White</td>\n",
       "      <td>[Powerful 1/2-horsepower motor quickly juices ...</td>\n",
       "      <td>$79.95</td>\n",
       "      <td>778846</td>\n",
       "      <td>The Juiceman Electronic Professional Series 41...</td>\n",
       "    </tr>\n",
       "    <tr>\n",
       "      <th>B00004S8FH</th>\n",
       "      <td>Waring</td>\n",
       "      <td>centrifugal</td>\n",
       "      <td>White</td>\n",
       "      <td>[Converts all noncitrus fruits and vegetables ...</td>\n",
       "      <td>$360.00</td>\n",
       "      <td>227195</td>\n",
       "      <td>Waring PJE401 Juice Extractor, Quite White and...</td>\n",
       "    </tr>\n",
       "    <tr>\n",
       "      <th>B00004S8FI</th>\n",
       "      <td>Waring</td>\n",
       "      <td>citrus</td>\n",
       "      <td>Quite White</td>\n",
       "      <td>[Juices all citrus fruits, from limes to grape...</td>\n",
       "      <td>None</td>\n",
       "      <td>254788</td>\n",
       "      <td>Waring PCJ201 Citrus Juicer, Quite White</td>\n",
       "    </tr>\n",
       "    <tr>\n",
       "      <th>B00004S8FJ</th>\n",
       "      <td>Waring</td>\n",
       "      <td>citrus</td>\n",
       "      <td>Stainless Steel</td>\n",
       "      <td>[Juices all citrus fruits, from limes to grape...</td>\n",
       "      <td>$149.99</td>\n",
       "      <td>231125</td>\n",
       "      <td>Waring PCJ218 Citrus Juicer, Stainless Steel</td>\n",
       "    </tr>\n",
       "  </tbody>\n",
       "</table>\n",
       "</div>"
      ],
      "text/plain": [
       "               brand     category            color  \\\n",
       "B00004R93U  Juiceman  centrifugal        Off-White   \n",
       "B00004R93V  Juiceman  centrifugal            White   \n",
       "B00004S8FH    Waring  centrifugal            White   \n",
       "B00004S8FI    Waring       citrus      Quite White   \n",
       "B00004S8FJ    Waring       citrus  Stainless Steel   \n",
       "\n",
       "                                                     features    price  \\\n",
       "B00004R93U  [Peppy 1/4-horsepower motor quickly juices mos...  $158.98   \n",
       "B00004R93V  [Powerful 1/2-horsepower motor quickly juices ...   $79.95   \n",
       "B00004S8FH  [Converts all noncitrus fruits and vegetables ...  $360.00   \n",
       "B00004S8FI  [Juices all citrus fruits, from limes to grape...     None   \n",
       "B00004S8FJ  [Juices all citrus fruits, from limes to grape...  $149.99   \n",
       "\n",
       "           sales_rank                                              title  \n",
       "B00004R93U    1006304       Juiceman Jr. Elite Pro JM211 Juice Extractor  \n",
       "B00004R93V     778846  The Juiceman Electronic Professional Series 41...  \n",
       "B00004S8FH     227195  Waring PJE401 Juice Extractor, Quite White and...  \n",
       "B00004S8FI     254788           Waring PCJ201 Citrus Juicer, Quite White  \n",
       "B00004S8FJ     231125       Waring PCJ218 Citrus Juicer, Stainless Steel  "
      ]
     },
     "execution_count": 726,
     "metadata": {},
     "output_type": "execute_result"
    }
   ],
   "source": [
    "df_all.head()"
   ]
  },
  {
   "cell_type": "markdown",
   "metadata": {},
   "source": [
    "#### Let's check the general characteristics of the data"
   ]
  },
  {
   "cell_type": "code",
   "execution_count": 727,
   "metadata": {},
   "outputs": [
    {
     "name": "stdout",
     "output_type": "stream",
     "text": [
      "<class 'pandas.core.frame.DataFrame'>\n",
      "Index: 1017 entries, B00004R93U to B0739LW3XS\n",
      "Data columns (total 7 columns):\n",
      "brand         1010 non-null object\n",
      "category      1017 non-null object\n",
      "color         839 non-null object\n",
      "features      1017 non-null object\n",
      "price         968 non-null object\n",
      "sales_rank    1017 non-null object\n",
      "title         1017 non-null object\n",
      "dtypes: object(7)\n",
      "memory usage: 63.6+ KB\n"
     ]
    }
   ],
   "source": [
    "df_all.info()"
   ]
  },
  {
   "cell_type": "markdown",
   "metadata": {},
   "source": [
    "Brand, categoty, color are categorical features. \n",
    "Price and sales_rank are numeric features. \n",
    "I am going to exclude \"features\" column as it is too complicated to use for the model for me for now.\n",
    "This will be a clasification problem. I will try to make a model to predict the most successfull products in terms of the sales rank"
   ]
  },
  {
   "cell_type": "code",
   "execution_count": 728,
   "metadata": {},
   "outputs": [
    {
     "data": {
      "text/plain": [
       "brand           7\n",
       "category        0\n",
       "color         178\n",
       "features        0\n",
       "price          49\n",
       "sales_rank      0\n",
       "title           0\n",
       "dtype: int64"
      ]
     },
     "execution_count": 728,
     "metadata": {},
     "output_type": "execute_result"
    }
   ],
   "source": [
    "df_all.isnull().sum()"
   ]
  },
  {
   "cell_type": "markdown",
   "metadata": {},
   "source": [
    "There are some null data. There are also some hidden null data in str type, 'None' in sales_rank and color columns."
   ]
  },
  {
   "cell_type": "code",
   "execution_count": 729,
   "metadata": {},
   "outputs": [
    {
     "data": {
      "text/plain": [
       "brand           0\n",
       "category        0\n",
       "color           1\n",
       "features        0\n",
       "price           0\n",
       "sales_rank    252\n",
       "title           0\n",
       "dtype: int64"
      ]
     },
     "execution_count": 729,
     "metadata": {},
     "output_type": "execute_result"
    }
   ],
   "source": [
    "(df_all=='None').sum()"
   ]
  },
  {
   "cell_type": "code",
   "execution_count": 730,
   "metadata": {},
   "outputs": [
    {
     "data": {
      "text/plain": [
       "brand         object\n",
       "category      object\n",
       "color         object\n",
       "features      object\n",
       "price         object\n",
       "sales_rank    object\n",
       "title         object\n",
       "dtype: object"
      ]
     },
     "execution_count": 730,
     "metadata": {},
     "output_type": "execute_result"
    }
   ],
   "source": [
    "df_all.dtypes"
   ]
  },
  {
   "cell_type": "markdown",
   "metadata": {},
   "source": [
    "Convert these null data to float 'NaN' so that isnull() function can detect them"
   ]
  },
  {
   "cell_type": "code",
   "execution_count": 731,
   "metadata": {
    "collapsed": true
   },
   "outputs": [],
   "source": [
    "df_all[df_all == 'None'] = float('NaN')"
   ]
  },
  {
   "cell_type": "code",
   "execution_count": 732,
   "metadata": {},
   "outputs": [
    {
     "data": {
      "text/plain": [
       "brand           7\n",
       "category        0\n",
       "color         179\n",
       "features        0\n",
       "price          49\n",
       "sales_rank    252\n",
       "title           0\n",
       "dtype: int64"
      ]
     },
     "execution_count": 732,
     "metadata": {},
     "output_type": "execute_result"
    }
   ],
   "source": [
    "df_all.isnull().sum()"
   ]
  },
  {
   "cell_type": "markdown",
   "metadata": {},
   "source": [
    "Let's convert the price column to float"
   ]
  },
  {
   "cell_type": "code",
   "execution_count": 733,
   "metadata": {},
   "outputs": [],
   "source": [
    "def getPrice(x):\n",
    "    if x:\n",
    "        x = x.replace(',','.')\n",
    "        res = re.findall('\\d+.\\d+', x)\n",
    "        if res:\n",
    "            return float(res[0])\n",
    "        else:\n",
    "            return float('NaN')\n",
    "    else:\n",
    "        return x"
   ]
  },
  {
   "cell_type": "code",
   "execution_count": 734,
   "metadata": {
    "collapsed": true
   },
   "outputs": [],
   "source": [
    "df_all['price'] = df_all['price'].apply(getPrice)"
   ]
  },
  {
   "cell_type": "markdown",
   "metadata": {},
   "source": [
    "Convert sales_rank column to float. Normally, I would use int. However, as the pandas doesnt have the ability to store NaN values as int, I used float.\n",
    "ref. https://stackoverflow.com/a/21290084"
   ]
  },
  {
   "cell_type": "code",
   "execution_count": 735,
   "metadata": {},
   "outputs": [],
   "source": [
    "df_all['sales_rank'] = df_all['sales_rank'].astype(float)"
   ]
  },
  {
   "cell_type": "code",
   "execution_count": 736,
   "metadata": {},
   "outputs": [
    {
     "data": {
      "text/plain": [
       "brand          object\n",
       "category       object\n",
       "color          object\n",
       "features       object\n",
       "price         float64\n",
       "sales_rank    float64\n",
       "title          object\n",
       "dtype: object"
      ]
     },
     "execution_count": 736,
     "metadata": {},
     "output_type": "execute_result"
    }
   ],
   "source": [
    "df_all.dtypes"
   ]
  },
  {
   "cell_type": "code",
   "execution_count": 741,
   "metadata": {
    "collapsed": true
   },
   "outputs": [],
   "source": [
    "df_all['color'] = df_all['color'].str.lower()"
   ]
  },
  {
   "cell_type": "code",
   "execution_count": 754,
   "metadata": {
    "collapsed": true
   },
   "outputs": [],
   "source": [
    "def correct_typo(s):\n",
    "    if type(s) == str:\n",
    "        typo = {\"sliver\": \"silver\", \"golden\": \"gold\", \"balck\": \"black\", \"sless\": \"stainless\"}\n",
    "        for k, v in typo.items():\n",
    "            s = s.replace(k, v)\n",
    "    return s"
   ]
  },
  {
   "cell_type": "code",
   "execution_count": 755,
   "metadata": {
    "collapsed": true
   },
   "outputs": [],
   "source": [
    "df_all['color'] = df_all['color'].apply(correct_typo)"
   ]
  },
  {
   "cell_type": "code",
   "execution_count": 756,
   "metadata": {
    "collapsed": true
   },
   "outputs": [],
   "source": [
    "def correct_brands(s):\n",
    "    if type(s) == str:\n",
    "        typo = {\"Breville Juicer\": \"Breville\", \"Omega Juicers\": \"Omega\"}\n",
    "        for k, v in typo.items():\n",
    "            s = s.replace(k, v)\n",
    "    return s"
   ]
  },
  {
   "cell_type": "code",
   "execution_count": 757,
   "metadata": {
    "collapsed": true
   },
   "outputs": [],
   "source": [
    "df_all['brand'] = df_all['brand'].apply(correct_brands)"
   ]
  },
  {
   "cell_type": "markdown",
   "metadata": {},
   "source": [
    "### Exploratary Data Visualization"
   ]
  },
  {
   "cell_type": "code",
   "execution_count": 740,
   "metadata": {},
   "outputs": [
    {
     "data": {
      "text/html": [
       "<div>\n",
       "<style>\n",
       "    .dataframe thead tr:only-child th {\n",
       "        text-align: right;\n",
       "    }\n",
       "\n",
       "    .dataframe thead th {\n",
       "        text-align: left;\n",
       "    }\n",
       "\n",
       "    .dataframe tbody tr th {\n",
       "        vertical-align: top;\n",
       "    }\n",
       "</style>\n",
       "<table border=\"1\" class=\"dataframe\">\n",
       "  <thead>\n",
       "    <tr style=\"text-align: right;\">\n",
       "      <th></th>\n",
       "      <th>price</th>\n",
       "      <th>sales_rank</th>\n",
       "    </tr>\n",
       "  </thead>\n",
       "  <tbody>\n",
       "    <tr>\n",
       "      <th>count</th>\n",
       "      <td>953.000000</td>\n",
       "      <td>7.650000e+02</td>\n",
       "    </tr>\n",
       "    <tr>\n",
       "      <th>mean</th>\n",
       "      <td>215.676677</td>\n",
       "      <td>6.368142e+05</td>\n",
       "    </tr>\n",
       "    <tr>\n",
       "      <th>std</th>\n",
       "      <td>226.423316</td>\n",
       "      <td>6.210059e+05</td>\n",
       "    </tr>\n",
       "    <tr>\n",
       "      <th>min</th>\n",
       "      <td>1.019000</td>\n",
       "      <td>3.190000e+02</td>\n",
       "    </tr>\n",
       "    <tr>\n",
       "      <th>25%</th>\n",
       "      <td>39.950000</td>\n",
       "      <td>1.501720e+05</td>\n",
       "    </tr>\n",
       "    <tr>\n",
       "      <th>50%</th>\n",
       "      <td>119.920000</td>\n",
       "      <td>4.280410e+05</td>\n",
       "    </tr>\n",
       "    <tr>\n",
       "      <th>75%</th>\n",
       "      <td>345.950000</td>\n",
       "      <td>1.004701e+06</td>\n",
       "    </tr>\n",
       "    <tr>\n",
       "      <th>max</th>\n",
       "      <td>999.000000</td>\n",
       "      <td>5.004443e+06</td>\n",
       "    </tr>\n",
       "  </tbody>\n",
       "</table>\n",
       "</div>"
      ],
      "text/plain": [
       "            price    sales_rank\n",
       "count  953.000000  7.650000e+02\n",
       "mean   215.676677  6.368142e+05\n",
       "std    226.423316  6.210059e+05\n",
       "min      1.019000  3.190000e+02\n",
       "25%     39.950000  1.501720e+05\n",
       "50%    119.920000  4.280410e+05\n",
       "75%    345.950000  1.004701e+06\n",
       "max    999.000000  5.004443e+06"
      ]
     },
     "execution_count": 740,
     "metadata": {},
     "output_type": "execute_result"
    }
   ],
   "source": [
    "# classification problem. Find the importance of features to be in the first 25% in sales rank\n",
    "df_all.describe()"
   ]
  },
  {
   "cell_type": "markdown",
   "metadata": {},
   "source": [
    "There is a negative correlation between price and the sales rank especially for the prices greater than $100"
   ]
  },
  {
   "cell_type": "code",
   "execution_count": 796,
   "metadata": {},
   "outputs": [
    {
     "data": {
      "text/html": [
       "<div>\n",
       "<style>\n",
       "    .dataframe thead tr:only-child th {\n",
       "        text-align: right;\n",
       "    }\n",
       "\n",
       "    .dataframe thead th {\n",
       "        text-align: left;\n",
       "    }\n",
       "\n",
       "    .dataframe tbody tr th {\n",
       "        vertical-align: top;\n",
       "    }\n",
       "</style>\n",
       "<table border=\"1\" class=\"dataframe\">\n",
       "  <thead>\n",
       "    <tr style=\"text-align: right;\">\n",
       "      <th></th>\n",
       "      <th>sales_rank</th>\n",
       "      <th>price</th>\n",
       "    </tr>\n",
       "  </thead>\n",
       "  <tbody>\n",
       "    <tr>\n",
       "      <th>sales_rank</th>\n",
       "      <td>1.000000</td>\n",
       "      <td>0.117416</td>\n",
       "    </tr>\n",
       "    <tr>\n",
       "      <th>price</th>\n",
       "      <td>0.117416</td>\n",
       "      <td>1.000000</td>\n",
       "    </tr>\n",
       "  </tbody>\n",
       "</table>\n",
       "</div>"
      ],
      "text/plain": [
       "            sales_rank     price\n",
       "sales_rank    1.000000  0.117416\n",
       "price         0.117416  1.000000"
      ]
     },
     "execution_count": 796,
     "metadata": {},
     "output_type": "execute_result"
    },
    {
     "data": {
      "image/png": "[encoded data removed]",
      "text/plain": [
       "<matplotlib.figure.Figure at 0x1a5f06a0>"
      ]
     },
     "metadata": {},
     "output_type": "display_data"
    }
   ],
   "source": [
    "sns.lmplot(data=df_all, x='price', y='sales_rank')\n",
    "df_all[['sales_rank', 'price']].corr()"
   ]
  },
  {
   "cell_type": "code",
   "execution_count": 798,
   "metadata": {},
   "outputs": [
    {
     "data": {
      "text/html": [
       "<div>\n",
       "<style>\n",
       "    .dataframe thead tr:only-child th {\n",
       "        text-align: right;\n",
       "    }\n",
       "\n",
       "    .dataframe thead th {\n",
       "        text-align: left;\n",
       "    }\n",
       "\n",
       "    .dataframe tbody tr th {\n",
       "        vertical-align: top;\n",
       "    }\n",
       "</style>\n",
       "<table border=\"1\" class=\"dataframe\">\n",
       "  <thead>\n",
       "    <tr style=\"text-align: right;\">\n",
       "      <th></th>\n",
       "      <th>sales_rank</th>\n",
       "      <th>price</th>\n",
       "    </tr>\n",
       "  </thead>\n",
       "  <tbody>\n",
       "    <tr>\n",
       "      <th>sales_rank</th>\n",
       "      <td>1.000000</td>\n",
       "      <td>0.202261</td>\n",
       "    </tr>\n",
       "    <tr>\n",
       "      <th>price</th>\n",
       "      <td>0.202261</td>\n",
       "      <td>1.000000</td>\n",
       "    </tr>\n",
       "  </tbody>\n",
       "</table>\n",
       "</div>"
      ],
      "text/plain": [
       "            sales_rank     price\n",
       "sales_rank    1.000000  0.202261\n",
       "price         0.202261  1.000000"
      ]
     },
     "execution_count": 798,
     "metadata": {},
     "output_type": "execute_result"
    },
    {
     "data": {
      "image/png": "[encoded data removed]",
      "text/plain": [
       "<matplotlib.figure.Figure at 0x1a723438>"
      ]
     },
     "metadata": {},
     "output_type": "display_data"
    }
   ],
   "source": [
    "sns.lmplot(data=df_all[df_all['price'] > 100], x='price', y='sales_rank')\n",
    "df_all[df_all['price'] > 100][['sales_rank', 'price']].corr()"
   ]
  },
  {
   "cell_type": "markdown",
   "metadata": {},
   "source": [
    "Divide sales rank into four category:"
   ]
  },
  {
   "cell_type": "code",
   "execution_count": 744,
   "metadata": {},
   "outputs": [],
   "source": [
    "colr_srank_qcut = pd.qcut(df_all['sales_rank'], 4, labels=['0','1','2','3'])"
   ]
  },
  {
   "cell_type": "code",
   "execution_count": 746,
   "metadata": {},
   "outputs": [
    {
     "data": {
      "text/plain": [
       "B00004R93U    3\n",
       "B00004R93V    2\n",
       "B00004S8FH    1\n",
       "B00004S8FI    1\n",
       "B00004S8FJ    1\n",
       "Name: sales_rank, dtype: category\n",
       "Categories (4, object): [0 < 1 < 2 < 3]"
      ]
     },
     "execution_count": 746,
     "metadata": {},
     "output_type": "execute_result"
    }
   ],
   "source": [
    "colr_srank_qcut.head()"
   ]
  },
  {
   "cell_type": "markdown",
   "metadata": {},
   "source": [
    "Calculate the number of the juicers in specific color categories in each sales rank category:"
   ]
  },
  {
   "cell_type": "code",
   "execution_count": 748,
   "metadata": {},
   "outputs": [],
   "source": [
    "def getColors(carr):\n",
    "    clist = []\n",
    "    for c in carr:\n",
    "        if type(c) == str:\n",
    "            lis = re.split(\" |/|-|\\.|,|\\&\", c)\n",
    "            for l in lis:\n",
    "                if l == '' or l == 'and' or l=='steel':\n",
    "                    continue\n",
    "                if l == 'sliver':\n",
    "                    new_l = 'silver'\n",
    "                elif l == 'golden':\n",
    "                    new_l = 'gold'\n",
    "                elif l == 'balck':\n",
    "                    new_l = 'black'\n",
    "                elif l == 'sless':\n",
    "                    new_l = 'stainless'\n",
    "                else:\n",
    "                    new_l = l\n",
    "                clist.append(new_l)\n",
    "        \n",
    "    return clist"
   ]
  },
  {
   "cell_type": "code",
   "execution_count": 749,
   "metadata": {},
   "outputs": [],
   "source": [
    "serilist = []\n",
    "for i in range(4):\n",
    "    colors = df_all.loc[colr_srank_qcut[colr_srank_qcut == str(i)].index.tolist()]['color'].values\n",
    "    color_list = getColors(colors)\n",
    "    color_freq = dict(Counter(color_list))\n",
    "    serilist.append(pd.Series(color_freq))\n",
    "    #ordered_colors = sorted(color_freq.items(), key=operator.itemgetter(1), reverse=True)\n",
    "df = pd.concat(serilist, axis=1)"
   ]
  },
  {
   "cell_type": "code",
   "execution_count": 750,
   "metadata": {},
   "outputs": [],
   "source": [
    "df.dropna(inplace=True)"
   ]
  },
  {
   "cell_type": "code",
   "execution_count": 751,
   "metadata": {},
   "outputs": [
    {
     "data": {
      "text/html": [
       "<div>\n",
       "<style>\n",
       "    .dataframe thead tr:only-child th {\n",
       "        text-align: right;\n",
       "    }\n",
       "\n",
       "    .dataframe thead th {\n",
       "        text-align: left;\n",
       "    }\n",
       "\n",
       "    .dataframe tbody tr th {\n",
       "        vertical-align: top;\n",
       "    }\n",
       "</style>\n",
       "<table border=\"1\" class=\"dataframe\">\n",
       "  <thead>\n",
       "    <tr style=\"text-align: right;\">\n",
       "      <th></th>\n",
       "      <th>0</th>\n",
       "      <th>1</th>\n",
       "      <th>2</th>\n",
       "      <th>3</th>\n",
       "    </tr>\n",
       "  </thead>\n",
       "  <tbody>\n",
       "    <tr>\n",
       "      <th>black</th>\n",
       "      <td>38.0</td>\n",
       "      <td>26.0</td>\n",
       "      <td>40.0</td>\n",
       "      <td>20.0</td>\n",
       "    </tr>\n",
       "    <tr>\n",
       "      <th>blue</th>\n",
       "      <td>4.0</td>\n",
       "      <td>4.0</td>\n",
       "      <td>4.0</td>\n",
       "      <td>2.0</td>\n",
       "    </tr>\n",
       "    <tr>\n",
       "      <th>chrome</th>\n",
       "      <td>9.0</td>\n",
       "      <td>7.0</td>\n",
       "      <td>4.0</td>\n",
       "      <td>7.0</td>\n",
       "    </tr>\n",
       "    <tr>\n",
       "      <th>gold</th>\n",
       "      <td>2.0</td>\n",
       "      <td>1.0</td>\n",
       "      <td>1.0</td>\n",
       "      <td>1.0</td>\n",
       "    </tr>\n",
       "    <tr>\n",
       "      <th>gray</th>\n",
       "      <td>4.0</td>\n",
       "      <td>6.0</td>\n",
       "      <td>7.0</td>\n",
       "      <td>7.0</td>\n",
       "    </tr>\n",
       "    <tr>\n",
       "      <th>green</th>\n",
       "      <td>5.0</td>\n",
       "      <td>5.0</td>\n",
       "      <td>12.0</td>\n",
       "      <td>9.0</td>\n",
       "    </tr>\n",
       "    <tr>\n",
       "      <th>orange</th>\n",
       "      <td>3.0</td>\n",
       "      <td>6.0</td>\n",
       "      <td>6.0</td>\n",
       "      <td>6.0</td>\n",
       "    </tr>\n",
       "    <tr>\n",
       "      <th>pink</th>\n",
       "      <td>3.0</td>\n",
       "      <td>1.0</td>\n",
       "      <td>1.0</td>\n",
       "      <td>1.0</td>\n",
       "    </tr>\n",
       "    <tr>\n",
       "      <th>red</th>\n",
       "      <td>13.0</td>\n",
       "      <td>16.0</td>\n",
       "      <td>8.0</td>\n",
       "      <td>6.0</td>\n",
       "    </tr>\n",
       "    <tr>\n",
       "      <th>silver</th>\n",
       "      <td>48.0</td>\n",
       "      <td>32.0</td>\n",
       "      <td>32.0</td>\n",
       "      <td>27.0</td>\n",
       "    </tr>\n",
       "    <tr>\n",
       "      <th>stainless</th>\n",
       "      <td>22.0</td>\n",
       "      <td>22.0</td>\n",
       "      <td>11.0</td>\n",
       "      <td>11.0</td>\n",
       "    </tr>\n",
       "    <tr>\n",
       "      <th>white</th>\n",
       "      <td>35.0</td>\n",
       "      <td>46.0</td>\n",
       "      <td>45.0</td>\n",
       "      <td>35.0</td>\n",
       "    </tr>\n",
       "    <tr>\n",
       "      <th>yellow</th>\n",
       "      <td>4.0</td>\n",
       "      <td>2.0</td>\n",
       "      <td>7.0</td>\n",
       "      <td>5.0</td>\n",
       "    </tr>\n",
       "  </tbody>\n",
       "</table>\n",
       "</div>"
      ],
      "text/plain": [
       "              0     1     2     3\n",
       "black      38.0  26.0  40.0  20.0\n",
       "blue        4.0   4.0   4.0   2.0\n",
       "chrome      9.0   7.0   4.0   7.0\n",
       "gold        2.0   1.0   1.0   1.0\n",
       "gray        4.0   6.0   7.0   7.0\n",
       "green       5.0   5.0  12.0   9.0\n",
       "orange      3.0   6.0   6.0   6.0\n",
       "pink        3.0   1.0   1.0   1.0\n",
       "red        13.0  16.0   8.0   6.0\n",
       "silver     48.0  32.0  32.0  27.0\n",
       "stainless  22.0  22.0  11.0  11.0\n",
       "white      35.0  46.0  45.0  35.0\n",
       "yellow      4.0   2.0   7.0   5.0"
      ]
     },
     "execution_count": 751,
     "metadata": {},
     "output_type": "execute_result"
    }
   ],
   "source": [
    "df"
   ]
  },
  {
   "cell_type": "code",
   "execution_count": 753,
   "metadata": {
    "collapsed": true
   },
   "outputs": [],
   "source": [
    "top_color_list = df.index.tolist()"
   ]
  },
  {
   "cell_type": "code",
   "execution_count": 752,
   "metadata": {},
   "outputs": [
    {
     "data": {
      "text/plain": [
       "<matplotlib.axes._subplots.AxesSubplot at 0x188374e0>"
      ]
     },
     "execution_count": 752,
     "metadata": {},
     "output_type": "execute_result"
    },
    {
     "data": {
      "image/png": "[encoded data removed]",
      "text/plain": [
       "<matplotlib.figure.Figure at 0x18836390>"
      ]
     },
     "metadata": {},
     "output_type": "display_data"
    }
   ],
   "source": [
    "plt.figure(figsize=(5,5))\n",
    "sns.heatmap(df, cmap='magma')"
   ]
  },
  {
   "cell_type": "markdown",
   "metadata": {},
   "source": [
    "silver, black and white are most frequenly found colors in better sales ranks"
   ]
  },
  {
   "cell_type": "markdown",
   "metadata": {},
   "source": [
    "centrifugal, citrus and masticating juicers have smilar distributions in terms of sales rank"
   ]
  },
  {
   "cell_type": "code",
   "execution_count": 802,
   "metadata": {},
   "outputs": [
    {
     "data": {
      "text/html": [
       "<div>\n",
       "<style>\n",
       "    .dataframe thead tr:only-child th {\n",
       "        text-align: right;\n",
       "    }\n",
       "\n",
       "    .dataframe thead th {\n",
       "        text-align: left;\n",
       "    }\n",
       "\n",
       "    .dataframe tbody tr th {\n",
       "        vertical-align: top;\n",
       "    }\n",
       "</style>\n",
       "<table border=\"1\" class=\"dataframe\">\n",
       "  <thead>\n",
       "    <tr style=\"text-align: right;\">\n",
       "      <th></th>\n",
       "      <th>sales_rank</th>\n",
       "    </tr>\n",
       "    <tr>\n",
       "      <th>category</th>\n",
       "      <th></th>\n",
       "    </tr>\n",
       "  </thead>\n",
       "  <tbody>\n",
       "    <tr>\n",
       "      <th>centrifugal</th>\n",
       "      <td>667612.715909</td>\n",
       "    </tr>\n",
       "    <tr>\n",
       "      <th>citrus</th>\n",
       "      <td>676640.916256</td>\n",
       "    </tr>\n",
       "    <tr>\n",
       "      <th>masticating</th>\n",
       "      <td>582399.244966</td>\n",
       "    </tr>\n",
       "  </tbody>\n",
       "</table>\n",
       "</div>"
      ],
      "text/plain": [
       "                sales_rank\n",
       "category                  \n",
       "centrifugal  667612.715909\n",
       "citrus       676640.916256\n",
       "masticating  582399.244966"
      ]
     },
     "execution_count": 802,
     "metadata": {},
     "output_type": "execute_result"
    }
   ],
   "source": [
    "df_all.pivot_table(index='category', values='sales_rank')"
   ]
  },
  {
   "cell_type": "code",
   "execution_count": 801,
   "metadata": {},
   "outputs": [
    {
     "data": {
      "text/plain": [
       "<matplotlib.axes._subplots.AxesSubplot at 0x1aa775f8>"
      ]
     },
     "execution_count": 801,
     "metadata": {},
     "output_type": "execute_result"
    },
    {
     "data": {
      "image/png": "[encoded data removed]",
      "text/plain": [
       "<matplotlib.figure.Figure at 0x1aa77630>"
      ]
     },
     "metadata": {},
     "output_type": "display_data"
    }
   ],
   "source": [
    "plt.figure(figsize=(15,8))\n",
    "sns.violinplot(x='category', y='sales_rank', data=df_all)"
   ]
  },
  {
   "cell_type": "markdown",
   "metadata": {},
   "source": [
    "### Feature Engineering"
   ]
  },
  {
   "cell_type": "markdown",
   "metadata": {},
   "source": [
    "Determine brand distributions for each sales rank category"
   ]
  },
  {
   "cell_type": "code",
   "execution_count": 758,
   "metadata": {
    "collapsed": true
   },
   "outputs": [],
   "source": [
    "serilist = []\n",
    "for i in range(4):\n",
    "    brands = df_all.loc[colr_srank_qcut[colr_srank_qcut == str(i)].index.tolist()]['brand'].values.tolist()\n",
    "    color_freq = dict(Counter(brands))\n",
    "    serilist.append(pd.Series(color_freq))\n",
    "df = pd.concat(serilist, axis=1)"
   ]
  },
  {
   "cell_type": "code",
   "execution_count": 799,
   "metadata": {},
   "outputs": [
    {
     "data": {
      "text/plain": [
       "<matplotlib.axes._subplots.AxesSubplot at 0x1a782550>"
      ]
     },
     "execution_count": 799,
     "metadata": {},
     "output_type": "execute_result"
    },
    {
     "data": {
      "image/png": "[encoded data removed]",
      "text/plain": [
       "<matplotlib.figure.Figure at 0x1a72ad30>"
      ]
     },
     "metadata": {},
     "output_type": "display_data"
    }
   ],
   "source": [
    "plt.figure(figsize=(5,15))\n",
    "sns.heatmap(df, cmap='magma')"
   ]
  },
  {
   "cell_type": "markdown",
   "metadata": {},
   "source": [
    "As clearly seen Omega brand is in the best position."
   ]
  },
  {
   "cell_type": "markdown",
   "metadata": {},
   "source": [
    "Get the top 10 brands and convert them into dummy variables"
   ]
  },
  {
   "cell_type": "code",
   "execution_count": 760,
   "metadata": {},
   "outputs": [],
   "source": [
    "top_brand_list = df.sort_values(by=0, ascending=False).index.tolist()[:10]"
   ]
  },
  {
   "cell_type": "code",
   "execution_count": 761,
   "metadata": {},
   "outputs": [
    {
     "data": {
      "text/html": [
       "<div>\n",
       "<style>\n",
       "    .dataframe thead tr:only-child th {\n",
       "        text-align: right;\n",
       "    }\n",
       "\n",
       "    .dataframe thead th {\n",
       "        text-align: left;\n",
       "    }\n",
       "\n",
       "    .dataframe tbody tr th {\n",
       "        vertical-align: top;\n",
       "    }\n",
       "</style>\n",
       "<table border=\"1\" class=\"dataframe\">\n",
       "  <thead>\n",
       "    <tr style=\"text-align: right;\">\n",
       "      <th></th>\n",
       "      <th>Omega</th>\n",
       "      <th>Breville</th>\n",
       "      <th>Kuvings</th>\n",
       "      <th>Hamilton Beach</th>\n",
       "      <th>Tribest</th>\n",
       "      <th>Juiceman</th>\n",
       "      <th>Hurom</th>\n",
       "      <th>VonShef</th>\n",
       "      <th>Champion Juicer</th>\n",
       "      <th>Cuisinart</th>\n",
       "    </tr>\n",
       "  </thead>\n",
       "  <tbody>\n",
       "    <tr>\n",
       "      <th>B00004R93U</th>\n",
       "      <td>0.0</td>\n",
       "      <td>0.0</td>\n",
       "      <td>0.0</td>\n",
       "      <td>0.0</td>\n",
       "      <td>0.0</td>\n",
       "      <td>0.0</td>\n",
       "      <td>0.0</td>\n",
       "      <td>0.0</td>\n",
       "      <td>0.0</td>\n",
       "      <td>0.0</td>\n",
       "    </tr>\n",
       "    <tr>\n",
       "      <th>B00004R93V</th>\n",
       "      <td>0.0</td>\n",
       "      <td>0.0</td>\n",
       "      <td>0.0</td>\n",
       "      <td>0.0</td>\n",
       "      <td>0.0</td>\n",
       "      <td>0.0</td>\n",
       "      <td>0.0</td>\n",
       "      <td>0.0</td>\n",
       "      <td>0.0</td>\n",
       "      <td>0.0</td>\n",
       "    </tr>\n",
       "    <tr>\n",
       "      <th>B00004S8FH</th>\n",
       "      <td>0.0</td>\n",
       "      <td>0.0</td>\n",
       "      <td>0.0</td>\n",
       "      <td>0.0</td>\n",
       "      <td>0.0</td>\n",
       "      <td>0.0</td>\n",
       "      <td>0.0</td>\n",
       "      <td>0.0</td>\n",
       "      <td>0.0</td>\n",
       "      <td>0.0</td>\n",
       "    </tr>\n",
       "    <tr>\n",
       "      <th>B00004S8FI</th>\n",
       "      <td>0.0</td>\n",
       "      <td>0.0</td>\n",
       "      <td>0.0</td>\n",
       "      <td>0.0</td>\n",
       "      <td>0.0</td>\n",
       "      <td>0.0</td>\n",
       "      <td>0.0</td>\n",
       "      <td>0.0</td>\n",
       "      <td>0.0</td>\n",
       "      <td>0.0</td>\n",
       "    </tr>\n",
       "    <tr>\n",
       "      <th>B00004S8FJ</th>\n",
       "      <td>0.0</td>\n",
       "      <td>0.0</td>\n",
       "      <td>0.0</td>\n",
       "      <td>0.0</td>\n",
       "      <td>0.0</td>\n",
       "      <td>0.0</td>\n",
       "      <td>0.0</td>\n",
       "      <td>0.0</td>\n",
       "      <td>0.0</td>\n",
       "      <td>0.0</td>\n",
       "    </tr>\n",
       "  </tbody>\n",
       "</table>\n",
       "</div>"
      ],
      "text/plain": [
       "            Omega  Breville  Kuvings  Hamilton Beach  Tribest  Juiceman  \\\n",
       "B00004R93U    0.0       0.0      0.0             0.0      0.0       0.0   \n",
       "B00004R93V    0.0       0.0      0.0             0.0      0.0       0.0   \n",
       "B00004S8FH    0.0       0.0      0.0             0.0      0.0       0.0   \n",
       "B00004S8FI    0.0       0.0      0.0             0.0      0.0       0.0   \n",
       "B00004S8FJ    0.0       0.0      0.0             0.0      0.0       0.0   \n",
       "\n",
       "            Hurom  VonShef  Champion Juicer  Cuisinart  \n",
       "B00004R93U    0.0      0.0              0.0        0.0  \n",
       "B00004R93V    0.0      0.0              0.0        0.0  \n",
       "B00004S8FH    0.0      0.0              0.0        0.0  \n",
       "B00004S8FI    0.0      0.0              0.0        0.0  \n",
       "B00004S8FJ    0.0      0.0              0.0        0.0  "
      ]
     },
     "execution_count": 761,
     "metadata": {},
     "output_type": "execute_result"
    }
   ],
   "source": [
    "arr_brand_dummy = np.zeros(df_all.shape[0] * len(top_brand_list)).reshape(df_all.shape[0], len(top_brand_list))\n",
    "df_brand_dummy = pd.DataFrame(arr_brand_dummy, columns=top_brand_list, index=df_all.index)"
   ]
  },
  {
   "cell_type": "code",
   "execution_count": 762,
   "metadata": {
    "collapsed": true
   },
   "outputs": [],
   "source": [
    "for row in df_all.iterrows():\n",
    "    b = row[1]['brand']\n",
    "    if type(b) == str:\n",
    "        df_brand_dummy.loc[row[0]][row[1]['brand']] = 1"
   ]
  },
  {
   "cell_type": "code",
   "execution_count": 803,
   "metadata": {
    "scrolled": true
   },
   "outputs": [
    {
     "data": {
      "text/html": [
       "<div>\n",
       "<style>\n",
       "    .dataframe thead tr:only-child th {\n",
       "        text-align: right;\n",
       "    }\n",
       "\n",
       "    .dataframe thead th {\n",
       "        text-align: left;\n",
       "    }\n",
       "\n",
       "    .dataframe tbody tr th {\n",
       "        vertical-align: top;\n",
       "    }\n",
       "</style>\n",
       "<table border=\"1\" class=\"dataframe\">\n",
       "  <thead>\n",
       "    <tr style=\"text-align: right;\">\n",
       "      <th></th>\n",
       "      <th>Omega</th>\n",
       "      <th>Breville</th>\n",
       "      <th>Kuvings</th>\n",
       "      <th>Hamilton Beach</th>\n",
       "      <th>Tribest</th>\n",
       "      <th>Juiceman</th>\n",
       "      <th>Hurom</th>\n",
       "      <th>VonShef</th>\n",
       "      <th>Champion Juicer</th>\n",
       "      <th>Cuisinart</th>\n",
       "    </tr>\n",
       "  </thead>\n",
       "  <tbody>\n",
       "    <tr>\n",
       "      <th>B00004R93U</th>\n",
       "      <td>0.0</td>\n",
       "      <td>0.0</td>\n",
       "      <td>0.0</td>\n",
       "      <td>0.0</td>\n",
       "      <td>0.0</td>\n",
       "      <td>1.0</td>\n",
       "      <td>0.0</td>\n",
       "      <td>0.0</td>\n",
       "      <td>0.0</td>\n",
       "      <td>0.0</td>\n",
       "    </tr>\n",
       "    <tr>\n",
       "      <th>B00004R93V</th>\n",
       "      <td>0.0</td>\n",
       "      <td>0.0</td>\n",
       "      <td>0.0</td>\n",
       "      <td>0.0</td>\n",
       "      <td>0.0</td>\n",
       "      <td>1.0</td>\n",
       "      <td>0.0</td>\n",
       "      <td>0.0</td>\n",
       "      <td>0.0</td>\n",
       "      <td>0.0</td>\n",
       "    </tr>\n",
       "    <tr>\n",
       "      <th>B00004S8FH</th>\n",
       "      <td>0.0</td>\n",
       "      <td>0.0</td>\n",
       "      <td>0.0</td>\n",
       "      <td>0.0</td>\n",
       "      <td>0.0</td>\n",
       "      <td>0.0</td>\n",
       "      <td>0.0</td>\n",
       "      <td>0.0</td>\n",
       "      <td>0.0</td>\n",
       "      <td>0.0</td>\n",
       "    </tr>\n",
       "    <tr>\n",
       "      <th>B00004S8FI</th>\n",
       "      <td>0.0</td>\n",
       "      <td>0.0</td>\n",
       "      <td>0.0</td>\n",
       "      <td>0.0</td>\n",
       "      <td>0.0</td>\n",
       "      <td>0.0</td>\n",
       "      <td>0.0</td>\n",
       "      <td>0.0</td>\n",
       "      <td>0.0</td>\n",
       "      <td>0.0</td>\n",
       "    </tr>\n",
       "    <tr>\n",
       "      <th>B00004S8FJ</th>\n",
       "      <td>0.0</td>\n",
       "      <td>0.0</td>\n",
       "      <td>0.0</td>\n",
       "      <td>0.0</td>\n",
       "      <td>0.0</td>\n",
       "      <td>0.0</td>\n",
       "      <td>0.0</td>\n",
       "      <td>0.0</td>\n",
       "      <td>0.0</td>\n",
       "      <td>0.0</td>\n",
       "    </tr>\n",
       "  </tbody>\n",
       "</table>\n",
       "</div>"
      ],
      "text/plain": [
       "            Omega  Breville  Kuvings  Hamilton Beach  Tribest  Juiceman  \\\n",
       "B00004R93U    0.0       0.0      0.0             0.0      0.0       1.0   \n",
       "B00004R93V    0.0       0.0      0.0             0.0      0.0       1.0   \n",
       "B00004S8FH    0.0       0.0      0.0             0.0      0.0       0.0   \n",
       "B00004S8FI    0.0       0.0      0.0             0.0      0.0       0.0   \n",
       "B00004S8FJ    0.0       0.0      0.0             0.0      0.0       0.0   \n",
       "\n",
       "            Hurom  VonShef  Champion Juicer  Cuisinart  \n",
       "B00004R93U    0.0      0.0              0.0        0.0  \n",
       "B00004R93V    0.0      0.0              0.0        0.0  \n",
       "B00004S8FH    0.0      0.0              0.0        0.0  \n",
       "B00004S8FI    0.0      0.0              0.0        0.0  \n",
       "B00004S8FJ    0.0      0.0              0.0        0.0  "
      ]
     },
     "execution_count": 803,
     "metadata": {},
     "output_type": "execute_result"
    }
   ],
   "source": [
    "df_brand_dummy.head()"
   ]
  },
  {
   "cell_type": "markdown",
   "metadata": {},
   "source": [
    "Get the top 10 colors and convert them into dummy variables"
   ]
  },
  {
   "cell_type": "code",
   "execution_count": 764,
   "metadata": {},
   "outputs": [
    {
     "data": {
      "text/html": [
       "<div>\n",
       "<style>\n",
       "    .dataframe thead tr:only-child th {\n",
       "        text-align: right;\n",
       "    }\n",
       "\n",
       "    .dataframe thead th {\n",
       "        text-align: left;\n",
       "    }\n",
       "\n",
       "    .dataframe tbody tr th {\n",
       "        vertical-align: top;\n",
       "    }\n",
       "</style>\n",
       "<table border=\"1\" class=\"dataframe\">\n",
       "  <thead>\n",
       "    <tr style=\"text-align: right;\">\n",
       "      <th></th>\n",
       "      <th>black</th>\n",
       "      <th>blue</th>\n",
       "      <th>chrome</th>\n",
       "      <th>gold</th>\n",
       "      <th>gray</th>\n",
       "      <th>green</th>\n",
       "      <th>orange</th>\n",
       "      <th>pink</th>\n",
       "      <th>red</th>\n",
       "      <th>silver</th>\n",
       "      <th>stainless</th>\n",
       "      <th>white</th>\n",
       "      <th>yellow</th>\n",
       "    </tr>\n",
       "  </thead>\n",
       "  <tbody>\n",
       "    <tr>\n",
       "      <th>B00004R93U</th>\n",
       "      <td>0.0</td>\n",
       "      <td>0.0</td>\n",
       "      <td>0.0</td>\n",
       "      <td>0.0</td>\n",
       "      <td>0.0</td>\n",
       "      <td>0.0</td>\n",
       "      <td>0.0</td>\n",
       "      <td>0.0</td>\n",
       "      <td>0.0</td>\n",
       "      <td>0.0</td>\n",
       "      <td>0.0</td>\n",
       "      <td>0.0</td>\n",
       "      <td>0.0</td>\n",
       "    </tr>\n",
       "    <tr>\n",
       "      <th>B00004R93V</th>\n",
       "      <td>0.0</td>\n",
       "      <td>0.0</td>\n",
       "      <td>0.0</td>\n",
       "      <td>0.0</td>\n",
       "      <td>0.0</td>\n",
       "      <td>0.0</td>\n",
       "      <td>0.0</td>\n",
       "      <td>0.0</td>\n",
       "      <td>0.0</td>\n",
       "      <td>0.0</td>\n",
       "      <td>0.0</td>\n",
       "      <td>0.0</td>\n",
       "      <td>0.0</td>\n",
       "    </tr>\n",
       "    <tr>\n",
       "      <th>B00004S8FH</th>\n",
       "      <td>0.0</td>\n",
       "      <td>0.0</td>\n",
       "      <td>0.0</td>\n",
       "      <td>0.0</td>\n",
       "      <td>0.0</td>\n",
       "      <td>0.0</td>\n",
       "      <td>0.0</td>\n",
       "      <td>0.0</td>\n",
       "      <td>0.0</td>\n",
       "      <td>0.0</td>\n",
       "      <td>0.0</td>\n",
       "      <td>0.0</td>\n",
       "      <td>0.0</td>\n",
       "    </tr>\n",
       "    <tr>\n",
       "      <th>B00004S8FI</th>\n",
       "      <td>0.0</td>\n",
       "      <td>0.0</td>\n",
       "      <td>0.0</td>\n",
       "      <td>0.0</td>\n",
       "      <td>0.0</td>\n",
       "      <td>0.0</td>\n",
       "      <td>0.0</td>\n",
       "      <td>0.0</td>\n",
       "      <td>0.0</td>\n",
       "      <td>0.0</td>\n",
       "      <td>0.0</td>\n",
       "      <td>0.0</td>\n",
       "      <td>0.0</td>\n",
       "    </tr>\n",
       "    <tr>\n",
       "      <th>B00004S8FJ</th>\n",
       "      <td>0.0</td>\n",
       "      <td>0.0</td>\n",
       "      <td>0.0</td>\n",
       "      <td>0.0</td>\n",
       "      <td>0.0</td>\n",
       "      <td>0.0</td>\n",
       "      <td>0.0</td>\n",
       "      <td>0.0</td>\n",
       "      <td>0.0</td>\n",
       "      <td>0.0</td>\n",
       "      <td>0.0</td>\n",
       "      <td>0.0</td>\n",
       "      <td>0.0</td>\n",
       "    </tr>\n",
       "  </tbody>\n",
       "</table>\n",
       "</div>"
      ],
      "text/plain": [
       "            black  blue  chrome  gold  gray  green  orange  pink  red  silver  \\\n",
       "B00004R93U    0.0   0.0     0.0   0.0   0.0    0.0     0.0   0.0  0.0     0.0   \n",
       "B00004R93V    0.0   0.0     0.0   0.0   0.0    0.0     0.0   0.0  0.0     0.0   \n",
       "B00004S8FH    0.0   0.0     0.0   0.0   0.0    0.0     0.0   0.0  0.0     0.0   \n",
       "B00004S8FI    0.0   0.0     0.0   0.0   0.0    0.0     0.0   0.0  0.0     0.0   \n",
       "B00004S8FJ    0.0   0.0     0.0   0.0   0.0    0.0     0.0   0.0  0.0     0.0   \n",
       "\n",
       "            stainless  white  yellow  \n",
       "B00004R93U        0.0    0.0     0.0  \n",
       "B00004R93V        0.0    0.0     0.0  \n",
       "B00004S8FH        0.0    0.0     0.0  \n",
       "B00004S8FI        0.0    0.0     0.0  \n",
       "B00004S8FJ        0.0    0.0     0.0  "
      ]
     },
     "execution_count": 764,
     "metadata": {},
     "output_type": "execute_result"
    }
   ],
   "source": [
    "arr_color_dummy = np.zeros(df_all.shape[0] * len(top_color_list)).reshape(df_all.shape[0], len(top_color_list))\n",
    "df_color_dummy = pd.DataFrame(arr_color_dummy, columns=top_color_list, index=df_all.index)"
   ]
  },
  {
   "cell_type": "code",
   "execution_count": 765,
   "metadata": {},
   "outputs": [],
   "source": [
    "for row in df_all.iterrows():\n",
    "    c = row[1]['color']\n",
    "    if type(c) == str:\n",
    "        colors = list(set(top_color_list).intersection(set(re.split(\" |/|-|\\.|,|\\&\", c))))\n",
    "        df_color_dummy.loc[row[0]][colors] = 1"
   ]
  },
  {
   "cell_type": "code",
   "execution_count": 766,
   "metadata": {},
   "outputs": [
    {
     "data": {
      "text/html": [
       "<div>\n",
       "<style>\n",
       "    .dataframe thead tr:only-child th {\n",
       "        text-align: right;\n",
       "    }\n",
       "\n",
       "    .dataframe thead th {\n",
       "        text-align: left;\n",
       "    }\n",
       "\n",
       "    .dataframe tbody tr th {\n",
       "        vertical-align: top;\n",
       "    }\n",
       "</style>\n",
       "<table border=\"1\" class=\"dataframe\">\n",
       "  <thead>\n",
       "    <tr style=\"text-align: right;\">\n",
       "      <th></th>\n",
       "      <th>black</th>\n",
       "      <th>blue</th>\n",
       "      <th>chrome</th>\n",
       "      <th>gold</th>\n",
       "      <th>gray</th>\n",
       "      <th>green</th>\n",
       "      <th>orange</th>\n",
       "      <th>pink</th>\n",
       "      <th>red</th>\n",
       "      <th>silver</th>\n",
       "      <th>stainless</th>\n",
       "      <th>white</th>\n",
       "      <th>yellow</th>\n",
       "    </tr>\n",
       "  </thead>\n",
       "  <tbody>\n",
       "    <tr>\n",
       "      <th>B00004R93U</th>\n",
       "      <td>0.0</td>\n",
       "      <td>0.0</td>\n",
       "      <td>0.0</td>\n",
       "      <td>0.0</td>\n",
       "      <td>0.0</td>\n",
       "      <td>0.0</td>\n",
       "      <td>0.0</td>\n",
       "      <td>0.0</td>\n",
       "      <td>0.0</td>\n",
       "      <td>0.0</td>\n",
       "      <td>0.0</td>\n",
       "      <td>1.0</td>\n",
       "      <td>0.0</td>\n",
       "    </tr>\n",
       "    <tr>\n",
       "      <th>B00004R93V</th>\n",
       "      <td>0.0</td>\n",
       "      <td>0.0</td>\n",
       "      <td>0.0</td>\n",
       "      <td>0.0</td>\n",
       "      <td>0.0</td>\n",
       "      <td>0.0</td>\n",
       "      <td>0.0</td>\n",
       "      <td>0.0</td>\n",
       "      <td>0.0</td>\n",
       "      <td>0.0</td>\n",
       "      <td>0.0</td>\n",
       "      <td>1.0</td>\n",
       "      <td>0.0</td>\n",
       "    </tr>\n",
       "    <tr>\n",
       "      <th>B00004S8FH</th>\n",
       "      <td>0.0</td>\n",
       "      <td>0.0</td>\n",
       "      <td>0.0</td>\n",
       "      <td>0.0</td>\n",
       "      <td>0.0</td>\n",
       "      <td>0.0</td>\n",
       "      <td>0.0</td>\n",
       "      <td>0.0</td>\n",
       "      <td>0.0</td>\n",
       "      <td>0.0</td>\n",
       "      <td>0.0</td>\n",
       "      <td>1.0</td>\n",
       "      <td>0.0</td>\n",
       "    </tr>\n",
       "    <tr>\n",
       "      <th>B00004S8FI</th>\n",
       "      <td>0.0</td>\n",
       "      <td>0.0</td>\n",
       "      <td>0.0</td>\n",
       "      <td>0.0</td>\n",
       "      <td>0.0</td>\n",
       "      <td>0.0</td>\n",
       "      <td>0.0</td>\n",
       "      <td>0.0</td>\n",
       "      <td>0.0</td>\n",
       "      <td>0.0</td>\n",
       "      <td>0.0</td>\n",
       "      <td>1.0</td>\n",
       "      <td>0.0</td>\n",
       "    </tr>\n",
       "    <tr>\n",
       "      <th>B00004S8FJ</th>\n",
       "      <td>0.0</td>\n",
       "      <td>0.0</td>\n",
       "      <td>0.0</td>\n",
       "      <td>0.0</td>\n",
       "      <td>0.0</td>\n",
       "      <td>0.0</td>\n",
       "      <td>0.0</td>\n",
       "      <td>0.0</td>\n",
       "      <td>0.0</td>\n",
       "      <td>0.0</td>\n",
       "      <td>1.0</td>\n",
       "      <td>0.0</td>\n",
       "      <td>0.0</td>\n",
       "    </tr>\n",
       "  </tbody>\n",
       "</table>\n",
       "</div>"
      ],
      "text/plain": [
       "            black  blue  chrome  gold  gray  green  orange  pink  red  silver  \\\n",
       "B00004R93U    0.0   0.0     0.0   0.0   0.0    0.0     0.0   0.0  0.0     0.0   \n",
       "B00004R93V    0.0   0.0     0.0   0.0   0.0    0.0     0.0   0.0  0.0     0.0   \n",
       "B00004S8FH    0.0   0.0     0.0   0.0   0.0    0.0     0.0   0.0  0.0     0.0   \n",
       "B00004S8FI    0.0   0.0     0.0   0.0   0.0    0.0     0.0   0.0  0.0     0.0   \n",
       "B00004S8FJ    0.0   0.0     0.0   0.0   0.0    0.0     0.0   0.0  0.0     0.0   \n",
       "\n",
       "            stainless  white  yellow  \n",
       "B00004R93U        0.0    1.0     0.0  \n",
       "B00004R93V        0.0    1.0     0.0  \n",
       "B00004S8FH        0.0    1.0     0.0  \n",
       "B00004S8FI        0.0    1.0     0.0  \n",
       "B00004S8FJ        1.0    0.0     0.0  "
      ]
     },
     "execution_count": 766,
     "metadata": {},
     "output_type": "execute_result"
    }
   ],
   "source": [
    "df_color_dummy.head()"
   ]
  },
  {
   "cell_type": "markdown",
   "metadata": {},
   "source": [
    "Create dummy variables for the category column, too"
   ]
  },
  {
   "cell_type": "code",
   "execution_count": 767,
   "metadata": {},
   "outputs": [],
   "source": [
    "cat_dummy = pd.get_dummies(df_all['category'])"
   ]
  },
  {
   "cell_type": "code",
   "execution_count": 768,
   "metadata": {},
   "outputs": [
    {
     "data": {
      "text/html": [
       "<div>\n",
       "<style>\n",
       "    .dataframe thead tr:only-child th {\n",
       "        text-align: right;\n",
       "    }\n",
       "\n",
       "    .dataframe thead th {\n",
       "        text-align: left;\n",
       "    }\n",
       "\n",
       "    .dataframe tbody tr th {\n",
       "        vertical-align: top;\n",
       "    }\n",
       "</style>\n",
       "<table border=\"1\" class=\"dataframe\">\n",
       "  <thead>\n",
       "    <tr style=\"text-align: right;\">\n",
       "      <th></th>\n",
       "      <th>centrifugal</th>\n",
       "      <th>citrus</th>\n",
       "      <th>masticating</th>\n",
       "    </tr>\n",
       "  </thead>\n",
       "  <tbody>\n",
       "    <tr>\n",
       "      <th>B00004R93U</th>\n",
       "      <td>1</td>\n",
       "      <td>0</td>\n",
       "      <td>0</td>\n",
       "    </tr>\n",
       "    <tr>\n",
       "      <th>B00004R93V</th>\n",
       "      <td>1</td>\n",
       "      <td>0</td>\n",
       "      <td>0</td>\n",
       "    </tr>\n",
       "    <tr>\n",
       "      <th>B00004S8FH</th>\n",
       "      <td>1</td>\n",
       "      <td>0</td>\n",
       "      <td>0</td>\n",
       "    </tr>\n",
       "    <tr>\n",
       "      <th>B00004S8FI</th>\n",
       "      <td>0</td>\n",
       "      <td>1</td>\n",
       "      <td>0</td>\n",
       "    </tr>\n",
       "    <tr>\n",
       "      <th>B00004S8FJ</th>\n",
       "      <td>0</td>\n",
       "      <td>1</td>\n",
       "      <td>0</td>\n",
       "    </tr>\n",
       "  </tbody>\n",
       "</table>\n",
       "</div>"
      ],
      "text/plain": [
       "            centrifugal  citrus  masticating\n",
       "B00004R93U            1       0            0\n",
       "B00004R93V            1       0            0\n",
       "B00004S8FH            1       0            0\n",
       "B00004S8FI            0       1            0\n",
       "B00004S8FJ            0       1            0"
      ]
     },
     "execution_count": 768,
     "metadata": {},
     "output_type": "execute_result"
    }
   ],
   "source": [
    "cat_dummy.head()"
   ]
  },
  {
   "cell_type": "markdown",
   "metadata": {},
   "source": [
    "Now it is time to create target!"
   ]
  },
  {
   "cell_type": "code",
   "execution_count": 770,
   "metadata": {},
   "outputs": [],
   "source": [
    "target_sales_rank = pd.Series(np.zeros(df_all.shape[0]), index=df_all.index, name='target_sales_rank')"
   ]
  },
  {
   "cell_type": "code",
   "execution_count": 771,
   "metadata": {
    "collapsed": true
   },
   "outputs": [],
   "source": [
    "findex = colr_srank_qcut[colr_srank_qcut == '0'].index"
   ]
  },
  {
   "cell_type": "code",
   "execution_count": 772,
   "metadata": {
    "collapsed": true
   },
   "outputs": [],
   "source": [
    "target_sales_rank[findex] = 1"
   ]
  },
  {
   "cell_type": "code",
   "execution_count": 773,
   "metadata": {},
   "outputs": [
    {
     "data": {
      "text/plain": [
       "B00004R93U    0.0\n",
       "B00004R93V    0.0\n",
       "B00004S8FH    0.0\n",
       "B00004S8FI    0.0\n",
       "B00004S8FJ    0.0\n",
       "Name: target_sales_rank, dtype: float64"
      ]
     },
     "execution_count": 773,
     "metadata": {},
     "output_type": "execute_result"
    }
   ],
   "source": [
    "target_sales_rank.head()"
   ]
  },
  {
   "cell_type": "markdown",
   "metadata": {},
   "source": [
    "Create the final DataFrame:"
   ]
  },
  {
   "cell_type": "code",
   "execution_count": 774,
   "metadata": {},
   "outputs": [
    {
     "data": {
      "text/html": [
       "<div>\n",
       "<style>\n",
       "    .dataframe thead tr:only-child th {\n",
       "        text-align: right;\n",
       "    }\n",
       "\n",
       "    .dataframe thead th {\n",
       "        text-align: left;\n",
       "    }\n",
       "\n",
       "    .dataframe tbody tr th {\n",
       "        vertical-align: top;\n",
       "    }\n",
       "</style>\n",
       "<table border=\"1\" class=\"dataframe\">\n",
       "  <thead>\n",
       "    <tr style=\"text-align: right;\">\n",
       "      <th></th>\n",
       "      <th>centrifugal</th>\n",
       "      <th>citrus</th>\n",
       "      <th>masticating</th>\n",
       "      <th>Omega</th>\n",
       "      <th>Breville</th>\n",
       "      <th>Kuvings</th>\n",
       "      <th>Hamilton Beach</th>\n",
       "      <th>Tribest</th>\n",
       "      <th>Juiceman</th>\n",
       "      <th>Hurom</th>\n",
       "      <th>...</th>\n",
       "      <th>green</th>\n",
       "      <th>orange</th>\n",
       "      <th>pink</th>\n",
       "      <th>red</th>\n",
       "      <th>silver</th>\n",
       "      <th>stainless</th>\n",
       "      <th>white</th>\n",
       "      <th>yellow</th>\n",
       "      <th>price</th>\n",
       "      <th>target_sales_rank</th>\n",
       "    </tr>\n",
       "  </thead>\n",
       "  <tbody>\n",
       "    <tr>\n",
       "      <th>B00004R93U</th>\n",
       "      <td>1</td>\n",
       "      <td>0</td>\n",
       "      <td>0</td>\n",
       "      <td>0.0</td>\n",
       "      <td>0.0</td>\n",
       "      <td>0.0</td>\n",
       "      <td>0.0</td>\n",
       "      <td>0.0</td>\n",
       "      <td>1.0</td>\n",
       "      <td>0.0</td>\n",
       "      <td>...</td>\n",
       "      <td>0.0</td>\n",
       "      <td>0.0</td>\n",
       "      <td>0.0</td>\n",
       "      <td>0.0</td>\n",
       "      <td>0.0</td>\n",
       "      <td>0.0</td>\n",
       "      <td>1.0</td>\n",
       "      <td>0.0</td>\n",
       "      <td>158.98</td>\n",
       "      <td>0.0</td>\n",
       "    </tr>\n",
       "    <tr>\n",
       "      <th>B00004R93V</th>\n",
       "      <td>1</td>\n",
       "      <td>0</td>\n",
       "      <td>0</td>\n",
       "      <td>0.0</td>\n",
       "      <td>0.0</td>\n",
       "      <td>0.0</td>\n",
       "      <td>0.0</td>\n",
       "      <td>0.0</td>\n",
       "      <td>1.0</td>\n",
       "      <td>0.0</td>\n",
       "      <td>...</td>\n",
       "      <td>0.0</td>\n",
       "      <td>0.0</td>\n",
       "      <td>0.0</td>\n",
       "      <td>0.0</td>\n",
       "      <td>0.0</td>\n",
       "      <td>0.0</td>\n",
       "      <td>1.0</td>\n",
       "      <td>0.0</td>\n",
       "      <td>79.95</td>\n",
       "      <td>0.0</td>\n",
       "    </tr>\n",
       "    <tr>\n",
       "      <th>B00004S8FH</th>\n",
       "      <td>1</td>\n",
       "      <td>0</td>\n",
       "      <td>0</td>\n",
       "      <td>0.0</td>\n",
       "      <td>0.0</td>\n",
       "      <td>0.0</td>\n",
       "      <td>0.0</td>\n",
       "      <td>0.0</td>\n",
       "      <td>0.0</td>\n",
       "      <td>0.0</td>\n",
       "      <td>...</td>\n",
       "      <td>0.0</td>\n",
       "      <td>0.0</td>\n",
       "      <td>0.0</td>\n",
       "      <td>0.0</td>\n",
       "      <td>0.0</td>\n",
       "      <td>0.0</td>\n",
       "      <td>1.0</td>\n",
       "      <td>0.0</td>\n",
       "      <td>360.00</td>\n",
       "      <td>0.0</td>\n",
       "    </tr>\n",
       "    <tr>\n",
       "      <th>B00004S8FI</th>\n",
       "      <td>0</td>\n",
       "      <td>1</td>\n",
       "      <td>0</td>\n",
       "      <td>0.0</td>\n",
       "      <td>0.0</td>\n",
       "      <td>0.0</td>\n",
       "      <td>0.0</td>\n",
       "      <td>0.0</td>\n",
       "      <td>0.0</td>\n",
       "      <td>0.0</td>\n",
       "      <td>...</td>\n",
       "      <td>0.0</td>\n",
       "      <td>0.0</td>\n",
       "      <td>0.0</td>\n",
       "      <td>0.0</td>\n",
       "      <td>0.0</td>\n",
       "      <td>0.0</td>\n",
       "      <td>1.0</td>\n",
       "      <td>0.0</td>\n",
       "      <td>NaN</td>\n",
       "      <td>0.0</td>\n",
       "    </tr>\n",
       "    <tr>\n",
       "      <th>B00004S8FJ</th>\n",
       "      <td>0</td>\n",
       "      <td>1</td>\n",
       "      <td>0</td>\n",
       "      <td>0.0</td>\n",
       "      <td>0.0</td>\n",
       "      <td>0.0</td>\n",
       "      <td>0.0</td>\n",
       "      <td>0.0</td>\n",
       "      <td>0.0</td>\n",
       "      <td>0.0</td>\n",
       "      <td>...</td>\n",
       "      <td>0.0</td>\n",
       "      <td>0.0</td>\n",
       "      <td>0.0</td>\n",
       "      <td>0.0</td>\n",
       "      <td>0.0</td>\n",
       "      <td>1.0</td>\n",
       "      <td>0.0</td>\n",
       "      <td>0.0</td>\n",
       "      <td>149.99</td>\n",
       "      <td>0.0</td>\n",
       "    </tr>\n",
       "  </tbody>\n",
       "</table>\n",
       "<p>5 rows × 28 columns</p>\n",
       "</div>"
      ],
      "text/plain": [
       "            centrifugal  citrus  masticating  Omega  Breville  Kuvings  \\\n",
       "B00004R93U            1       0            0    0.0       0.0      0.0   \n",
       "B00004R93V            1       0            0    0.0       0.0      0.0   \n",
       "B00004S8FH            1       0            0    0.0       0.0      0.0   \n",
       "B00004S8FI            0       1            0    0.0       0.0      0.0   \n",
       "B00004S8FJ            0       1            0    0.0       0.0      0.0   \n",
       "\n",
       "            Hamilton Beach  Tribest  Juiceman  Hurom        ...          \\\n",
       "B00004R93U             0.0      0.0       1.0    0.0        ...           \n",
       "B00004R93V             0.0      0.0       1.0    0.0        ...           \n",
       "B00004S8FH             0.0      0.0       0.0    0.0        ...           \n",
       "B00004S8FI             0.0      0.0       0.0    0.0        ...           \n",
       "B00004S8FJ             0.0      0.0       0.0    0.0        ...           \n",
       "\n",
       "            green  orange  pink  red  silver  stainless  white  yellow  \\\n",
       "B00004R93U    0.0     0.0   0.0  0.0     0.0        0.0    1.0     0.0   \n",
       "B00004R93V    0.0     0.0   0.0  0.0     0.0        0.0    1.0     0.0   \n",
       "B00004S8FH    0.0     0.0   0.0  0.0     0.0        0.0    1.0     0.0   \n",
       "B00004S8FI    0.0     0.0   0.0  0.0     0.0        0.0    1.0     0.0   \n",
       "B00004S8FJ    0.0     0.0   0.0  0.0     0.0        1.0    0.0     0.0   \n",
       "\n",
       "             price  target_sales_rank  \n",
       "B00004R93U  158.98                0.0  \n",
       "B00004R93V   79.95                0.0  \n",
       "B00004S8FH  360.00                0.0  \n",
       "B00004S8FI     NaN                0.0  \n",
       "B00004S8FJ  149.99                0.0  \n",
       "\n",
       "[5 rows x 28 columns]"
      ]
     },
     "execution_count": 774,
     "metadata": {},
     "output_type": "execute_result"
    }
   ],
   "source": [
    "df_final = pd.concat([cat_dummy, df_brand_dummy, df_color_dummy, df_all['price'], target_sales_rank], axis=1)\n",
    "df_final.head()"
   ]
  },
  {
   "cell_type": "code",
   "execution_count": 775,
   "metadata": {},
   "outputs": [
    {
     "data": {
      "text/plain": [
       "(953, 28)"
      ]
     },
     "execution_count": 775,
     "metadata": {},
     "output_type": "execute_result"
    }
   ],
   "source": [
    "#df_final.fillna(-9999, inplace=True)\n",
    "df_final.dropna(inplace=True)\n",
    "df_final.shape"
   ]
  },
  {
   "cell_type": "markdown",
   "metadata": {},
   "source": [
    "### Working on the models"
   ]
  },
  {
   "cell_type": "markdown",
   "metadata": {},
   "source": [
    "Get input variables and output target"
   ]
  },
  {
   "cell_type": "code",
   "execution_count": 776,
   "metadata": {},
   "outputs": [],
   "source": [
    "X = df_final.drop('target_sales_rank', axis=1)\n",
    "y = df_final['target_sales_rank']"
   ]
  },
  {
   "cell_type": "markdown",
   "metadata": {},
   "source": [
    "Split train and test data"
   ]
  },
  {
   "cell_type": "code",
   "execution_count": 777,
   "metadata": {
    "collapsed": true
   },
   "outputs": [],
   "source": [
    "X_train, X_test, y_train, y_test = train_test_split(X, y, test_size=0.2)"
   ]
  },
  {
   "cell_type": "markdown",
   "metadata": {},
   "source": [
    "Use the following models"
   ]
  },
  {
   "cell_type": "code",
   "execution_count": 808,
   "metadata": {
    "collapsed": true
   },
   "outputs": [],
   "source": [
    "lm = linear_model\n",
    "models = {\n",
    "    'Logistic Regression': lm.LogisticRegression, \n",
    "    'Logistic Regression CV': lm.LogisticRegressionCV, \n",
    "    'Ridge': lm.RidgeClassifier, \n",
    "    'Random Forest': RandomForestClassifier, \n",
    "    'KNN': KNeighborsClassifier\n",
    "}"
   ]
  },
  {
   "cell_type": "markdown",
   "metadata": {},
   "source": [
    "Run a loop to test all the models, and list sorted scores"
   ]
  },
  {
   "cell_type": "code",
   "execution_count": 810,
   "metadata": {},
   "outputs": [
    {
     "name": "stdout",
     "output_type": "stream",
     "text": [
      "[('Logistic Regression CV', 0.81151832460732987), ('Logistic Regression', 0.80628272251308897), ('Ridge', 0.80628272251308897), ('Random Forest', 0.77486910994764402), ('KNN', 0.76963350785340312)]\n"
     ]
    }
   ],
   "source": [
    "scores = {}\n",
    "for name, model in models.items():\n",
    "    clf = model()\n",
    "    clf.fit(X_train, y_train)\n",
    "    score = clf.score(X_test, y_test)\n",
    "    scores.update({name: score})\n",
    "\n",
    "sorted_scores = sorted(scores.items(), key=operator.itemgetter(1), reverse=True)\n",
    "print(sorted_scores)"
   ]
  },
  {
   "cell_type": "markdown",
   "metadata": {},
   "source": [
    "Find the feature importance values for the best model Logistic Regression CV"
   ]
  },
  {
   "cell_type": "code",
   "execution_count": 811,
   "metadata": {},
   "outputs": [
    {
     "data": {
      "text/plain": [
       "0.81151832460732987"
      ]
     },
     "execution_count": 811,
     "metadata": {},
     "output_type": "execute_result"
    }
   ],
   "source": [
    "clf = linear_model.LogisticRegressionCV()\n",
    "clf.fit(X_train, y_train)\n",
    "clf.score(X_test, y_test)"
   ]
  },
  {
   "cell_type": "code",
   "execution_count": 783,
   "metadata": {},
   "outputs": [
    {
     "name": "stderr",
     "output_type": "stream",
     "text": [
      "C:\\Users\\plc03\\AppData\\Local\\Continuum\\anaconda3\\lib\\site-packages\\ipykernel_launcher.py:2: FutureWarning: reshape is deprecated and will raise in a subsequent release. Please use .values.reshape(...) instead\n",
      "  \n"
     ]
    }
   ],
   "source": [
    "#https://stackoverflow.com/questions/34052115/how-to-find-the-importance-of-the-features-for-a-logistic-regression-model\n",
    "importance_arr = np.std(X, 0).reshape(1, X.shape[1])*clf.coef_\n",
    "featurelist = X.columns.tolist()\n",
    "importance = {}\n",
    "for i, imp in enumerate(importance_arr[0]):\n",
    "    importance.update({featurelist[i]: imp})\n",
    "    \n",
    "ordered_importance = sorted(importance.items(), key=operator.itemgetter(1), reverse=True)"
   ]
  },
  {
   "cell_type": "code",
   "execution_count": 784,
   "metadata": {},
   "outputs": [
    {
     "data": {
      "text/plain": [
       "[('Omega', 0.36034190825623374),\n",
       " ('silver', 0.28213377438536991),\n",
       " ('stainless', 0.26199936922123251),\n",
       " ('white', 0.21836068214363968),\n",
       " ('black', 0.20826599715359734),\n",
       " ('Breville', 0.20115467072109164),\n",
       " ('VonShef', 0.18337606293582928),\n",
       " ('Champion Juicer', 0.18022407208561336),\n",
       " ('chrome', 0.13514005233476509),\n",
       " ('Tribest', 0.12756965693398106),\n",
       " ('red', 0.12055241814523275),\n",
       " ('Kuvings', 0.11847716738443988),\n",
       " ('Hurom', 0.10561853571884749),\n",
       " ('blue', 0.094802618620986184),\n",
       " ('Cuisinart', 0.094468075619355038),\n",
       " ('gold', 0.085835293563222961),\n",
       " ('yellow', 0.082709545860265563),\n",
       " ('pink', 0.075994203215242098),\n",
       " ('Hamilton Beach', 0.06741973270091324),\n",
       " ('Juiceman', 0.054801367120626027),\n",
       " ('masticating', 0.046902653848331921),\n",
       " ('orange', 0.023746514182864706),\n",
       " ('centrifugal', -0.0085268870433292156),\n",
       " ('gray', -0.1042835671153632),\n",
       " ('citrus', -0.11618674587682118),\n",
       " ('green', -0.12076008321113825),\n",
       " ('price', -0.66891205742303306)]"
      ]
     },
     "execution_count": 784,
     "metadata": {},
     "output_type": "execute_result"
    }
   ],
   "source": [
    "ordered_importance"
   ]
  },
  {
   "cell_type": "markdown",
   "metadata": {},
   "source": [
    "### Conclution"
   ]
  },
  {
   "cell_type": "markdown",
   "metadata": {},
   "source": [
    "As clearly seen the biggest influencer is the price. It is not surprising, right! Lower price is a means of getting better sales rank in juicer market, too.\n",
    "As for the brand Omega is the number one. The company has been in the market for a long period of time and has lots of successfull products. They clearly have credibility and trust on the customers.\n",
    "In terms of color, silver and stainless steel seems still the most demanding features. Worth to mention that the black and white options are close to them.\n",
    "As I guess in the beginning, when I draw the distributions of juicer categories, they don't have much influence on the sales sales rank.\n",
    "A final note: If Omega develops a new juicer in any category with silver color and low price, the success is guarantee :)"
   ]
  },
  {
   "cell_type": "code",
   "execution_count": null,
   "metadata": {
    "collapsed": true
   },
   "outputs": [],
   "source": []
  }
 ],
 "metadata": {
  "kernelspec": {
   "display_name": "Python 3",
   "language": "python",
   "name": "python3"
  },
  "language_info": {
   "codemirror_mode": {
    "name": "ipython",
    "version": 3
   },
   "file_extension": ".py",
   "mimetype": "text/x-python",
   "name": "python",
   "nbconvert_exporter": "python",
   "pygments_lexer": "ipython3",
   "version": "3.6.2"
  }
 },
 "nbformat": 4,
 "nbformat_minor": 2
}
