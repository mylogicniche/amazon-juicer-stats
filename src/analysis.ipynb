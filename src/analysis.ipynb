{
 "cells": [
  {
   "cell_type": "code",
   "execution_count": 45,
   "metadata": {
    "collapsed": true
   },
   "outputs": [],
   "source": [
    "import json\n",
    "import numpy as np\n",
    "import matplotlib.pyplot as plt\n",
    "import matplotlib.mlab as mlab\n",
    "import pandas as pd\n",
    "import re\n",
    "from sklearn import linear_model\n",
    "from sklearn.model_selection import train_test_split\n",
    "from sklearn import preprocessing\n",
    "from collections import Counter\n",
    "#from nltk.corpus import stopwords\n",
    "import string\n",
    "import operator\n",
    "import seaborn as sns\n",
    "%matplotlib inline"
   ]
  },
  {
   "cell_type": "code",
   "execution_count": 46,
   "metadata": {
    "collapsed": false
   },
   "outputs": [],
   "source": [
    "with open(\"../out/juicers.json\", \"r\") as f:\n",
    "    allJuicers = json.load(f)\n",
    "\n",
    "priceListByBrand = {}\n",
    "rankListByBrand = {}\n",
    "juicersByAsin = {}\n",
    "for cat, juicers in allJuicers.items():\n",
    "    for juicer in juicers:\n",
    "        asin = list(juicer.keys())[0]\n",
    "        val = list(juicer.values())[0]\n",
    "        val.update({\"category\":cat})\n",
    "        if any(x in val['title'].lower() for x in ['juice','juicer']):\n",
    "            juicersByAsin.update({asin: val})\n",
    "        else:\n",
    "            continue\n",
    "        brand = val['brand']\n",
    "        try:\n",
    "            if brand.lower() == 'breville juicer':\n",
    "                brand = 'breville'\n",
    "        except:\n",
    "            continue\n",
    "\n",
    "        try:\n",
    "            if brand.lower() == 'omega juicers':\n",
    "                brand = 'omega'\n",
    "        except:\n",
    "            continue\n",
    "        try:\n",
    "            priceListByBrand.setdefault(brand, []).append(float(val['price'][1:]))\n",
    "        except:\n",
    "            pass\n",
    "\n",
    "        try:\n",
    "            if not val['sales_rank'] == 'None':\n",
    "                rankListByBrand.setdefault(brand, []).append(int(val['sales_rank']))\n",
    "        except:\n",
    "            pass\n",
    "\n",
    "df_all = pd.DataFrame(juicersByAsin)\n",
    "\n",
    "df_all = df_all.T"
   ]
  },
  {
   "cell_type": "code",
   "execution_count": 47,
   "metadata": {
    "collapsed": false
   },
   "outputs": [
    {
     "data": {
      "text/html": [
       "<div>\n",
       "<style>\n",
       "    .dataframe thead tr:only-child th {\n",
       "        text-align: right;\n",
       "    }\n",
       "\n",
       "    .dataframe thead th {\n",
       "        text-align: left;\n",
       "    }\n",
       "\n",
       "    .dataframe tbody tr th {\n",
       "        vertical-align: top;\n",
       "    }\n",
       "</style>\n",
       "<table border=\"1\" class=\"dataframe\">\n",
       "  <thead>\n",
       "    <tr style=\"text-align: right;\">\n",
       "      <th></th>\n",
       "      <th>brand</th>\n",
       "      <th>category</th>\n",
       "      <th>color</th>\n",
       "      <th>features</th>\n",
       "      <th>price</th>\n",
       "      <th>sales_rank</th>\n",
       "      <th>title</th>\n",
       "    </tr>\n",
       "  </thead>\n",
       "  <tbody>\n",
       "    <tr>\n",
       "      <th>B00004R93U</th>\n",
       "      <td>Juiceman</td>\n",
       "      <td>centrifugal</td>\n",
       "      <td>Off-White</td>\n",
       "      <td>[Peppy 1/4-horsepower motor quickly juices mos...</td>\n",
       "      <td>$158.98</td>\n",
       "      <td>1006304</td>\n",
       "      <td>Juiceman Jr. Elite Pro JM211 Juice Extractor</td>\n",
       "    </tr>\n",
       "    <tr>\n",
       "      <th>B00004R93V</th>\n",
       "      <td>Juiceman</td>\n",
       "      <td>centrifugal</td>\n",
       "      <td>White</td>\n",
       "      <td>[Powerful 1/2-horsepower motor quickly juices ...</td>\n",
       "      <td>$79.95</td>\n",
       "      <td>778846</td>\n",
       "      <td>The Juiceman Electronic Professional Series 41...</td>\n",
       "    </tr>\n",
       "    <tr>\n",
       "      <th>B00004S8FH</th>\n",
       "      <td>Waring</td>\n",
       "      <td>centrifugal</td>\n",
       "      <td>White</td>\n",
       "      <td>[Converts all noncitrus fruits and vegetables ...</td>\n",
       "      <td>$360.00</td>\n",
       "      <td>227195</td>\n",
       "      <td>Waring PJE401 Juice Extractor, Quite White and...</td>\n",
       "    </tr>\n",
       "    <tr>\n",
       "      <th>B00004S8FI</th>\n",
       "      <td>Waring</td>\n",
       "      <td>citrus</td>\n",
       "      <td>Quite White</td>\n",
       "      <td>[Juices all citrus fruits, from limes to grape...</td>\n",
       "      <td>None</td>\n",
       "      <td>254788</td>\n",
       "      <td>Waring PCJ201 Citrus Juicer, Quite White</td>\n",
       "    </tr>\n",
       "    <tr>\n",
       "      <th>B00004S8FJ</th>\n",
       "      <td>Waring</td>\n",
       "      <td>citrus</td>\n",
       "      <td>Stainless Steel</td>\n",
       "      <td>[Juices all citrus fruits, from limes to grape...</td>\n",
       "      <td>$149.99</td>\n",
       "      <td>231125</td>\n",
       "      <td>Waring PCJ218 Citrus Juicer, Stainless Steel</td>\n",
       "    </tr>\n",
       "  </tbody>\n",
       "</table>\n",
       "</div>"
      ],
      "text/plain": [
       "               brand     category            color  \\\n",
       "B00004R93U  Juiceman  centrifugal        Off-White   \n",
       "B00004R93V  Juiceman  centrifugal            White   \n",
       "B00004S8FH    Waring  centrifugal            White   \n",
       "B00004S8FI    Waring       citrus      Quite White   \n",
       "B00004S8FJ    Waring       citrus  Stainless Steel   \n",
       "\n",
       "                                                     features    price  \\\n",
       "B00004R93U  [Peppy 1/4-horsepower motor quickly juices mos...  $158.98   \n",
       "B00004R93V  [Powerful 1/2-horsepower motor quickly juices ...   $79.95   \n",
       "B00004S8FH  [Converts all noncitrus fruits and vegetables ...  $360.00   \n",
       "B00004S8FI  [Juices all citrus fruits, from limes to grape...     None   \n",
       "B00004S8FJ  [Juices all citrus fruits, from limes to grape...  $149.99   \n",
       "\n",
       "           sales_rank                                              title  \n",
       "B00004R93U    1006304       Juiceman Jr. Elite Pro JM211 Juice Extractor  \n",
       "B00004R93V     778846  The Juiceman Electronic Professional Series 41...  \n",
       "B00004S8FH     227195  Waring PJE401 Juice Extractor, Quite White and...  \n",
       "B00004S8FI     254788           Waring PCJ201 Citrus Juicer, Quite White  \n",
       "B00004S8FJ     231125       Waring PCJ218 Citrus Juicer, Stainless Steel  "
      ]
     },
     "execution_count": 47,
     "metadata": {},
     "output_type": "execute_result"
    }
   ],
   "source": [
    "df_all.head()"
   ]
  },
  {
   "cell_type": "markdown",
   "metadata": {},
   "source": [
    "#### Let's check the general characteristics"
   ]
  },
  {
   "cell_type": "code",
   "execution_count": 48,
   "metadata": {
    "collapsed": false
   },
   "outputs": [
    {
     "name": "stdout",
     "output_type": "stream",
     "text": [
      "<class 'pandas.core.frame.DataFrame'>\n",
      "Index: 1017 entries, B00004R93U to B0739LW3XS\n",
      "Data columns (total 7 columns):\n",
      "brand         1010 non-null object\n",
      "category      1017 non-null object\n",
      "color         839 non-null object\n",
      "features      1017 non-null object\n",
      "price         968 non-null object\n",
      "sales_rank    1017 non-null object\n",
      "title         1017 non-null object\n",
      "dtypes: object(7)\n",
      "memory usage: 63.6+ KB\n"
     ]
    }
   ],
   "source": [
    "df_all.info()"
   ]
  },
  {
   "cell_type": "code",
   "execution_count": 49,
   "metadata": {
    "collapsed": false
   },
   "outputs": [
    {
     "data": {
      "text/plain": [
       "brand           7\n",
       "category        0\n",
       "color         178\n",
       "features        0\n",
       "price          49\n",
       "sales_rank      0\n",
       "title           0\n",
       "dtype: int64"
      ]
     },
     "execution_count": 49,
     "metadata": {},
     "output_type": "execute_result"
    }
   ],
   "source": [
    "df_all.isnull().sum()"
   ]
  },
  {
   "cell_type": "code",
   "execution_count": 50,
   "metadata": {
    "collapsed": false
   },
   "outputs": [
    {
     "data": {
      "text/plain": [
       "brand           0\n",
       "category        0\n",
       "color           1\n",
       "features        0\n",
       "price           0\n",
       "sales_rank    252\n",
       "title           0\n",
       "dtype: int64"
      ]
     },
     "execution_count": 50,
     "metadata": {},
     "output_type": "execute_result"
    }
   ],
   "source": [
    "(df_all=='None').sum()"
   ]
  },
  {
   "cell_type": "code",
   "execution_count": 51,
   "metadata": {
    "collapsed": false
   },
   "outputs": [
    {
     "data": {
      "text/plain": [
       "brand         object\n",
       "category      object\n",
       "color         object\n",
       "features      object\n",
       "price         object\n",
       "sales_rank    object\n",
       "title         object\n",
       "dtype: object"
      ]
     },
     "execution_count": 51,
     "metadata": {},
     "output_type": "execute_result"
    }
   ],
   "source": [
    "df_all.dtypes"
   ]
  },
  {
   "cell_type": "code",
   "execution_count": 52,
   "metadata": {
    "collapsed": true
   },
   "outputs": [],
   "source": [
    "df_all[df_all == 'None'] = float('NaN')"
   ]
  },
  {
   "cell_type": "code",
   "execution_count": 53,
   "metadata": {
    "collapsed": false
   },
   "outputs": [
    {
     "data": {
      "text/plain": [
       "brand           7\n",
       "category        0\n",
       "color         179\n",
       "features        0\n",
       "price          49\n",
       "sales_rank    252\n",
       "title           0\n",
       "dtype: int64"
      ]
     },
     "execution_count": 53,
     "metadata": {},
     "output_type": "execute_result"
    }
   ],
   "source": [
    "df_all.isnull().sum()"
   ]
  },
  {
   "cell_type": "code",
   "execution_count": 54,
   "metadata": {
    "collapsed": false
   },
   "outputs": [],
   "source": [
    "def getPrice(x):\n",
    "    if x:\n",
    "        x = x.replace(',','.')\n",
    "        res = re.findall('\\d+.\\d+', x)\n",
    "        if res:\n",
    "            return float(res[0])\n",
    "        else:\n",
    "            return float('NaN')\n",
    "    else:\n",
    "        return x"
   ]
  },
  {
   "cell_type": "code",
   "execution_count": 55,
   "metadata": {
    "collapsed": true
   },
   "outputs": [],
   "source": [
    "df_all['price'] = df_all['price'].apply(getPrice)"
   ]
  },
  {
   "cell_type": "code",
   "execution_count": 59,
   "metadata": {
    "collapsed": false
   },
   "outputs": [],
   "source": [
    "# Normally, I would use int. However, as the pandas doesnt have the ability to store NaN values as int, I used float\n",
    "# https://stackoverflow.com/a/21290084\n",
    "df_all['sales_rank'] = df_all['sales_rank'].astype(float)"
   ]
  },
  {
   "cell_type": "code",
   "execution_count": 60,
   "metadata": {
    "collapsed": false
   },
   "outputs": [
    {
     "data": {
      "text/plain": [
       "brand          object\n",
       "category       object\n",
       "color          object\n",
       "features       object\n",
       "price         float64\n",
       "sales_rank    float64\n",
       "title          object\n",
       "dtype: object"
      ]
     },
     "execution_count": 60,
     "metadata": {},
     "output_type": "execute_result"
    }
   ],
   "source": [
    "df_all.dtypes"
   ]
  },
  {
   "cell_type": "code",
   "execution_count": 63,
   "metadata": {
    "collapsed": false
   },
   "outputs": [
    {
     "data": {
      "text/plain": [
       "list"
      ]
     },
     "execution_count": 63,
     "metadata": {},
     "output_type": "execute_result"
    }
   ],
   "source": [
    "type(df_all['features'].iloc[0])"
   ]
  },
  {
   "cell_type": "code",
   "execution_count": 69,
   "metadata": {
    "collapsed": false
   },
   "outputs": [
    {
     "data": {
      "text/plain": [
       "<matplotlib.axes._subplots.AxesSubplot at 0x7fcbaad33940>"
      ]
     },
     "execution_count": 69,
     "metadata": {},
     "output_type": "execute_result"
    },
    {
     "data": {
      "image/png": "[encoded data removed]",
      "text/plain": [
       "<matplotlib.figure.Figure at 0x7fcba8431ba8>"
      ]
     },
     "metadata": {},
     "output_type": "display_data"
    }
   ],
   "source": [
    "plt.figure(figsize=(15,8))\n",
    "srank = df_all['sales_rank'].dropna()\n",
    "sns.distplot(srank, bins=100)"
   ]
  },
  {
   "cell_type": "code",
   "execution_count": 73,
   "metadata": {
    "collapsed": false
   },
   "outputs": [
    {
     "data": {
      "text/plain": [
       "<matplotlib.axes._subplots.AxesSubplot at 0x7fcba7d15a90>"
      ]
     },
     "execution_count": 73,
     "metadata": {},
     "output_type": "execute_result"
    },
    {
     "data": {
      "image/png": "[encoded data removed]",
      "text/plain": [
       "<matplotlib.figure.Figure at 0x7fcba7b5b668>"
      ]
     },
     "metadata": {},
     "output_type": "display_data"
    }
   ],
   "source": [
    "plt.figure(figsize=(15,8))\n",
    "sns.distplot(srank[srank < 2000000], bins=100)"
   ]
  },
  {
   "cell_type": "code",
   "execution_count": 74,
   "metadata": {
    "collapsed": false
   },
   "outputs": [
    {
     "data": {
      "text/html": [
       "<div>\n",
       "<style>\n",
       "    .dataframe thead tr:only-child th {\n",
       "        text-align: right;\n",
       "    }\n",
       "\n",
       "    .dataframe thead th {\n",
       "        text-align: left;\n",
       "    }\n",
       "\n",
       "    .dataframe tbody tr th {\n",
       "        vertical-align: top;\n",
       "    }\n",
       "</style>\n",
       "<table border=\"1\" class=\"dataframe\">\n",
       "  <thead>\n",
       "    <tr style=\"text-align: right;\">\n",
       "      <th></th>\n",
       "      <th>price</th>\n",
       "      <th>sales_rank</th>\n",
       "    </tr>\n",
       "  </thead>\n",
       "  <tbody>\n",
       "    <tr>\n",
       "      <th>count</th>\n",
       "      <td>953.000000</td>\n",
       "      <td>7.650000e+02</td>\n",
       "    </tr>\n",
       "    <tr>\n",
       "      <th>mean</th>\n",
       "      <td>215.676677</td>\n",
       "      <td>6.368142e+05</td>\n",
       "    </tr>\n",
       "    <tr>\n",
       "      <th>std</th>\n",
       "      <td>226.423316</td>\n",
       "      <td>6.210059e+05</td>\n",
       "    </tr>\n",
       "    <tr>\n",
       "      <th>min</th>\n",
       "      <td>1.019000</td>\n",
       "      <td>3.190000e+02</td>\n",
       "    </tr>\n",
       "    <tr>\n",
       "      <th>25%</th>\n",
       "      <td>39.950000</td>\n",
       "      <td>1.501720e+05</td>\n",
       "    </tr>\n",
       "    <tr>\n",
       "      <th>50%</th>\n",
       "      <td>119.920000</td>\n",
       "      <td>4.280410e+05</td>\n",
       "    </tr>\n",
       "    <tr>\n",
       "      <th>75%</th>\n",
       "      <td>345.950000</td>\n",
       "      <td>1.004701e+06</td>\n",
       "    </tr>\n",
       "    <tr>\n",
       "      <th>max</th>\n",
       "      <td>999.000000</td>\n",
       "      <td>5.004443e+06</td>\n",
       "    </tr>\n",
       "  </tbody>\n",
       "</table>\n",
       "</div>"
      ],
      "text/plain": [
       "            price    sales_rank\n",
       "count  953.000000  7.650000e+02\n",
       "mean   215.676677  6.368142e+05\n",
       "std    226.423316  6.210059e+05\n",
       "min      1.019000  3.190000e+02\n",
       "25%     39.950000  1.501720e+05\n",
       "50%    119.920000  4.280410e+05\n",
       "75%    345.950000  1.004701e+06\n",
       "max    999.000000  5.004443e+06"
      ]
     },
     "execution_count": 74,
     "metadata": {},
     "output_type": "execute_result"
    }
   ],
   "source": [
    "# classification problem. Find the importance of features to be in the first 25% in sales rank\n",
    "df_all.describe()"
   ]
  },
  {
   "cell_type": "code",
   "execution_count": 75,
   "metadata": {
    "collapsed": true
   },
   "outputs": [],
   "source": [
    "df_all['color'] = df_all['color'].str.lower()"
   ]
  },
  {
   "cell_type": "code",
   "execution_count": 80,
   "metadata": {
    "collapsed": false
   },
   "outputs": [],
   "source": [
    "color_srank = df_all.pivot_table(index='color', values=['sales_rank'], aggfunc=np.mean)"
   ]
  },
  {
   "cell_type": "code",
   "execution_count": 81,
   "metadata": {
    "collapsed": false
   },
   "outputs": [
    {
     "data": {
      "text/html": [
       "<div>\n",
       "<style>\n",
       "    .dataframe thead tr:only-child th {\n",
       "        text-align: right;\n",
       "    }\n",
       "\n",
       "    .dataframe thead th {\n",
       "        text-align: left;\n",
       "    }\n",
       "\n",
       "    .dataframe tbody tr th {\n",
       "        vertical-align: top;\n",
       "    }\n",
       "</style>\n",
       "<table border=\"1\" class=\"dataframe\">\n",
       "  <thead>\n",
       "    <tr style=\"text-align: right;\">\n",
       "      <th></th>\n",
       "      <th>sales_rank</th>\n",
       "    </tr>\n",
       "    <tr>\n",
       "      <th>color</th>\n",
       "      <th></th>\n",
       "    </tr>\n",
       "  </thead>\n",
       "  <tbody>\n",
       "    <tr>\n",
       "      <th>brushed stainless</th>\n",
       "      <td>4.626000e+03</td>\n",
       "    </tr>\n",
       "    <tr>\n",
       "      <th>sless/steel</th>\n",
       "      <td>1.080000e+04</td>\n",
       "    </tr>\n",
       "    <tr>\n",
       "      <th>red/black</th>\n",
       "      <td>1.590000e+04</td>\n",
       "    </tr>\n",
       "    <tr>\n",
       "      <th>piano varnish in silver color - sleek design</th>\n",
       "      <td>1.821100e+04</td>\n",
       "    </tr>\n",
       "    <tr>\n",
       "      <th>green/orange</th>\n",
       "      <td>1.931800e+04</td>\n",
       "    </tr>\n",
       "    <tr>\n",
       "      <th>black, clear, stainless</th>\n",
       "      <td>2.688300e+04</td>\n",
       "    </tr>\n",
       "    <tr>\n",
       "      <th>matte black</th>\n",
       "      <td>2.718200e+04</td>\n",
       "    </tr>\n",
       "    <tr>\n",
       "      <th>piano varnish in dark wine color - sleek design</th>\n",
       "      <td>2.741000e+04</td>\n",
       "    </tr>\n",
       "    <tr>\n",
       "      <th>silver (plastic)</th>\n",
       "      <td>3.251000e+04</td>\n",
       "    </tr>\n",
       "    <tr>\n",
       "      <th>piano varnish in golden brown - sleek design</th>\n",
       "      <td>3.484100e+04</td>\n",
       "    </tr>\n",
       "    <tr>\n",
       "      <th>aqua blue</th>\n",
       "      <td>3.623400e+04</td>\n",
       "    </tr>\n",
       "    <tr>\n",
       "      <th>rose gold</th>\n",
       "      <td>3.645900e+04</td>\n",
       "    </tr>\n",
       "    <tr>\n",
       "      <th>silver-black</th>\n",
       "      <td>3.652000e+04</td>\n",
       "    </tr>\n",
       "    <tr>\n",
       "      <th>watermelon red</th>\n",
       "      <td>4.351200e+04</td>\n",
       "    </tr>\n",
       "    <tr>\n",
       "      <th>stainless steel and white</th>\n",
       "      <td>5.194700e+04</td>\n",
       "    </tr>\n",
       "    <tr>\n",
       "      <th>dark gray</th>\n",
       "      <td>7.039400e+04</td>\n",
       "    </tr>\n",
       "    <tr>\n",
       "      <th>black &amp; stainless steel</th>\n",
       "      <td>7.088000e+04</td>\n",
       "    </tr>\n",
       "    <tr>\n",
       "      <th>glass</th>\n",
       "      <td>8.081100e+04</td>\n",
       "    </tr>\n",
       "    <tr>\n",
       "      <th>400w</th>\n",
       "      <td>8.506250e+04</td>\n",
       "    </tr>\n",
       "    <tr>\n",
       "      <th>manual</th>\n",
       "      <td>1.022120e+05</td>\n",
       "    </tr>\n",
       "    <tr>\n",
       "      <th>je98xl w/dvd</th>\n",
       "      <td>1.071730e+05</td>\n",
       "    </tr>\n",
       "    <tr>\n",
       "      <th>glass with yellow lid</th>\n",
       "      <td>1.124770e+05</td>\n",
       "    </tr>\n",
       "    <tr>\n",
       "      <th>silver- 3\" inches wide chute - 240w ac motor</th>\n",
       "      <td>1.197110e+05</td>\n",
       "    </tr>\n",
       "    <tr>\n",
       "      <th>clear</th>\n",
       "      <td>1.211166e+05</td>\n",
       "    </tr>\n",
       "    <tr>\n",
       "      <th>black anniversary package</th>\n",
       "      <td>1.273420e+05</td>\n",
       "    </tr>\n",
       "    <tr>\n",
       "      <th>black wrinkle</th>\n",
       "      <td>1.298740e+05</td>\n",
       "    </tr>\n",
       "    <tr>\n",
       "      <th>metallic</th>\n",
       "      <td>1.325340e+05</td>\n",
       "    </tr>\n",
       "    <tr>\n",
       "      <th>pink</th>\n",
       "      <td>1.341987e+05</td>\n",
       "    </tr>\n",
       "    <tr>\n",
       "      <th>black&amp;stainless steel</th>\n",
       "      <td>1.365340e+05</td>\n",
       "    </tr>\n",
       "    <tr>\n",
       "      <th>800w</th>\n",
       "      <td>1.478065e+05</td>\n",
       "    </tr>\n",
       "    <tr>\n",
       "      <th>...</th>\n",
       "      <td>...</td>\n",
       "    </tr>\n",
       "    <tr>\n",
       "      <th>balck</th>\n",
       "      <td>1.881212e+06</td>\n",
       "    </tr>\n",
       "    <tr>\n",
       "      <th>shined aluminum</th>\n",
       "      <td>1.897749e+06</td>\n",
       "    </tr>\n",
       "    <tr>\n",
       "      <th>orange, clear</th>\n",
       "      <td>1.988208e+06</td>\n",
       "    </tr>\n",
       "    <tr>\n",
       "      <th>s</th>\n",
       "      <td>2.012218e+06</td>\n",
       "    </tr>\n",
       "    <tr>\n",
       "      <th>b</th>\n",
       "      <td>2.887093e+06</td>\n",
       "    </tr>\n",
       "    <tr>\n",
       "      <th>pink white</th>\n",
       "      <td>5.004443e+06</td>\n",
       "    </tr>\n",
       "    <tr>\n",
       "      <th>110v</th>\n",
       "      <td>NaN</td>\n",
       "    </tr>\n",
       "    <tr>\n",
       "      <th>20-22 oranges per minute</th>\n",
       "      <td>NaN</td>\n",
       "    </tr>\n",
       "    <tr>\n",
       "      <th>220v</th>\n",
       "      <td>NaN</td>\n",
       "    </tr>\n",
       "    <tr>\n",
       "      <th>black+silver</th>\n",
       "      <td>NaN</td>\n",
       "    </tr>\n",
       "    <tr>\n",
       "      <th>black, silver</th>\n",
       "      <td>NaN</td>\n",
       "    </tr>\n",
       "    <tr>\n",
       "      <th>black/stainless steel</th>\n",
       "      <td>NaN</td>\n",
       "    </tr>\n",
       "    <tr>\n",
       "      <th>brown</th>\n",
       "      <td>NaN</td>\n",
       "    </tr>\n",
       "    <tr>\n",
       "      <th>chery</th>\n",
       "      <td>NaN</td>\n",
       "    </tr>\n",
       "    <tr>\n",
       "      <th>ferrari red</th>\n",
       "      <td>NaN</td>\n",
       "    </tr>\n",
       "    <tr>\n",
       "      <th>golden</th>\n",
       "      <td>NaN</td>\n",
       "    </tr>\n",
       "    <tr>\n",
       "      <th>green (450ml)</th>\n",
       "      <td>NaN</td>\n",
       "    </tr>\n",
       "    <tr>\n",
       "      <th>green and yellow</th>\n",
       "      <td>NaN</td>\n",
       "    </tr>\n",
       "    <tr>\n",
       "      <th>metal color</th>\n",
       "      <td>NaN</td>\n",
       "    </tr>\n",
       "    <tr>\n",
       "      <th>plastic tanks</th>\n",
       "      <td>NaN</td>\n",
       "    </tr>\n",
       "    <tr>\n",
       "      <th>silver&amp;black</th>\n",
       "      <td>NaN</td>\n",
       "    </tr>\n",
       "    <tr>\n",
       "      <th>sliver gray</th>\n",
       "      <td>NaN</td>\n",
       "    </tr>\n",
       "    <tr>\n",
       "      <th>standard type</th>\n",
       "      <td>NaN</td>\n",
       "    </tr>\n",
       "    <tr>\n",
       "      <th>violet</th>\n",
       "      <td>NaN</td>\n",
       "    </tr>\n",
       "    <tr>\n",
       "      <th>walnut</th>\n",
       "      <td>NaN</td>\n",
       "    </tr>\n",
       "    <tr>\n",
       "      <th>white and off white</th>\n",
       "      <td>NaN</td>\n",
       "    </tr>\n",
       "    <tr>\n",
       "      <th>white and orange</th>\n",
       "      <td>NaN</td>\n",
       "    </tr>\n",
       "    <tr>\n",
       "      <th>white-clear</th>\n",
       "      <td>NaN</td>\n",
       "    </tr>\n",
       "    <tr>\n",
       "      <th>white/orange</th>\n",
       "      <td>NaN</td>\n",
       "    </tr>\n",
       "    <tr>\n",
       "      <th>ฺสฟแา</th>\n",
       "      <td>NaN</td>\n",
       "    </tr>\n",
       "  </tbody>\n",
       "</table>\n",
       "<p>161 rows × 1 columns</p>\n",
       "</div>"
      ],
      "text/plain": [
       "                                                   sales_rank\n",
       "color                                                        \n",
       "brushed stainless                                4.626000e+03\n",
       "sless/steel                                      1.080000e+04\n",
       "red/black                                        1.590000e+04\n",
       "piano varnish in silver color - sleek design     1.821100e+04\n",
       "green/orange                                     1.931800e+04\n",
       "black, clear, stainless                          2.688300e+04\n",
       "matte black                                      2.718200e+04\n",
       "piano varnish in dark wine color - sleek design  2.741000e+04\n",
       "silver (plastic)                                 3.251000e+04\n",
       "piano varnish in golden brown - sleek design     3.484100e+04\n",
       "aqua blue                                        3.623400e+04\n",
       "rose gold                                        3.645900e+04\n",
       "silver-black                                     3.652000e+04\n",
       "watermelon red                                   4.351200e+04\n",
       "stainless steel and white                        5.194700e+04\n",
       "dark gray                                        7.039400e+04\n",
       "black & stainless steel                          7.088000e+04\n",
       "glass                                            8.081100e+04\n",
       "400w                                             8.506250e+04\n",
       "manual                                           1.022120e+05\n",
       "je98xl w/dvd                                     1.071730e+05\n",
       "glass with yellow lid                            1.124770e+05\n",
       "silver- 3\" inches wide chute - 240w ac motor     1.197110e+05\n",
       "clear                                            1.211166e+05\n",
       "black anniversary package                        1.273420e+05\n",
       "black wrinkle                                    1.298740e+05\n",
       "metallic                                         1.325340e+05\n",
       "pink                                             1.341987e+05\n",
       "black&stainless steel                            1.365340e+05\n",
       "800w                                             1.478065e+05\n",
       "...                                                       ...\n",
       "balck                                            1.881212e+06\n",
       "shined aluminum                                  1.897749e+06\n",
       "orange, clear                                    1.988208e+06\n",
       "s                                                2.012218e+06\n",
       "b                                                2.887093e+06\n",
       "pink white                                       5.004443e+06\n",
       "110v                                                      NaN\n",
       "20-22 oranges per minute                                  NaN\n",
       "220v                                                      NaN\n",
       "black+silver                                              NaN\n",
       "black, silver                                             NaN\n",
       "black/stainless steel                                     NaN\n",
       "brown                                                     NaN\n",
       "chery                                                     NaN\n",
       "ferrari red                                               NaN\n",
       "golden                                                    NaN\n",
       "green (450ml)                                             NaN\n",
       "green and yellow                                          NaN\n",
       "metal color                                               NaN\n",
       "plastic tanks                                             NaN\n",
       "silver&black                                              NaN\n",
       "sliver gray                                               NaN\n",
       "standard type                                             NaN\n",
       "violet                                                    NaN\n",
       "walnut                                                    NaN\n",
       "white and off white                                       NaN\n",
       "white and orange                                          NaN\n",
       "white-clear                                               NaN\n",
       "white/orange                                              NaN\n",
       "ฺสฟแา                                                     NaN\n",
       "\n",
       "[161 rows x 1 columns]"
      ]
     },
     "execution_count": 81,
     "metadata": {},
     "output_type": "execute_result"
    },
    {
     "data": {
      "text/plain": [
       "<matplotlib.figure.Figure at 0x7fcba7825dd8>"
      ]
     },
     "metadata": {},
     "output_type": "display_data"
    }
   ],
   "source": [
    "plt.figure(figsize=(15,8))\n",
    "color_srank.sort_values(by='sales_rank')"
   ]
  },
  {
   "cell_type": "code",
   "execution_count": 97,
   "metadata": {
    "collapsed": false
   },
   "outputs": [],
   "source": [
    "colr_srank_qcut = pd.qcut(df_all['sales_rank'], 4, labels=['0','1','2','3'])"
   ]
  },
  {
   "cell_type": "code",
   "execution_count": 99,
   "metadata": {
    "collapsed": false
   },
   "outputs": [
    {
     "data": {
      "text/plain": [
       "191"
      ]
     },
     "execution_count": 99,
     "metadata": {},
     "output_type": "execute_result"
    }
   ],
   "source": [
    "colr_srank_qcut[colr_srank_qcut=='2'].shape[0]"
   ]
  },
  {
   "cell_type": "code",
   "execution_count": 101,
   "metadata": {
    "collapsed": false
   },
   "outputs": [
    {
     "data": {
      "text/plain": [
       "B00004R93U      3\n",
       "B00004R93V      2\n",
       "B00004S8FH      1\n",
       "B00004S8FI      1\n",
       "B00004S8FJ      1\n",
       "B00004SC51      1\n",
       "B00004X139      2\n",
       "B00005MF9O      3\n",
       "B00005OTY9      1\n",
       "B00005V3W4      3\n",
       "B00006IUTM      3\n",
       "B00006IUVN      3\n",
       "B00006IUZK      1\n",
       "B00008ZCKV      1\n",
       "B00009ENKU      0\n",
       "B00009ENKV      1\n",
       "B00009K3T2      1\n",
       "B00009KO85      1\n",
       "B0000DDVN4      1\n",
       "B0000DDVUO      2\n",
       "B0000VLI5K      0\n",
       "B0000ZP3MA      1\n",
       "B0000ZP3MK      1\n",
       "B00015NMWC      0\n",
       "B00016AFOE      3\n",
       "B0001BMZ2O      2\n",
       "B0001IT0IY      2\n",
       "B0001IWX2Y      3\n",
       "B0001LB9R6      2\n",
       "B00023XDJA      0\n",
       "             ... \n",
       "B071V8FMMR    NaN\n",
       "B071VK2TBD      2\n",
       "B071VZ6QG3    NaN\n",
       "B071WJG4YB    NaN\n",
       "B071YBRX3Y    NaN\n",
       "B071YHPCDP      0\n",
       "B071ZJF54D    NaN\n",
       "B071ZVQSP5      0\n",
       "B0722L18HQ      0\n",
       "B0722Q8JF4    NaN\n",
       "B0725RHNKW    NaN\n",
       "B0725W7MGP    NaN\n",
       "B0727PP8JX      1\n",
       "B072C2W4CJ    NaN\n",
       "B072C6J1XX    NaN\n",
       "B072F6YFXJ      0\n",
       "B072J2VHYJ      0\n",
       "B072JSQ159      0\n",
       "B072JXNTNS    NaN\n",
       "B072JYV9Z9    NaN\n",
       "B072KSZ8KD    NaN\n",
       "B072NBBHWJ    NaN\n",
       "B072ND9V5C    NaN\n",
       "B072P2YQXD    NaN\n",
       "B072SV42RJ      1\n",
       "B072TZ3F78    NaN\n",
       "B072VL3FXH    NaN\n",
       "B072WPDGDN      1\n",
       "B073345HMW    NaN\n",
       "B0739LW3XS    NaN\n",
       "Name: sales_rank, Length: 1017, dtype: category\n",
       "Categories (4, object): [0 < 1 < 2 < 3]"
      ]
     },
     "execution_count": 101,
     "metadata": {},
     "output_type": "execute_result"
    }
   ],
   "source": [
    "colr_srank_qcut"
   ]
  }
 ],
 "metadata": {
  "kernelspec": {
   "display_name": "Python 3",
   "language": "python",
   "name": "python3"
  },
  "language_info": {
   "codemirror_mode": {
    "name": "ipython",
    "version": 3
   },
   "file_extension": ".py",
   "mimetype": "text/x-python",
   "name": "python",
   "nbconvert_exporter": "python",
   "pygments_lexer": "ipython3",
   "version": "3.5.3"
  }
 },
 "nbformat": 4,
 "nbformat_minor": 2
}
