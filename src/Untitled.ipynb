{
 "cells": [
  {
   "cell_type": "code",
   "execution_count": 1,
   "metadata": {
    "collapsed": true
   },
   "outputs": [],
   "source": [
    "import json\n",
    "import numpy as np\n",
    "import matplotlib.pyplot as plt\n",
    "import matplotlib.mlab as mlab\n",
    "import pandas as pd\n",
    "import re\n",
    "from sklearn import linear_model\n",
    "from sklearn.model_selection import train_test_split\n",
    "from sklearn import preprocessing\n",
    "from collections import Counter\n",
    "#from nltk.corpus import stopwords\n",
    "import string\n",
    "import operator\n",
    "import seaborn as sns\n",
    "%matplotlib inline"
   ]
  },
  {
   "cell_type": "code",
   "execution_count": 2,
   "metadata": {
    "collapsed": false
   },
   "outputs": [
    {
     "data": {
      "text/html": [
       "<div>\n",
       "<style>\n",
       "    .dataframe thead tr:only-child th {\n",
       "        text-align: right;\n",
       "    }\n",
       "\n",
       "    .dataframe thead th {\n",
       "        text-align: left;\n",
       "    }\n",
       "\n",
       "    .dataframe tbody tr th {\n",
       "        vertical-align: top;\n",
       "    }\n",
       "</style>\n",
       "<table border=\"1\" class=\"dataframe\">\n",
       "  <thead>\n",
       "    <tr style=\"text-align: right;\">\n",
       "      <th></th>\n",
       "      <th>B00004R93U</th>\n",
       "      <th>B00004R93V</th>\n",
       "      <th>B00004S8FH</th>\n",
       "      <th>B00004S8FI</th>\n",
       "      <th>B00004S8FJ</th>\n",
       "      <th>B00004SC51</th>\n",
       "      <th>B00004X139</th>\n",
       "      <th>B00005MF9O</th>\n",
       "      <th>B00005OTY9</th>\n",
       "      <th>B00005V3W4</th>\n",
       "      <th>...</th>\n",
       "      <th>B072KSZ8KD</th>\n",
       "      <th>B072NBBHWJ</th>\n",
       "      <th>B072ND9V5C</th>\n",
       "      <th>B072P2YQXD</th>\n",
       "      <th>B072SV42RJ</th>\n",
       "      <th>B072TZ3F78</th>\n",
       "      <th>B072VL3FXH</th>\n",
       "      <th>B072WPDGDN</th>\n",
       "      <th>B073345HMW</th>\n",
       "      <th>B0739LW3XS</th>\n",
       "    </tr>\n",
       "  </thead>\n",
       "  <tbody>\n",
       "    <tr>\n",
       "      <th>brand</th>\n",
       "      <td>Juiceman</td>\n",
       "      <td>Juiceman</td>\n",
       "      <td>Waring</td>\n",
       "      <td>Waring</td>\n",
       "      <td>Waring</td>\n",
       "      <td>BLACK+DECKER</td>\n",
       "      <td>Hamilton Beach</td>\n",
       "      <td>BLACK+DECKER</td>\n",
       "      <td>Juiceman</td>\n",
       "      <td>Hamilton Beach</td>\n",
       "      <td>...</td>\n",
       "      <td>Robot Coupe</td>\n",
       "      <td>XmiPbs</td>\n",
       "      <td>Robot Coupe</td>\n",
       "      <td>Pawaca</td>\n",
       "      <td>Frigidairenire</td>\n",
       "      <td>iPstyle</td>\n",
       "      <td>Decdeal</td>\n",
       "      <td>Raylans</td>\n",
       "      <td>GTT</td>\n",
       "      <td>LOVSHARE</td>\n",
       "    </tr>\n",
       "    <tr>\n",
       "      <th>category</th>\n",
       "      <td>centrifugal</td>\n",
       "      <td>centrifugal</td>\n",
       "      <td>centrifugal</td>\n",
       "      <td>citrus</td>\n",
       "      <td>citrus</td>\n",
       "      <td>citrus</td>\n",
       "      <td>centrifugal</td>\n",
       "      <td>citrus</td>\n",
       "      <td>centrifugal</td>\n",
       "      <td>centrifugal</td>\n",
       "      <td>...</td>\n",
       "      <td>centrifugal</td>\n",
       "      <td>citrus</td>\n",
       "      <td>centrifugal</td>\n",
       "      <td>masticating</td>\n",
       "      <td>centrifugal</td>\n",
       "      <td>centrifugal</td>\n",
       "      <td>centrifugal</td>\n",
       "      <td>centrifugal</td>\n",
       "      <td>centrifugal</td>\n",
       "      <td>centrifugal</td>\n",
       "    </tr>\n",
       "    <tr>\n",
       "      <th>color</th>\n",
       "      <td>Off-White</td>\n",
       "      <td>White</td>\n",
       "      <td>White</td>\n",
       "      <td>Quite White</td>\n",
       "      <td>Stainless Steel</td>\n",
       "      <td>None</td>\n",
       "      <td>White</td>\n",
       "      <td>Blue</td>\n",
       "      <td>White</td>\n",
       "      <td>None</td>\n",
       "      <td>...</td>\n",
       "      <td>None</td>\n",
       "      <td>Pink</td>\n",
       "      <td>None</td>\n",
       "      <td>Green</td>\n",
       "      <td>Purple</td>\n",
       "      <td>Green</td>\n",
       "      <td>None</td>\n",
       "      <td>Blue</td>\n",
       "      <td>Purple</td>\n",
       "      <td>None</td>\n",
       "    </tr>\n",
       "    <tr>\n",
       "      <th>features</th>\n",
       "      <td>[Peppy 1/4-horsepower motor quickly juices mos...</td>\n",
       "      <td>[Powerful 1/2-horsepower motor quickly juices ...</td>\n",
       "      <td>[Converts all noncitrus fruits and vegetables ...</td>\n",
       "      <td>[Juices all citrus fruits, from limes to grape...</td>\n",
       "      <td>[Juices all citrus fruits, from limes to grape...</td>\n",
       "      <td>[Large 1 liter (34 ounce) pitcher, Adjustable ...</td>\n",
       "      <td>[This Hamilton Beach HealthSmart Juice Extract...</td>\n",
       "      <td>[Electric juicer, beverage stirrer, and servin...</td>\n",
       "      <td>[Automatic fruit and vegetable juicer for freq...</td>\n",
       "      <td>[Extracts juice from raw fruits and vegetables...</td>\n",
       "      <td>...</td>\n",
       "      <td>[]</td>\n",
       "      <td>[Mini juicer cup in size, portable and great f...</td>\n",
       "      <td>[]</td>\n",
       "      <td>[Juicer Cup, Battery Powered Electric Juice Bl...</td>\n",
       "      <td>[SUPPLY THE NUTRITION: Supply the nutrition th...</td>\n",
       "      <td>[Portable Personal Blender Multifunctional : s...</td>\n",
       "      <td>[One machine with multiple function (one in al...</td>\n",
       "      <td>[Food grade materials, safe and non-toxic, Lig...</td>\n",
       "      <td>[♨MATERIAL ♨ Made of eco-friendly &amp; food-grade...</td>\n",
       "      <td>[Dimension: 432 x 444 x 350mm / 17 x 17.5 x 13...</td>\n",
       "    </tr>\n",
       "    <tr>\n",
       "      <th>price</th>\n",
       "      <td>$158.98</td>\n",
       "      <td>$79.95</td>\n",
       "      <td>$360.00</td>\n",
       "      <td>None</td>\n",
       "      <td>$149.99</td>\n",
       "      <td>$59.32</td>\n",
       "      <td>$42.38</td>\n",
       "      <td>$48.99</td>\n",
       "      <td>None</td>\n",
       "      <td>$41.89</td>\n",
       "      <td>...</td>\n",
       "      <td>$1,598.10</td>\n",
       "      <td>$29.99</td>\n",
       "      <td>$1,993.95</td>\n",
       "      <td>$22.29</td>\n",
       "      <td>$15.99</td>\n",
       "      <td>$27.99</td>\n",
       "      <td>$119.99</td>\n",
       "      <td>$18.53</td>\n",
       "      <td>$19.99</td>\n",
       "      <td>$633.99</td>\n",
       "    </tr>\n",
       "  </tbody>\n",
       "</table>\n",
       "<p>5 rows × 1017 columns</p>\n",
       "</div>"
      ],
      "text/plain": [
       "                                                 B00004R93U  \\\n",
       "brand                                              Juiceman   \n",
       "category                                        centrifugal   \n",
       "color                                             Off-White   \n",
       "features  [Peppy 1/4-horsepower motor quickly juices mos...   \n",
       "price                                               $158.98   \n",
       "\n",
       "                                                 B00004R93V  \\\n",
       "brand                                              Juiceman   \n",
       "category                                        centrifugal   \n",
       "color                                                 White   \n",
       "features  [Powerful 1/2-horsepower motor quickly juices ...   \n",
       "price                                                $79.95   \n",
       "\n",
       "                                                 B00004S8FH  \\\n",
       "brand                                                Waring   \n",
       "category                                        centrifugal   \n",
       "color                                                 White   \n",
       "features  [Converts all noncitrus fruits and vegetables ...   \n",
       "price                                               $360.00   \n",
       "\n",
       "                                                 B00004S8FI  \\\n",
       "brand                                                Waring   \n",
       "category                                             citrus   \n",
       "color                                           Quite White   \n",
       "features  [Juices all citrus fruits, from limes to grape...   \n",
       "price                                                  None   \n",
       "\n",
       "                                                 B00004S8FJ  \\\n",
       "brand                                                Waring   \n",
       "category                                             citrus   \n",
       "color                                       Stainless Steel   \n",
       "features  [Juices all citrus fruits, from limes to grape...   \n",
       "price                                               $149.99   \n",
       "\n",
       "                                                 B00004SC51  \\\n",
       "brand                                          BLACK+DECKER   \n",
       "category                                             citrus   \n",
       "color                                                  None   \n",
       "features  [Large 1 liter (34 ounce) pitcher, Adjustable ...   \n",
       "price                                                $59.32   \n",
       "\n",
       "                                                 B00004X139  \\\n",
       "brand                                        Hamilton Beach   \n",
       "category                                        centrifugal   \n",
       "color                                                 White   \n",
       "features  [This Hamilton Beach HealthSmart Juice Extract...   \n",
       "price                                                $42.38   \n",
       "\n",
       "                                                 B00005MF9O  \\\n",
       "brand                                          BLACK+DECKER   \n",
       "category                                             citrus   \n",
       "color                                                  Blue   \n",
       "features  [Electric juicer, beverage stirrer, and servin...   \n",
       "price                                                $48.99   \n",
       "\n",
       "                                                 B00005OTY9  \\\n",
       "brand                                              Juiceman   \n",
       "category                                        centrifugal   \n",
       "color                                                 White   \n",
       "features  [Automatic fruit and vegetable juicer for freq...   \n",
       "price                                                  None   \n",
       "\n",
       "                                                 B00005V3W4  \\\n",
       "brand                                        Hamilton Beach   \n",
       "category                                        centrifugal   \n",
       "color                                                  None   \n",
       "features  [Extracts juice from raw fruits and vegetables...   \n",
       "price                                                $41.89   \n",
       "\n",
       "                                ...                           B072KSZ8KD  \\\n",
       "brand                           ...                          Robot Coupe   \n",
       "category                        ...                          centrifugal   \n",
       "color                           ...                                 None   \n",
       "features                        ...                                   []   \n",
       "price                           ...                            $1,598.10   \n",
       "\n",
       "                                                 B072NBBHWJ   B072ND9V5C  \\\n",
       "brand                                                XmiPbs  Robot Coupe   \n",
       "category                                             citrus  centrifugal   \n",
       "color                                                  Pink         None   \n",
       "features  [Mini juicer cup in size, portable and great f...           []   \n",
       "price                                                $29.99    $1,993.95   \n",
       "\n",
       "                                                 B072P2YQXD  \\\n",
       "brand                                                Pawaca   \n",
       "category                                        masticating   \n",
       "color                                                 Green   \n",
       "features  [Juicer Cup, Battery Powered Electric Juice Bl...   \n",
       "price                                                $22.29   \n",
       "\n",
       "                                                 B072SV42RJ  \\\n",
       "brand                                        Frigidairenire   \n",
       "category                                        centrifugal   \n",
       "color                                                Purple   \n",
       "features  [SUPPLY THE NUTRITION: Supply the nutrition th...   \n",
       "price                                                $15.99   \n",
       "\n",
       "                                                 B072TZ3F78  \\\n",
       "brand                                               iPstyle   \n",
       "category                                        centrifugal   \n",
       "color                                                 Green   \n",
       "features  [Portable Personal Blender Multifunctional : s...   \n",
       "price                                                $27.99   \n",
       "\n",
       "                                                 B072VL3FXH  \\\n",
       "brand                                               Decdeal   \n",
       "category                                        centrifugal   \n",
       "color                                                  None   \n",
       "features  [One machine with multiple function (one in al...   \n",
       "price                                               $119.99   \n",
       "\n",
       "                                                 B072WPDGDN  \\\n",
       "brand                                               Raylans   \n",
       "category                                        centrifugal   \n",
       "color                                                  Blue   \n",
       "features  [Food grade materials, safe and non-toxic, Lig...   \n",
       "price                                                $18.53   \n",
       "\n",
       "                                                 B073345HMW  \\\n",
       "brand                                                   GTT   \n",
       "category                                        centrifugal   \n",
       "color                                                Purple   \n",
       "features  [♨MATERIAL ♨ Made of eco-friendly & food-grade...   \n",
       "price                                                $19.99   \n",
       "\n",
       "                                                 B0739LW3XS  \n",
       "brand                                              LOVSHARE  \n",
       "category                                        centrifugal  \n",
       "color                                                  None  \n",
       "features  [Dimension: 432 x 444 x 350mm / 17 x 17.5 x 13...  \n",
       "price                                               $633.99  \n",
       "\n",
       "[5 rows x 1017 columns]"
      ]
     },
     "execution_count": 2,
     "metadata": {},
     "output_type": "execute_result"
    }
   ],
   "source": [
    "with open(\"../out/juicers.json\", \"r\") as f:\n",
    "    allJuicers = json.load(f)\n",
    "\n",
    "priceListByBrand = {}\n",
    "rankListByBrand = {}\n",
    "juicersByAsin = {}\n",
    "for cat, juicers in allJuicers.items():\n",
    "    for juicer in juicers:\n",
    "        asin = list(juicer.keys())[0]\n",
    "        val = list(juicer.values())[0]\n",
    "        val.update({\"category\":cat})\n",
    "        if any(x in val['title'].lower() for x in ['juice','juicer']):\n",
    "            juicersByAsin.update({asin: val})\n",
    "        else:\n",
    "            continue\n",
    "        brand = val['brand']\n",
    "        try:\n",
    "            if brand.lower() == 'breville juicer':\n",
    "                brand = 'breville'\n",
    "        except:\n",
    "            continue\n",
    "\n",
    "        try:\n",
    "            if brand.lower() == 'omega juicers':\n",
    "                brand = 'omega'\n",
    "        except:\n",
    "            continue\n",
    "        try:\n",
    "            priceListByBrand.setdefault(brand, []).append(float(val['price'][1:]))\n",
    "        except:\n",
    "            pass\n",
    "\n",
    "        try:\n",
    "            if not val['sales_rank'] == 'None':\n",
    "                rankListByBrand.setdefault(brand, []).append(int(val['sales_rank']))\n",
    "        except:\n",
    "            pass\n",
    "\n",
    "df_all = pd.DataFrame(juicersByAsin)\n",
    "\n",
    "df_all.head()"
   ]
  },
  {
   "cell_type": "code",
   "execution_count": 3,
   "metadata": {
    "collapsed": false
   },
   "outputs": [
    {
     "data": {
      "text/html": [
       "<div>\n",
       "<style>\n",
       "    .dataframe thead tr:only-child th {\n",
       "        text-align: right;\n",
       "    }\n",
       "\n",
       "    .dataframe thead th {\n",
       "        text-align: left;\n",
       "    }\n",
       "\n",
       "    .dataframe tbody tr th {\n",
       "        vertical-align: top;\n",
       "    }\n",
       "</style>\n",
       "<table border=\"1\" class=\"dataframe\">\n",
       "  <thead>\n",
       "    <tr style=\"text-align: right;\">\n",
       "      <th></th>\n",
       "      <th>brand</th>\n",
       "      <th>category</th>\n",
       "      <th>color</th>\n",
       "      <th>features</th>\n",
       "      <th>price</th>\n",
       "      <th>sales_rank</th>\n",
       "      <th>title</th>\n",
       "    </tr>\n",
       "  </thead>\n",
       "  <tbody>\n",
       "    <tr>\n",
       "      <th>B00004R93U</th>\n",
       "      <td>Juiceman</td>\n",
       "      <td>centrifugal</td>\n",
       "      <td>Off-White</td>\n",
       "      <td>[Peppy 1/4-horsepower motor quickly juices mos...</td>\n",
       "      <td>$158.98</td>\n",
       "      <td>1006304</td>\n",
       "      <td>Juiceman Jr. Elite Pro JM211 Juice Extractor</td>\n",
       "    </tr>\n",
       "    <tr>\n",
       "      <th>B00004R93V</th>\n",
       "      <td>Juiceman</td>\n",
       "      <td>centrifugal</td>\n",
       "      <td>White</td>\n",
       "      <td>[Powerful 1/2-horsepower motor quickly juices ...</td>\n",
       "      <td>$79.95</td>\n",
       "      <td>778846</td>\n",
       "      <td>The Juiceman Electronic Professional Series 41...</td>\n",
       "    </tr>\n",
       "    <tr>\n",
       "      <th>B00004S8FH</th>\n",
       "      <td>Waring</td>\n",
       "      <td>centrifugal</td>\n",
       "      <td>White</td>\n",
       "      <td>[Converts all noncitrus fruits and vegetables ...</td>\n",
       "      <td>$360.00</td>\n",
       "      <td>227195</td>\n",
       "      <td>Waring PJE401 Juice Extractor, Quite White and...</td>\n",
       "    </tr>\n",
       "    <tr>\n",
       "      <th>B00004S8FI</th>\n",
       "      <td>Waring</td>\n",
       "      <td>citrus</td>\n",
       "      <td>Quite White</td>\n",
       "      <td>[Juices all citrus fruits, from limes to grape...</td>\n",
       "      <td>None</td>\n",
       "      <td>254788</td>\n",
       "      <td>Waring PCJ201 Citrus Juicer, Quite White</td>\n",
       "    </tr>\n",
       "    <tr>\n",
       "      <th>B00004S8FJ</th>\n",
       "      <td>Waring</td>\n",
       "      <td>citrus</td>\n",
       "      <td>Stainless Steel</td>\n",
       "      <td>[Juices all citrus fruits, from limes to grape...</td>\n",
       "      <td>$149.99</td>\n",
       "      <td>231125</td>\n",
       "      <td>Waring PCJ218 Citrus Juicer, Stainless Steel</td>\n",
       "    </tr>\n",
       "  </tbody>\n",
       "</table>\n",
       "</div>"
      ],
      "text/plain": [
       "               brand     category            color  \\\n",
       "B00004R93U  Juiceman  centrifugal        Off-White   \n",
       "B00004R93V  Juiceman  centrifugal            White   \n",
       "B00004S8FH    Waring  centrifugal            White   \n",
       "B00004S8FI    Waring       citrus      Quite White   \n",
       "B00004S8FJ    Waring       citrus  Stainless Steel   \n",
       "\n",
       "                                                     features    price  \\\n",
       "B00004R93U  [Peppy 1/4-horsepower motor quickly juices mos...  $158.98   \n",
       "B00004R93V  [Powerful 1/2-horsepower motor quickly juices ...   $79.95   \n",
       "B00004S8FH  [Converts all noncitrus fruits and vegetables ...  $360.00   \n",
       "B00004S8FI  [Juices all citrus fruits, from limes to grape...     None   \n",
       "B00004S8FJ  [Juices all citrus fruits, from limes to grape...  $149.99   \n",
       "\n",
       "           sales_rank                                              title  \n",
       "B00004R93U    1006304       Juiceman Jr. Elite Pro JM211 Juice Extractor  \n",
       "B00004R93V     778846  The Juiceman Electronic Professional Series 41...  \n",
       "B00004S8FH     227195  Waring PJE401 Juice Extractor, Quite White and...  \n",
       "B00004S8FI     254788           Waring PCJ201 Citrus Juicer, Quite White  \n",
       "B00004S8FJ     231125       Waring PCJ218 Citrus Juicer, Stainless Steel  "
      ]
     },
     "execution_count": 3,
     "metadata": {},
     "output_type": "execute_result"
    }
   ],
   "source": [
    "df_all = df_all.T\n",
    "df_all.head()"
   ]
  },
  {
   "cell_type": "code",
   "execution_count": 4,
   "metadata": {
    "collapsed": false
   },
   "outputs": [
    {
     "data": {
      "text/plain": [
       "brand           7\n",
       "category        0\n",
       "color         178\n",
       "features        0\n",
       "price          49\n",
       "sales_rank      0\n",
       "title           0\n",
       "dtype: int64"
      ]
     },
     "execution_count": 4,
     "metadata": {},
     "output_type": "execute_result"
    }
   ],
   "source": [
    "df_all.isnull().sum()"
   ]
  },
  {
   "cell_type": "code",
   "execution_count": 5,
   "metadata": {
    "collapsed": false
   },
   "outputs": [
    {
     "data": {
      "text/plain": [
       "brand           0\n",
       "category        0\n",
       "color           1\n",
       "features        0\n",
       "price           0\n",
       "sales_rank    252\n",
       "title           0\n",
       "dtype: int64"
      ]
     },
     "execution_count": 5,
     "metadata": {},
     "output_type": "execute_result"
    }
   ],
   "source": [
    "(df_all=='None').sum()"
   ]
  },
  {
   "cell_type": "code",
   "execution_count": 6,
   "metadata": {
    "collapsed": false
   },
   "outputs": [],
   "source": [
    "df_all[df_all == 'None'] = float('NaN')"
   ]
  },
  {
   "cell_type": "code",
   "execution_count": 7,
   "metadata": {
    "collapsed": false
   },
   "outputs": [
    {
     "data": {
      "text/plain": [
       "brand         0\n",
       "category      0\n",
       "color         0\n",
       "features      0\n",
       "price         0\n",
       "sales_rank    0\n",
       "title         0\n",
       "dtype: int64"
      ]
     },
     "execution_count": 7,
     "metadata": {},
     "output_type": "execute_result"
    }
   ],
   "source": [
    "(df_all=='None').sum()"
   ]
  },
  {
   "cell_type": "code",
   "execution_count": 8,
   "metadata": {
    "collapsed": false
   },
   "outputs": [
    {
     "data": {
      "text/plain": [
       "brand           7\n",
       "category        0\n",
       "color         179\n",
       "features        0\n",
       "price          49\n",
       "sales_rank    252\n",
       "title           0\n",
       "dtype: int64"
      ]
     },
     "execution_count": 8,
     "metadata": {},
     "output_type": "execute_result"
    }
   ],
   "source": [
    "df_all.isnull().sum()"
   ]
  },
  {
   "cell_type": "code",
   "execution_count": 9,
   "metadata": {
    "collapsed": false
   },
   "outputs": [
    {
     "name": "stdout",
     "output_type": "stream",
     "text": [
      "Index(['brand', 'category', 'color', 'features', 'price', 'sales_rank',\n",
      "       'title'],\n",
      "      dtype='object')\n",
      "(1017, 7)\n"
     ]
    }
   ],
   "source": [
    "print(df_all.columns)\n",
    "print(df_all.shape)"
   ]
  },
  {
   "cell_type": "code",
   "execution_count": 10,
   "metadata": {
    "collapsed": false
   },
   "outputs": [],
   "source": [
    "df_all.dropna(inplace=True)"
   ]
  },
  {
   "cell_type": "code",
   "execution_count": 11,
   "metadata": {
    "collapsed": false
   },
   "outputs": [
    {
     "name": "stdout",
     "output_type": "stream",
     "text": [
      "<class 'pandas.core.frame.DataFrame'>\n",
      "Index: 636 entries, B00004R93U to B072WPDGDN\n",
      "Data columns (total 7 columns):\n",
      "brand         636 non-null object\n",
      "category      636 non-null object\n",
      "color         636 non-null object\n",
      "features      636 non-null object\n",
      "price         636 non-null object\n",
      "sales_rank    636 non-null object\n",
      "title         636 non-null object\n",
      "dtypes: object(7)\n",
      "memory usage: 39.8+ KB\n"
     ]
    }
   ],
   "source": [
    "df_all.info()"
   ]
  },
  {
   "cell_type": "code",
   "execution_count": 12,
   "metadata": {
    "collapsed": false
   },
   "outputs": [
    {
     "data": {
      "text/plain": [
       "brand         object\n",
       "category      object\n",
       "color         object\n",
       "features      object\n",
       "price         object\n",
       "sales_rank    object\n",
       "title         object\n",
       "dtype: object"
      ]
     },
     "execution_count": 12,
     "metadata": {},
     "output_type": "execute_result"
    }
   ],
   "source": [
    "df_all.dtypes"
   ]
  },
  {
   "cell_type": "markdown",
   "metadata": {},
   "source": [
    "#### Convert some columns to lowercase string"
   ]
  },
  {
   "cell_type": "code",
   "execution_count": 13,
   "metadata": {
    "collapsed": false
   },
   "outputs": [
    {
     "data": {
      "text/html": [
       "<div>\n",
       "<style>\n",
       "    .dataframe thead tr:only-child th {\n",
       "        text-align: right;\n",
       "    }\n",
       "\n",
       "    .dataframe thead th {\n",
       "        text-align: left;\n",
       "    }\n",
       "\n",
       "    .dataframe tbody tr th {\n",
       "        vertical-align: top;\n",
       "    }\n",
       "</style>\n",
       "<table border=\"1\" class=\"dataframe\">\n",
       "  <thead>\n",
       "    <tr style=\"text-align: right;\">\n",
       "      <th></th>\n",
       "      <th>brand</th>\n",
       "      <th>category</th>\n",
       "      <th>color</th>\n",
       "      <th>price</th>\n",
       "      <th>title</th>\n",
       "    </tr>\n",
       "  </thead>\n",
       "  <tbody>\n",
       "    <tr>\n",
       "      <th>B00004R93U</th>\n",
       "      <td>juiceman</td>\n",
       "      <td>centrifugal</td>\n",
       "      <td>off-white</td>\n",
       "      <td>$158.98</td>\n",
       "      <td>juiceman jr. elite pro jm211 juice extractor</td>\n",
       "    </tr>\n",
       "    <tr>\n",
       "      <th>B00004R93V</th>\n",
       "      <td>juiceman</td>\n",
       "      <td>centrifugal</td>\n",
       "      <td>white</td>\n",
       "      <td>$79.95</td>\n",
       "      <td>the juiceman electronic professional series 41...</td>\n",
       "    </tr>\n",
       "    <tr>\n",
       "      <th>B00004S8FH</th>\n",
       "      <td>waring</td>\n",
       "      <td>centrifugal</td>\n",
       "      <td>white</td>\n",
       "      <td>$360.00</td>\n",
       "      <td>waring pje401 juice extractor, quite white and...</td>\n",
       "    </tr>\n",
       "    <tr>\n",
       "      <th>B00004S8FJ</th>\n",
       "      <td>waring</td>\n",
       "      <td>citrus</td>\n",
       "      <td>stainless steel</td>\n",
       "      <td>$149.99</td>\n",
       "      <td>waring pcj218 citrus juicer, stainless steel</td>\n",
       "    </tr>\n",
       "    <tr>\n",
       "      <th>B00004X139</th>\n",
       "      <td>hamilton beach</td>\n",
       "      <td>centrifugal</td>\n",
       "      <td>white</td>\n",
       "      <td>$42.38</td>\n",
       "      <td>juice extractor,healthsmart</td>\n",
       "    </tr>\n",
       "  </tbody>\n",
       "</table>\n",
       "</div>"
      ],
      "text/plain": [
       "                     brand     category            color    price  \\\n",
       "B00004R93U        juiceman  centrifugal        off-white  $158.98   \n",
       "B00004R93V        juiceman  centrifugal            white   $79.95   \n",
       "B00004S8FH          waring  centrifugal            white  $360.00   \n",
       "B00004S8FJ          waring       citrus  stainless steel  $149.99   \n",
       "B00004X139  hamilton beach  centrifugal            white   $42.38   \n",
       "\n",
       "                                                        title  \n",
       "B00004R93U       juiceman jr. elite pro jm211 juice extractor  \n",
       "B00004R93V  the juiceman electronic professional series 41...  \n",
       "B00004S8FH  waring pje401 juice extractor, quite white and...  \n",
       "B00004S8FJ       waring pcj218 citrus juicer, stainless steel  \n",
       "B00004X139                        juice extractor,healthsmart  "
      ]
     },
     "execution_count": 13,
     "metadata": {},
     "output_type": "execute_result"
    }
   ],
   "source": [
    "strlist = ['brand', 'category', 'color', 'price', 'title']\n",
    "df_all[strlist] = df_all[strlist].applymap(lambda x: x.lower())\n",
    "df_all[strlist].head()"
   ]
  },
  {
   "cell_type": "markdown",
   "metadata": {},
   "source": [
    "#### Remove \\$ sign and cast to float"
   ]
  },
  {
   "cell_type": "code",
   "execution_count": 14,
   "metadata": {
    "collapsed": false
   },
   "outputs": [],
   "source": [
    "def getPrice(x):\n",
    "    x = x.replace(',','.')\n",
    "    res = re.findall('\\d+.\\d+', x)\n",
    "    if res:\n",
    "        return res[0]\n",
    "    else:\n",
    "        return float('NaN')\n",
    "\n",
    "df_all['price'] = df_all['price'].apply(getPrice)"
   ]
  },
  {
   "cell_type": "code",
   "execution_count": 15,
   "metadata": {
    "collapsed": false
   },
   "outputs": [
    {
     "data": {
      "text/plain": [
       "15"
      ]
     },
     "execution_count": 15,
     "metadata": {},
     "output_type": "execute_result"
    }
   ],
   "source": [
    "df_all['price'].isnull().sum()"
   ]
  },
  {
   "cell_type": "code",
   "execution_count": 16,
   "metadata": {
    "collapsed": true
   },
   "outputs": [],
   "source": [
    "df_all.dropna(inplace=True)"
   ]
  },
  {
   "cell_type": "code",
   "execution_count": 17,
   "metadata": {
    "collapsed": false
   },
   "outputs": [],
   "source": [
    "df_all['price'] = df_all['price'].astype(float)"
   ]
  },
  {
   "cell_type": "markdown",
   "metadata": {},
   "source": [
    "#### Cast sales_rank to int"
   ]
  },
  {
   "cell_type": "code",
   "execution_count": 18,
   "metadata": {
    "collapsed": false
   },
   "outputs": [],
   "source": [
    "df_all['sales_rank'] = df_all['sales_rank'].astype(int)"
   ]
  },
  {
   "cell_type": "code",
   "execution_count": 19,
   "metadata": {
    "collapsed": false
   },
   "outputs": [
    {
     "data": {
      "text/plain": [
       "(621, 7)"
      ]
     },
     "execution_count": 19,
     "metadata": {},
     "output_type": "execute_result"
    }
   ],
   "source": [
    "df_all.shape"
   ]
  },
  {
   "cell_type": "code",
   "execution_count": 20,
   "metadata": {
    "collapsed": false
   },
   "outputs": [
    {
     "data": {
      "text/plain": [
       "['Peppy 1/4-horsepower motor quickly juices most fruits and vegetables',\n",
       " 'Makes tasty, nutritious, and additive-free juice blends',\n",
       " 'Stainless steel blade, basket with micro-mesh strainer to screen out pulp',\n",
       " 'Medium-capacity pulp receptacle for continuous juicing',\n",
       " 'Two-speed control for soft or hard produce']"
      ]
     },
     "execution_count": 20,
     "metadata": {},
     "output_type": "execute_result"
    }
   ],
   "source": [
    "df_all['features'].iloc[0]"
   ]
  },
  {
   "cell_type": "markdown",
   "metadata": {},
   "source": [
    "#### Unique values per color"
   ]
  },
  {
   "cell_type": "code",
   "execution_count": 21,
   "metadata": {
    "collapsed": false
   },
   "outputs": [
    {
     "name": "stdout",
     "output_type": "stream",
     "text": [
      "brand 250\n",
      "category 3\n",
      "color 127\n",
      "price 461\n",
      "sales_rank 621\n",
      "title 616\n"
     ]
    }
   ],
   "source": [
    "for col in df_all.columns.tolist():\n",
    "    try:\n",
    "        print(col, df_all[col].unique().shape[0])\n",
    "    except:\n",
    "        continue"
   ]
  },
  {
   "cell_type": "code",
   "execution_count": 22,
   "metadata": {
    "collapsed": false
   },
   "outputs": [
    {
     "data": {
      "text/html": [
       "<div>\n",
       "<style>\n",
       "    .dataframe thead tr:only-child th {\n",
       "        text-align: right;\n",
       "    }\n",
       "\n",
       "    .dataframe thead th {\n",
       "        text-align: left;\n",
       "    }\n",
       "\n",
       "    .dataframe tbody tr th {\n",
       "        vertical-align: top;\n",
       "    }\n",
       "</style>\n",
       "<table border=\"1\" class=\"dataframe\">\n",
       "  <thead>\n",
       "    <tr style=\"text-align: right;\">\n",
       "      <th></th>\n",
       "      <th>brand</th>\n",
       "      <th>category</th>\n",
       "      <th>color</th>\n",
       "      <th>features</th>\n",
       "      <th>price</th>\n",
       "      <th>sales_rank</th>\n",
       "      <th>title</th>\n",
       "    </tr>\n",
       "  </thead>\n",
       "  <tbody>\n",
       "    <tr>\n",
       "      <th>B00004R93U</th>\n",
       "      <td>juiceman</td>\n",
       "      <td>centrifugal</td>\n",
       "      <td>off-white</td>\n",
       "      <td>[Peppy 1/4-horsepower motor quickly juices mos...</td>\n",
       "      <td>158.98</td>\n",
       "      <td>1006304</td>\n",
       "      <td>juiceman jr. elite pro jm211 juice extractor</td>\n",
       "    </tr>\n",
       "    <tr>\n",
       "      <th>B00004R93V</th>\n",
       "      <td>juiceman</td>\n",
       "      <td>centrifugal</td>\n",
       "      <td>white</td>\n",
       "      <td>[Powerful 1/2-horsepower motor quickly juices ...</td>\n",
       "      <td>79.95</td>\n",
       "      <td>778846</td>\n",
       "      <td>the juiceman electronic professional series 41...</td>\n",
       "    </tr>\n",
       "    <tr>\n",
       "      <th>B00004S8FH</th>\n",
       "      <td>waring</td>\n",
       "      <td>centrifugal</td>\n",
       "      <td>white</td>\n",
       "      <td>[Converts all noncitrus fruits and vegetables ...</td>\n",
       "      <td>360.00</td>\n",
       "      <td>227195</td>\n",
       "      <td>waring pje401 juice extractor, quite white and...</td>\n",
       "    </tr>\n",
       "    <tr>\n",
       "      <th>B00004S8FJ</th>\n",
       "      <td>waring</td>\n",
       "      <td>citrus</td>\n",
       "      <td>stainless steel</td>\n",
       "      <td>[Juices all citrus fruits, from limes to grape...</td>\n",
       "      <td>149.99</td>\n",
       "      <td>231125</td>\n",
       "      <td>waring pcj218 citrus juicer, stainless steel</td>\n",
       "    </tr>\n",
       "    <tr>\n",
       "      <th>B00004X139</th>\n",
       "      <td>hamilton beach</td>\n",
       "      <td>centrifugal</td>\n",
       "      <td>white</td>\n",
       "      <td>[This Hamilton Beach HealthSmart Juice Extract...</td>\n",
       "      <td>42.38</td>\n",
       "      <td>919971</td>\n",
       "      <td>juice extractor,healthsmart</td>\n",
       "    </tr>\n",
       "  </tbody>\n",
       "</table>\n",
       "</div>"
      ],
      "text/plain": [
       "                     brand     category            color  \\\n",
       "B00004R93U        juiceman  centrifugal        off-white   \n",
       "B00004R93V        juiceman  centrifugal            white   \n",
       "B00004S8FH          waring  centrifugal            white   \n",
       "B00004S8FJ          waring       citrus  stainless steel   \n",
       "B00004X139  hamilton beach  centrifugal            white   \n",
       "\n",
       "                                                     features   price  \\\n",
       "B00004R93U  [Peppy 1/4-horsepower motor quickly juices mos...  158.98   \n",
       "B00004R93V  [Powerful 1/2-horsepower motor quickly juices ...   79.95   \n",
       "B00004S8FH  [Converts all noncitrus fruits and vegetables ...  360.00   \n",
       "B00004S8FJ  [Juices all citrus fruits, from limes to grape...  149.99   \n",
       "B00004X139  [This Hamilton Beach HealthSmart Juice Extract...   42.38   \n",
       "\n",
       "            sales_rank                                              title  \n",
       "B00004R93U     1006304       juiceman jr. elite pro jm211 juice extractor  \n",
       "B00004R93V      778846  the juiceman electronic professional series 41...  \n",
       "B00004S8FH      227195  waring pje401 juice extractor, quite white and...  \n",
       "B00004S8FJ      231125       waring pcj218 citrus juicer, stainless steel  \n",
       "B00004X139      919971                        juice extractor,healthsmart  "
      ]
     },
     "execution_count": 22,
     "metadata": {},
     "output_type": "execute_result"
    }
   ],
   "source": [
    "df_all.head()"
   ]
  },
  {
   "cell_type": "code",
   "execution_count": 23,
   "metadata": {
    "collapsed": false
   },
   "outputs": [
    {
     "data": {
      "text/plain": [
       "array(['off-white', 'white', 'stainless steel', 'blue', 'gray',\n",
       "       'quite white', 'brushed stainless steel', 'chrome', 'yellow',\n",
       "       'black / silver', 'ivory', 'black', 'black & silver', 'silver',\n",
       "       'ivory or black', 'stainless', 'almond', 'pink white', 'raspberry',\n",
       "       'light green', 'steel', 'orange', 'silver black', 'null',\n",
       "       'sless/steel', 'red or white', 'chrome plated', 'pearl white',\n",
       "       'green', 'red', 'chrome colored', 'noble silver', 'green yellow',\n",
       "       'polished aluminum', 'polished stainless', 'stainless steel color',\n",
       "       'purple', 'gray & black', 'je98xl w/dvd', 'clear',\n",
       "       'black & stainless steel', 'silver-black', 'silver/black',\n",
       "       'silver, grey', 'silver grey', 'red/black', 'black/stailess steel',\n",
       "       'not applicable', 'red & black', 'black/ stainless steel',\n",
       "       'stainless steel/black', 'silver, black', 'metallic',\n",
       "       'silver & black', 'balck', 'silver (plastic)', 'pearl red',\n",
       "       'gold black', 'orange/green', 'silver body with black',\n",
       "       \"silver with jay kordich's book\", 'black wrinkle',\n",
       "       'piano varnish in dark wine color - sleek design', 'chrome / green',\n",
       "       'grey / silver', 'premium type', 'cinnamon', 'modern grey',\n",
       "       'wine, specail discount', 'glass with yellow lid',\n",
       "       'black anniversary package', 'orange, clear', 'black/silver',\n",
       "       'white anniversary package', 'iron,orange', 'gray/yellow',\n",
       "       'silvery', 'lemon', 'green/orange', 'black/white', 'multi-color',\n",
       "       'shined aluminum', 'as the picture shown', 'glass',\n",
       "       'bje200xl w/dvd', 'black, clear, stainless', 'multi',\n",
       "       'black&stainless steel', 'red,blue,green', 'silver and orange',\n",
       "       'multicolor', 'white & gray', 'cream', 'pastel blue',\n",
       "       'piano varnish in silver color - sleek design', 'black and sliver',\n",
       "       'black/gold', 'matte black', 'stainless steel and white',\n",
       "       'plastic tank', 'white/green', 'pink', 'sliver', 'aqua blue',\n",
       "       '800w', 'white&lime', 'silver,black',\n",
       "       'pink- 3\" inches wide chute - 240w ac motor',\n",
       "       'silver- 3\" inches wide chute - 240w ac motor', '400w', 'rose gold',\n",
       "       'piano varnish in golden brown - sleek design', 'as pictured',\n",
       "       'black special package', 'orange plastic tanks',\n",
       "       'stainless steel tank', 's', 'juice extractor', 'b', 'wine red',\n",
       "       'matte silver(plus one filter)', 'black,feeding chute', 'wf-a2000',\n",
       "       'dark gray', '22-30 oranges per minute', 'watermelon red', 'manual'], dtype=object)"
      ]
     },
     "execution_count": 23,
     "metadata": {},
     "output_type": "execute_result"
    }
   ],
   "source": [
    "df_all['color'].unique()"
   ]
  },
  {
   "cell_type": "code",
   "execution_count": 24,
   "metadata": {
    "collapsed": false
   },
   "outputs": [
    {
     "data": {
      "text/html": [
       "<div>\n",
       "<style>\n",
       "    .dataframe thead tr:only-child th {\n",
       "        text-align: right;\n",
       "    }\n",
       "\n",
       "    .dataframe thead th {\n",
       "        text-align: left;\n",
       "    }\n",
       "\n",
       "    .dataframe tbody tr th {\n",
       "        vertical-align: top;\n",
       "    }\n",
       "</style>\n",
       "<table border=\"1\" class=\"dataframe\">\n",
       "  <thead>\n",
       "    <tr style=\"text-align: right;\">\n",
       "      <th></th>\n",
       "      <th>brand</th>\n",
       "      <th>category</th>\n",
       "      <th>color</th>\n",
       "      <th>features</th>\n",
       "      <th>price</th>\n",
       "      <th>sales_rank</th>\n",
       "      <th>title</th>\n",
       "    </tr>\n",
       "  </thead>\n",
       "  <tbody>\n",
       "    <tr>\n",
       "      <th>B00004R93U</th>\n",
       "      <td>juiceman</td>\n",
       "      <td>centrifugal</td>\n",
       "      <td>off-white</td>\n",
       "      <td>[Peppy 1/4-horsepower motor quickly juices mos...</td>\n",
       "      <td>158.98</td>\n",
       "      <td>1006304</td>\n",
       "      <td>juiceman jr. elite pro jm211 juice extractor</td>\n",
       "    </tr>\n",
       "    <tr>\n",
       "      <th>B00004R93V</th>\n",
       "      <td>juiceman</td>\n",
       "      <td>centrifugal</td>\n",
       "      <td>white</td>\n",
       "      <td>[Powerful 1/2-horsepower motor quickly juices ...</td>\n",
       "      <td>79.95</td>\n",
       "      <td>778846</td>\n",
       "      <td>the juiceman electronic professional series 41...</td>\n",
       "    </tr>\n",
       "    <tr>\n",
       "      <th>B00004S8FH</th>\n",
       "      <td>waring</td>\n",
       "      <td>centrifugal</td>\n",
       "      <td>white</td>\n",
       "      <td>[Converts all noncitrus fruits and vegetables ...</td>\n",
       "      <td>360.00</td>\n",
       "      <td>227195</td>\n",
       "      <td>waring pje401 juice extractor, quite white and...</td>\n",
       "    </tr>\n",
       "    <tr>\n",
       "      <th>B00004S8FJ</th>\n",
       "      <td>waring</td>\n",
       "      <td>citrus</td>\n",
       "      <td>stainless steel</td>\n",
       "      <td>[Juices all citrus fruits, from limes to grape...</td>\n",
       "      <td>149.99</td>\n",
       "      <td>231125</td>\n",
       "      <td>waring pcj218 citrus juicer, stainless steel</td>\n",
       "    </tr>\n",
       "    <tr>\n",
       "      <th>B00004X139</th>\n",
       "      <td>hamilton beach</td>\n",
       "      <td>centrifugal</td>\n",
       "      <td>white</td>\n",
       "      <td>[This Hamilton Beach HealthSmart Juice Extract...</td>\n",
       "      <td>42.38</td>\n",
       "      <td>919971</td>\n",
       "      <td>juice extractor,healthsmart</td>\n",
       "    </tr>\n",
       "  </tbody>\n",
       "</table>\n",
       "</div>"
      ],
      "text/plain": [
       "                     brand     category            color  \\\n",
       "B00004R93U        juiceman  centrifugal        off-white   \n",
       "B00004R93V        juiceman  centrifugal            white   \n",
       "B00004S8FH          waring  centrifugal            white   \n",
       "B00004S8FJ          waring       citrus  stainless steel   \n",
       "B00004X139  hamilton beach  centrifugal            white   \n",
       "\n",
       "                                                     features   price  \\\n",
       "B00004R93U  [Peppy 1/4-horsepower motor quickly juices mos...  158.98   \n",
       "B00004R93V  [Powerful 1/2-horsepower motor quickly juices ...   79.95   \n",
       "B00004S8FH  [Converts all noncitrus fruits and vegetables ...  360.00   \n",
       "B00004S8FJ  [Juices all citrus fruits, from limes to grape...  149.99   \n",
       "B00004X139  [This Hamilton Beach HealthSmart Juice Extract...   42.38   \n",
       "\n",
       "            sales_rank                                              title  \n",
       "B00004R93U     1006304       juiceman jr. elite pro jm211 juice extractor  \n",
       "B00004R93V      778846  the juiceman electronic professional series 41...  \n",
       "B00004S8FH      227195  waring pje401 juice extractor, quite white and...  \n",
       "B00004S8FJ      231125       waring pcj218 citrus juicer, stainless steel  \n",
       "B00004X139      919971                        juice extractor,healthsmart  "
      ]
     },
     "execution_count": 24,
     "metadata": {},
     "output_type": "execute_result"
    }
   ],
   "source": [
    "df_all['brand'] = df_all['brand'].replace(\"breville juicer\", \"breville\")\n",
    "df_all['brand'] = df_all['brand'].replace(\"omega juicers\", \"omega\")\n",
    "df_all.head()"
   ]
  },
  {
   "cell_type": "code",
   "execution_count": 25,
   "metadata": {
    "collapsed": true
   },
   "outputs": [],
   "source": [
    "def clean_price(s):\n",
    "    s = re.findall(\"\\d+\\.\\d+\",s)\n",
    "    if s:\n",
    "        return s[0]"
   ]
  },
  {
   "cell_type": "code",
   "execution_count": 26,
   "metadata": {
    "collapsed": false
   },
   "outputs": [
    {
     "data": {
      "text/html": [
       "<div>\n",
       "<style>\n",
       "    .dataframe thead tr:only-child th {\n",
       "        text-align: right;\n",
       "    }\n",
       "\n",
       "    .dataframe thead th {\n",
       "        text-align: left;\n",
       "    }\n",
       "\n",
       "    .dataframe tbody tr th {\n",
       "        vertical-align: top;\n",
       "    }\n",
       "</style>\n",
       "<table border=\"1\" class=\"dataframe\">\n",
       "  <thead>\n",
       "    <tr style=\"text-align: right;\">\n",
       "      <th></th>\n",
       "      <th>price</th>\n",
       "    </tr>\n",
       "    <tr>\n",
       "      <th>category</th>\n",
       "      <th></th>\n",
       "    </tr>\n",
       "  </thead>\n",
       "  <tbody>\n",
       "    <tr>\n",
       "      <th>centrifugal</th>\n",
       "      <td>171.656995</td>\n",
       "    </tr>\n",
       "    <tr>\n",
       "      <th>citrus</th>\n",
       "      <td>96.871509</td>\n",
       "    </tr>\n",
       "    <tr>\n",
       "      <th>masticating</th>\n",
       "      <td>284.749667</td>\n",
       "    </tr>\n",
       "  </tbody>\n",
       "</table>\n",
       "</div>"
      ],
      "text/plain": [
       "                  price\n",
       "category               \n",
       "centrifugal  171.656995\n",
       "citrus        96.871509\n",
       "masticating  284.749667"
      ]
     },
     "execution_count": 26,
     "metadata": {},
     "output_type": "execute_result"
    }
   ],
   "source": [
    "df_all.pivot_table(index='category', values='price', aggfunc=np.mean)"
   ]
  },
  {
   "cell_type": "code",
   "execution_count": 27,
   "metadata": {
    "collapsed": false
   },
   "outputs": [
    {
     "data": {
      "text/plain": [
       "<matplotlib.axes._subplots.AxesSubplot at 0x7f726c449898>"
      ]
     },
     "execution_count": 27,
     "metadata": {},
     "output_type": "execute_result"
    },
    {
     "data": {
      "image/png": "[encoded data removed]",
      "text/plain": [
       "<matplotlib.figure.Figure at 0x7f726c4495c0>"
      ]
     },
     "metadata": {},
     "output_type": "display_data"
    }
   ],
   "source": [
    "sns.stripplot(x='category', y='price', data=df_all)"
   ]
  },
  {
   "cell_type": "code",
   "execution_count": 29,
   "metadata": {
    "collapsed": false
   },
   "outputs": [
    {
     "data": {
      "text/plain": [
       "<matplotlib.axes._subplots.AxesSubplot at 0x7f7232550e48>"
      ]
     },
     "execution_count": 29,
     "metadata": {},
     "output_type": "execute_result"
    },
    {
     "data": {
      "image/png": "[encoded data removed]",
      "text/plain": [
       "<matplotlib.figure.Figure at 0x7f7232550550>"
      ]
     },
     "metadata": {},
     "output_type": "display_data"
    }
   ],
   "source": [
    "plt.figure(figsize=(15,8))\n",
    "sns.violinplot(x='category', y='price', data=df_all)"
   ]
  },
  {
   "cell_type": "code",
   "execution_count": 30,
   "metadata": {
    "collapsed": false
   },
   "outputs": [
    {
     "data": {
      "text/plain": [
       "<matplotlib.axes._subplots.AxesSubplot at 0x7f72345c7a58>"
      ]
     },
     "execution_count": 30,
     "metadata": {},
     "output_type": "execute_result"
    },
    {
     "data": {
      "image/png": "[encoded data removed]",
      "text/plain": [
       "<matplotlib.figure.Figure at 0x7f72324ebfd0>"
      ]
     },
     "metadata": {},
     "output_type": "display_data"
    }
   ],
   "source": [
    "plt.figure(figsize=(15,8))\n",
    "sns.violinplot(x='category', y='sales_rank', data=df_all)"
   ]
  },
  {
   "cell_type": "code",
   "execution_count": 31,
   "metadata": {
    "collapsed": false
   },
   "outputs": [
    {
     "data": {
      "text/plain": [
       "<matplotlib.axes._subplots.AxesSubplot at 0x7f7232529438>"
      ]
     },
     "execution_count": 31,
     "metadata": {},
     "output_type": "execute_result"
    },
    {
     "data": {
      "image/png": "[encoded data removed]",
      "text/plain": [
       "<matplotlib.figure.Figure at 0x7f723244a128>"
      ]
     },
     "metadata": {},
     "output_type": "display_data"
    }
   ],
   "source": [
    "plt.figure(figsize=(10,15))\n",
    "sns.heatmap(df_all.pivot_table(index='brand', values=['price', 'sales_rank'], aggfunc=np.mean).apply(preprocessing.scale), cmap='magma')"
   ]
  },
  {
   "cell_type": "code",
   "execution_count": 32,
   "metadata": {
    "collapsed": false
   },
   "outputs": [
    {
     "data": {
      "text/plain": [
       "<matplotlib.axes._subplots.AxesSubplot at 0x7f72322aa0f0>"
      ]
     },
     "execution_count": 32,
     "metadata": {},
     "output_type": "execute_result"
    },
    {
     "data": {
      "image/png": "[encoded data removed]",
      "text/plain": [
       "<matplotlib.figure.Figure at 0x7f72322b3be0>"
      ]
     },
     "metadata": {},
     "output_type": "display_data"
    }
   ],
   "source": [
    "sns.distplot(df_all[df_all['category']=='citrus']['price'].apply(np.log))"
   ]
  },
  {
   "cell_type": "code",
   "execution_count": 33,
   "metadata": {
    "collapsed": false
   },
   "outputs": [
    {
     "data": {
      "text/plain": [
       "brand         0\n",
       "category      0\n",
       "color         0\n",
       "features      0\n",
       "price         0\n",
       "sales_rank    0\n",
       "title         0\n",
       "dtype: int64"
      ]
     },
     "execution_count": 33,
     "metadata": {},
     "output_type": "execute_result"
    }
   ],
   "source": [
    "df_all.isnull().sum()"
   ]
  },
  {
   "cell_type": "code",
   "execution_count": 34,
   "metadata": {
    "collapsed": false
   },
   "outputs": [
    {
     "name": "stderr",
     "output_type": "stream",
     "text": [
      "/usr/lib/python3/dist-packages/ipykernel/__main__.py:2: SettingWithCopyWarning: \n",
      "A value is trying to be set on a copy of a slice from a DataFrame\n",
      "\n",
      "See the caveats in the documentation: http://pandas.pydata.org/pandas-docs/stable/indexing.html#indexing-view-versus-copy\n",
      "  from ipykernel import kernelapp as app\n",
      "/usr/lib/python3/dist-packages/ipykernel/__main__.py:3: SettingWithCopyWarning: \n",
      "A value is trying to be set on a copy of a slice from a DataFrame\n",
      "\n",
      "See the caveats in the documentation: http://pandas.pydata.org/pandas-docs/stable/indexing.html#indexing-view-versus-copy\n",
      "  app.launch_new_instance()\n",
      "/usr/lib/python3/dist-packages/ipykernel/__main__.py:4: SettingWithCopyWarning: \n",
      "A value is trying to be set on a copy of a slice from a DataFrame\n",
      "\n",
      "See the caveats in the documentation: http://pandas.pydata.org/pandas-docs/stable/indexing.html#indexing-view-versus-copy\n"
     ]
    },
    {
     "data": {
      "text/html": [
       "<div>\n",
       "<style>\n",
       "    .dataframe thead tr:only-child th {\n",
       "        text-align: right;\n",
       "    }\n",
       "\n",
       "    .dataframe thead th {\n",
       "        text-align: left;\n",
       "    }\n",
       "\n",
       "    .dataframe tbody tr th {\n",
       "        vertical-align: top;\n",
       "    }\n",
       "</style>\n",
       "<table border=\"1\" class=\"dataframe\">\n",
       "  <thead>\n",
       "    <tr style=\"text-align: right;\">\n",
       "      <th></th>\n",
       "      <th>brand</th>\n",
       "      <th>category</th>\n",
       "      <th>color</th>\n",
       "      <th>features</th>\n",
       "      <th>price</th>\n",
       "      <th>sales_rank</th>\n",
       "      <th>title</th>\n",
       "    </tr>\n",
       "  </thead>\n",
       "  <tbody>\n",
       "    <tr>\n",
       "      <th>B00004R93U</th>\n",
       "      <td>juiceman</td>\n",
       "      <td>2</td>\n",
       "      <td>off-white</td>\n",
       "      <td>[Peppy 1/4-horsepower motor quickly juices mos...</td>\n",
       "      <td>158.98</td>\n",
       "      <td>1006304</td>\n",
       "      <td>juiceman jr. elite pro jm211 juice extractor</td>\n",
       "    </tr>\n",
       "    <tr>\n",
       "      <th>B00004R93V</th>\n",
       "      <td>juiceman</td>\n",
       "      <td>2</td>\n",
       "      <td>white</td>\n",
       "      <td>[Powerful 1/2-horsepower motor quickly juices ...</td>\n",
       "      <td>79.95</td>\n",
       "      <td>778846</td>\n",
       "      <td>the juiceman electronic professional series 41...</td>\n",
       "    </tr>\n",
       "    <tr>\n",
       "      <th>B00004S8FH</th>\n",
       "      <td>waring</td>\n",
       "      <td>2</td>\n",
       "      <td>white</td>\n",
       "      <td>[Converts all noncitrus fruits and vegetables ...</td>\n",
       "      <td>360.00</td>\n",
       "      <td>227195</td>\n",
       "      <td>waring pje401 juice extractor, quite white and...</td>\n",
       "    </tr>\n",
       "    <tr>\n",
       "      <th>B00004S8FJ</th>\n",
       "      <td>waring</td>\n",
       "      <td>1</td>\n",
       "      <td>stainless steel</td>\n",
       "      <td>[Juices all citrus fruits, from limes to grape...</td>\n",
       "      <td>149.99</td>\n",
       "      <td>231125</td>\n",
       "      <td>waring pcj218 citrus juicer, stainless steel</td>\n",
       "    </tr>\n",
       "    <tr>\n",
       "      <th>B00004X139</th>\n",
       "      <td>hamilton beach</td>\n",
       "      <td>2</td>\n",
       "      <td>white</td>\n",
       "      <td>[This Hamilton Beach HealthSmart Juice Extract...</td>\n",
       "      <td>42.38</td>\n",
       "      <td>919971</td>\n",
       "      <td>juice extractor,healthsmart</td>\n",
       "    </tr>\n",
       "  </tbody>\n",
       "</table>\n",
       "</div>"
      ],
      "text/plain": [
       "                     brand category            color  \\\n",
       "B00004R93U        juiceman        2        off-white   \n",
       "B00004R93V        juiceman        2            white   \n",
       "B00004S8FH          waring        2            white   \n",
       "B00004S8FJ          waring        1  stainless steel   \n",
       "B00004X139  hamilton beach        2            white   \n",
       "\n",
       "                                                     features   price  \\\n",
       "B00004R93U  [Peppy 1/4-horsepower motor quickly juices mos...  158.98   \n",
       "B00004R93V  [Powerful 1/2-horsepower motor quickly juices ...   79.95   \n",
       "B00004S8FH  [Converts all noncitrus fruits and vegetables ...  360.00   \n",
       "B00004S8FJ  [Juices all citrus fruits, from limes to grape...  149.99   \n",
       "B00004X139  [This Hamilton Beach HealthSmart Juice Extract...   42.38   \n",
       "\n",
       "            sales_rank                                              title  \n",
       "B00004R93U     1006304       juiceman jr. elite pro jm211 juice extractor  \n",
       "B00004R93V      778846  the juiceman electronic professional series 41...  \n",
       "B00004S8FH      227195  waring pje401 juice extractor, quite white and...  \n",
       "B00004S8FJ      231125       waring pcj218 citrus juicer, stainless steel  \n",
       "B00004X139      919971                        juice extractor,healthsmart  "
      ]
     },
     "execution_count": 34,
     "metadata": {},
     "output_type": "execute_result"
    }
   ],
   "source": [
    "#feature engineering on the category column\n",
    "df_all['category'][df_all['category'] == 'citrus'] = 1\n",
    "df_all['category'][df_all['category'] == 'centrifugal'] = 2\n",
    "df_all['category'][df_all['category'] == 'masticating'] = 3\n",
    "df_all.head()"
   ]
  },
  {
   "cell_type": "code",
   "execution_count": 35,
   "metadata": {
    "collapsed": false
   },
   "outputs": [],
   "source": [
    "df_all['sales_rank'] = df_all['sales_rank'].astype(int)"
   ]
  },
  {
   "cell_type": "code",
   "execution_count": 36,
   "metadata": {
    "collapsed": false
   },
   "outputs": [
    {
     "data": {
      "text/plain": [
       "<matplotlib.axes._subplots.AxesSubplot at 0x7f723223f780>"
      ]
     },
     "execution_count": 36,
     "metadata": {},
     "output_type": "execute_result"
    },
    {
     "data": {
      "image/png": "[encoded data removed]",
      "text/plain": [
       "<matplotlib.figure.Figure at 0x7f72347e59b0>"
      ]
     },
     "metadata": {},
     "output_type": "display_data"
    }
   ],
   "source": [
    "sns.distplot(df_all['sales_rank'])"
   ]
  },
  {
   "cell_type": "code",
   "execution_count": 37,
   "metadata": {
    "collapsed": false
   },
   "outputs": [
    {
     "data": {
      "text/plain": [
       "<matplotlib.axes._subplots.AxesSubplot at 0x7f7231fbecc0>"
      ]
     },
     "execution_count": 37,
     "metadata": {},
     "output_type": "execute_result"
    },
    {
     "data": {
      "image/png": "[encoded data removed]",
      "text/plain": [
       "<matplotlib.figure.Figure at 0x7f7231f5e4e0>"
      ]
     },
     "metadata": {},
     "output_type": "display_data"
    }
   ],
   "source": [
    "sns.regplot(x='price', y='sales_rank', data=df_all)"
   ]
  },
  {
   "cell_type": "code",
   "execution_count": 40,
   "metadata": {
    "collapsed": false
   },
   "outputs": [],
   "source": [
    "pd.options.mode.chained_assisd cxngnment = None\n",
    "#df_all['sales_rank'] /= 100"
   ]
  },
  {
   "cell_type": "code",
   "execution_count": 37,
   "metadata": {
    "collapsed": false
   },
   "outputs": [],
   "source": [
    "df_all['cat_rank'] = pd.cut(df_all['sales_rank'], 5)\n",
    "rank_vs_price = df_all.pivot_table(index='cat_rank', values='price', aggfunc=np.mean)"
   ]
  },
  {
   "cell_type": "code",
   "execution_count": 443,
   "metadata": {
    "collapsed": false
   },
   "outputs": [
    {
     "data": {
      "text/html": [
       "<div>\n",
       "<style>\n",
       "    .dataframe thead tr:only-child th {\n",
       "        text-align: right;\n",
       "    }\n",
       "\n",
       "    .dataframe thead th {\n",
       "        text-align: left;\n",
       "    }\n",
       "\n",
       "    .dataframe tbody tr th {\n",
       "        vertical-align: top;\n",
       "    }\n",
       "</style>\n",
       "<table border=\"1\" class=\"dataframe\">\n",
       "  <thead>\n",
       "    <tr style=\"text-align: right;\">\n",
       "      <th></th>\n",
       "      <th>price</th>\n",
       "    </tr>\n",
       "    <tr>\n",
       "      <th>cat_rank</th>\n",
       "      <th></th>\n",
       "    </tr>\n",
       "  </thead>\n",
       "  <tbody>\n",
       "    <tr>\n",
       "      <th>(-4685.124, 1001143.8]</th>\n",
       "      <td>194.928350</td>\n",
       "    </tr>\n",
       "    <tr>\n",
       "      <th>(1001143.8, 2001968.6]</th>\n",
       "      <td>278.634828</td>\n",
       "    </tr>\n",
       "    <tr>\n",
       "      <th>(2001968.6, 3002793.4]</th>\n",
       "      <td>259.666923</td>\n",
       "    </tr>\n",
       "    <tr>\n",
       "      <th>(3002793.4, 4003618.2]</th>\n",
       "      <td>879.000000</td>\n",
       "    </tr>\n",
       "    <tr>\n",
       "      <th>(4003618.2, 5004443.0]</th>\n",
       "      <td>40.000000</td>\n",
       "    </tr>\n",
       "  </tbody>\n",
       "</table>\n",
       "</div>"
      ],
      "text/plain": [
       "                             price\n",
       "cat_rank                          \n",
       "(-4685.124, 1001143.8]  194.928350\n",
       "(1001143.8, 2001968.6]  278.634828\n",
       "(2001968.6, 3002793.4]  259.666923\n",
       "(3002793.4, 4003618.2]  879.000000\n",
       "(4003618.2, 5004443.0]   40.000000"
      ]
     },
     "execution_count": 443,
     "metadata": {},
     "output_type": "execute_result"
    }
   ],
   "source": [
    "rank_vs_price"
   ]
  },
  {
   "cell_type": "code",
   "execution_count": 444,
   "metadata": {
    "collapsed": false
   },
   "outputs": [
    {
     "data": {
      "text/html": [
       "<div>\n",
       "<style>\n",
       "    .dataframe thead tr:only-child th {\n",
       "        text-align: right;\n",
       "    }\n",
       "\n",
       "    .dataframe thead th {\n",
       "        text-align: left;\n",
       "    }\n",
       "\n",
       "    .dataframe tbody tr th {\n",
       "        vertical-align: top;\n",
       "    }\n",
       "</style>\n",
       "<table border=\"1\" class=\"dataframe\">\n",
       "  <thead>\n",
       "    <tr style=\"text-align: right;\">\n",
       "      <th></th>\n",
       "      <th>brand</th>\n",
       "      <th>category</th>\n",
       "      <th>color</th>\n",
       "      <th>features</th>\n",
       "      <th>price</th>\n",
       "      <th>title</th>\n",
       "      <th>new_rank</th>\n",
       "    </tr>\n",
       "  </thead>\n",
       "  <tbody>\n",
       "    <tr>\n",
       "      <th>B00004R93U</th>\n",
       "      <td>juiceman</td>\n",
       "      <td>2</td>\n",
       "      <td>Off-White</td>\n",
       "      <td>[Peppy 1/4-horsepower motor quickly juices mos...</td>\n",
       "      <td>158.98</td>\n",
       "      <td>Juiceman Jr. Elite Pro JM211 Juice Extractor</td>\n",
       "      <td>1.0</td>\n",
       "    </tr>\n",
       "    <tr>\n",
       "      <th>B00004R93V</th>\n",
       "      <td>juiceman</td>\n",
       "      <td>2</td>\n",
       "      <td>White</td>\n",
       "      <td>[Powerful 1/2-horsepower motor quickly juices ...</td>\n",
       "      <td>79.95</td>\n",
       "      <td>The Juiceman Electronic Professional Series 41...</td>\n",
       "      <td>0.0</td>\n",
       "    </tr>\n",
       "    <tr>\n",
       "      <th>B00004S8FH</th>\n",
       "      <td>waring</td>\n",
       "      <td>2</td>\n",
       "      <td>White</td>\n",
       "      <td>[Converts all noncitrus fruits and vegetables ...</td>\n",
       "      <td>360.00</td>\n",
       "      <td>Waring PJE401 Juice Extractor, Quite White and...</td>\n",
       "      <td>0.0</td>\n",
       "    </tr>\n",
       "    <tr>\n",
       "      <th>B00004S8FJ</th>\n",
       "      <td>waring</td>\n",
       "      <td>1</td>\n",
       "      <td>Stainless Steel</td>\n",
       "      <td>[Juices all citrus fruits, from limes to grape...</td>\n",
       "      <td>149.99</td>\n",
       "      <td>Waring PCJ218 Citrus Juicer, Stainless Steel</td>\n",
       "      <td>0.0</td>\n",
       "    </tr>\n",
       "    <tr>\n",
       "      <th>B00004X139</th>\n",
       "      <td>hamilton beach</td>\n",
       "      <td>2</td>\n",
       "      <td>White</td>\n",
       "      <td>[This Hamilton Beach HealthSmart Juice Extract...</td>\n",
       "      <td>42.38</td>\n",
       "      <td>Juice Extractor,Healthsmart</td>\n",
       "      <td>0.0</td>\n",
       "    </tr>\n",
       "  </tbody>\n",
       "</table>\n",
       "</div>"
      ],
      "text/plain": [
       "                     brand category            color  \\\n",
       "B00004R93U        juiceman        2        Off-White   \n",
       "B00004R93V        juiceman        2            White   \n",
       "B00004S8FH          waring        2            White   \n",
       "B00004S8FJ          waring        1  Stainless Steel   \n",
       "B00004X139  hamilton beach        2            White   \n",
       "\n",
       "                                                     features   price  \\\n",
       "B00004R93U  [Peppy 1/4-horsepower motor quickly juices mos...  158.98   \n",
       "B00004R93V  [Powerful 1/2-horsepower motor quickly juices ...   79.95   \n",
       "B00004S8FH  [Converts all noncitrus fruits and vegetables ...  360.00   \n",
       "B00004S8FJ  [Juices all citrus fruits, from limes to grape...  149.99   \n",
       "B00004X139  [This Hamilton Beach HealthSmart Juice Extract...   42.38   \n",
       "\n",
       "                                                        title  new_rank  \n",
       "B00004R93U       Juiceman Jr. Elite Pro JM211 Juice Extractor       1.0  \n",
       "B00004R93V  The Juiceman Electronic Professional Series 41...       0.0  \n",
       "B00004S8FH  Waring PJE401 Juice Extractor, Quite White and...       0.0  \n",
       "B00004S8FJ       Waring PCJ218 Citrus Juicer, Stainless Steel       0.0  \n",
       "B00004X139                        Juice Extractor,Healthsmart       0.0  "
      ]
     },
     "execution_count": 444,
     "metadata": {},
     "output_type": "execute_result"
    }
   ],
   "source": [
    "def rank_feature(rank):\n",
    "    if rank < 1001143.8:\n",
    "        return 0\n",
    "    if rank >= 1001143.8 and rank < 2001968.6:\n",
    "        return 1\n",
    "    if rank >= 2001968.6 and rank < 3002793.4:\n",
    "        return 2\n",
    "    if rank >= 3002793.4 and rank < 4003618.2:\n",
    "        return 3\n",
    "    if rank >= 4003618.2 and rank < 5004443.0:\n",
    "        return 4\n",
    "\n",
    "df_all['new_rank'] = df_all['sales_rank'].apply(rank_feature)\n",
    "df_all.drop(['sales_rank', 'cat_rank'], axis=1, inplace=True)\n",
    "df_all.head()"
   ]
  },
  {
   "cell_type": "code",
   "execution_count": 455,
   "metadata": {
    "collapsed": false
   },
   "outputs": [
    {
     "name": "stdout",
     "output_type": "stream",
     "text": [
      "<class 'pandas.core.frame.DataFrame'>\n",
      "Index: 622 entries, B00004R93U to B072WPDGDN\n",
      "Data columns (total 7 columns):\n",
      "brand       622 non-null object\n",
      "category    622 non-null object\n",
      "color       622 non-null object\n",
      "features    622 non-null object\n",
      "price       622 non-null float64\n",
      "title       622 non-null object\n",
      "new_rank    621 non-null float64\n",
      "dtypes: float64(2), object(5)\n",
      "memory usage: 38.9+ KB\n"
     ]
    }
   ],
   "source": [
    "df_all.pivot_table(index='brand', values='price', aggfunc=np.mean).sort_values(by='price', ascending=False)\n",
    "df_all = df_all[~df_all['price'].isnull()]\n",
    "df_all.info()"
   ]
  },
  {
   "cell_type": "code",
   "execution_count": 458,
   "metadata": {
    "collapsed": false
   },
   "outputs": [],
   "source": [
    "brandlist = df_all['brand'].unique()\n",
    "d = {}\n",
    "for i, brand in enumerate(brandlist):\n",
    "    d.update({brand:i})\n",
    "    \n",
    "df_all['brand'] = df_all['brand'].map(d)"
   ]
  },
  {
   "cell_type": "code",
   "execution_count": 460,
   "metadata": {
    "collapsed": false
   },
   "outputs": [],
   "source": [
    "df_all['color'] = df_all['color'].str.lower()"
   ]
  },
  {
   "cell_type": "code",
   "execution_count": 461,
   "metadata": {
    "collapsed": true
   },
   "outputs": [],
   "source": [
    "df_all['color'] = df_all['color'].replace(['stainless', 'steel', 'brushed stainless steel'], 'stainless steel')"
   ]
  },
  {
   "cell_type": "code",
   "execution_count": 462,
   "metadata": {
    "collapsed": true
   },
   "outputs": [],
   "source": [
    "colorlist = df_all['color'].unique()\n",
    "d = {}\n",
    "for i, color in enumerate(colorlist):\n",
    "    d.update({color:i})\n",
    "    \n",
    "df_all['color'] = df_all['color'].map(d)"
   ]
  },
  {
   "cell_type": "code",
   "execution_count": 473,
   "metadata": {
    "collapsed": true
   },
   "outputs": [],
   "source": [
    "def featuring(lis):\n",
    "    for l in lis:\n",
    "        if \"nut\" in l:\n",
    "            return 1\n",
    "    else:\n",
    "        return 0\n",
    "\n",
    "df_all['features weight'] = df_all['features'].apply(featuring)"
   ]
  },
  {
   "cell_type": "code",
   "execution_count": 474,
   "metadata": {
    "collapsed": false
   },
   "outputs": [],
   "source": [
    "df_all.dropna(inplace=True)"
   ]
  },
  {
   "cell_type": "code",
   "execution_count": 479,
   "metadata": {
    "collapsed": false
   },
   "outputs": [
    {
     "data": {
      "text/html": [
       "<div>\n",
       "<style>\n",
       "    .dataframe thead tr:only-child th {\n",
       "        text-align: right;\n",
       "    }\n",
       "\n",
       "    .dataframe thead th {\n",
       "        text-align: left;\n",
       "    }\n",
       "\n",
       "    .dataframe tbody tr th {\n",
       "        vertical-align: top;\n",
       "    }\n",
       "</style>\n",
       "<table border=\"1\" class=\"dataframe\">\n",
       "  <thead>\n",
       "    <tr style=\"text-align: right;\">\n",
       "      <th></th>\n",
       "      <th>brand</th>\n",
       "      <th>category</th>\n",
       "      <th>color</th>\n",
       "      <th>new_rank</th>\n",
       "      <th>features weight</th>\n",
       "    </tr>\n",
       "  </thead>\n",
       "  <tbody>\n",
       "    <tr>\n",
       "      <th>B00004R93U</th>\n",
       "      <td>0</td>\n",
       "      <td>2</td>\n",
       "      <td>0</td>\n",
       "      <td>1.0</td>\n",
       "      <td>1</td>\n",
       "    </tr>\n",
       "    <tr>\n",
       "      <th>B00004R93V</th>\n",
       "      <td>0</td>\n",
       "      <td>2</td>\n",
       "      <td>1</td>\n",
       "      <td>0.0</td>\n",
       "      <td>1</td>\n",
       "    </tr>\n",
       "    <tr>\n",
       "      <th>B00004S8FH</th>\n",
       "      <td>1</td>\n",
       "      <td>2</td>\n",
       "      <td>1</td>\n",
       "      <td>0.0</td>\n",
       "      <td>0</td>\n",
       "    </tr>\n",
       "    <tr>\n",
       "      <th>B00004S8FJ</th>\n",
       "      <td>1</td>\n",
       "      <td>1</td>\n",
       "      <td>2</td>\n",
       "      <td>0.0</td>\n",
       "      <td>0</td>\n",
       "    </tr>\n",
       "    <tr>\n",
       "      <th>B00004X139</th>\n",
       "      <td>2</td>\n",
       "      <td>2</td>\n",
       "      <td>1</td>\n",
       "      <td>0.0</td>\n",
       "      <td>0</td>\n",
       "    </tr>\n",
       "    <tr>\n",
       "      <th>B00005MF9O</th>\n",
       "      <td>3</td>\n",
       "      <td>1</td>\n",
       "      <td>3</td>\n",
       "      <td>1.0</td>\n",
       "      <td>0</td>\n",
       "    </tr>\n",
       "    <tr>\n",
       "      <th>B00006IUZK</th>\n",
       "      <td>4</td>\n",
       "      <td>1</td>\n",
       "      <td>1</td>\n",
       "      <td>0.0</td>\n",
       "      <td>0</td>\n",
       "    </tr>\n",
       "    <tr>\n",
       "      <th>B00009ENKU</th>\n",
       "      <td>5</td>\n",
       "      <td>3</td>\n",
       "      <td>1</td>\n",
       "      <td>0.0</td>\n",
       "      <td>0</td>\n",
       "    </tr>\n",
       "    <tr>\n",
       "      <th>B00009KO85</th>\n",
       "      <td>1</td>\n",
       "      <td>2</td>\n",
       "      <td>2</td>\n",
       "      <td>0.0</td>\n",
       "      <td>0</td>\n",
       "    </tr>\n",
       "    <tr>\n",
       "      <th>B0000DDVN4</th>\n",
       "      <td>6</td>\n",
       "      <td>2</td>\n",
       "      <td>4</td>\n",
       "      <td>0.0</td>\n",
       "      <td>0</td>\n",
       "    </tr>\n",
       "    <tr>\n",
       "      <th>B0000DDVUO</th>\n",
       "      <td>1</td>\n",
       "      <td>2</td>\n",
       "      <td>5</td>\n",
       "      <td>0.0</td>\n",
       "      <td>0</td>\n",
       "    </tr>\n",
       "    <tr>\n",
       "      <th>B0000VLI5K</th>\n",
       "      <td>7</td>\n",
       "      <td>1</td>\n",
       "      <td>2</td>\n",
       "      <td>0.0</td>\n",
       "      <td>0</td>\n",
       "    </tr>\n",
       "    <tr>\n",
       "      <th>B0000ZP3MA</th>\n",
       "      <td>8</td>\n",
       "      <td>3</td>\n",
       "      <td>1</td>\n",
       "      <td>0.0</td>\n",
       "      <td>1</td>\n",
       "    </tr>\n",
       "    <tr>\n",
       "      <th>B0000ZP3MK</th>\n",
       "      <td>8</td>\n",
       "      <td>3</td>\n",
       "      <td>1</td>\n",
       "      <td>0.0</td>\n",
       "      <td>1</td>\n",
       "    </tr>\n",
       "    <tr>\n",
       "      <th>B00015NMWC</th>\n",
       "      <td>2</td>\n",
       "      <td>2</td>\n",
       "      <td>3</td>\n",
       "      <td>0.0</td>\n",
       "      <td>0</td>\n",
       "    </tr>\n",
       "    <tr>\n",
       "      <th>B00016AFOE</th>\n",
       "      <td>9</td>\n",
       "      <td>2</td>\n",
       "      <td>1</td>\n",
       "      <td>1.0</td>\n",
       "      <td>0</td>\n",
       "    </tr>\n",
       "    <tr>\n",
       "      <th>B0001IT0IY</th>\n",
       "      <td>10</td>\n",
       "      <td>2</td>\n",
       "      <td>6</td>\n",
       "      <td>0.0</td>\n",
       "      <td>0</td>\n",
       "    </tr>\n",
       "    <tr>\n",
       "      <th>B0001LB9R6</th>\n",
       "      <td>3</td>\n",
       "      <td>2</td>\n",
       "      <td>1</td>\n",
       "      <td>0.0</td>\n",
       "      <td>1</td>\n",
       "    </tr>\n",
       "    <tr>\n",
       "      <th>B00023XDJA</th>\n",
       "      <td>11</td>\n",
       "      <td>1</td>\n",
       "      <td>1</td>\n",
       "      <td>0.0</td>\n",
       "      <td>0</td>\n",
       "    </tr>\n",
       "    <tr>\n",
       "      <th>B0002CA3TY</th>\n",
       "      <td>2</td>\n",
       "      <td>2</td>\n",
       "      <td>7</td>\n",
       "      <td>0.0</td>\n",
       "      <td>0</td>\n",
       "    </tr>\n",
       "    <tr>\n",
       "      <th>B0002CA3U8</th>\n",
       "      <td>2</td>\n",
       "      <td>2</td>\n",
       "      <td>1</td>\n",
       "      <td>0.0</td>\n",
       "      <td>0</td>\n",
       "    </tr>\n",
       "    <tr>\n",
       "      <th>B0002JNMEU</th>\n",
       "      <td>9</td>\n",
       "      <td>1</td>\n",
       "      <td>1</td>\n",
       "      <td>0.0</td>\n",
       "      <td>0</td>\n",
       "    </tr>\n",
       "    <tr>\n",
       "      <th>B0002OKDT2</th>\n",
       "      <td>5</td>\n",
       "      <td>3</td>\n",
       "      <td>6</td>\n",
       "      <td>0.0</td>\n",
       "      <td>0</td>\n",
       "    </tr>\n",
       "    <tr>\n",
       "      <th>B0006DOVGU</th>\n",
       "      <td>12</td>\n",
       "      <td>1</td>\n",
       "      <td>1</td>\n",
       "      <td>0.0</td>\n",
       "      <td>0</td>\n",
       "    </tr>\n",
       "    <tr>\n",
       "      <th>B0007MU2O0</th>\n",
       "      <td>0</td>\n",
       "      <td>2</td>\n",
       "      <td>4</td>\n",
       "      <td>1.0</td>\n",
       "      <td>0</td>\n",
       "    </tr>\n",
       "    <tr>\n",
       "      <th>B0007W160E</th>\n",
       "      <td>12</td>\n",
       "      <td>1</td>\n",
       "      <td>1</td>\n",
       "      <td>0.0</td>\n",
       "      <td>0</td>\n",
       "    </tr>\n",
       "    <tr>\n",
       "      <th>B000AV3WF4</th>\n",
       "      <td>13</td>\n",
       "      <td>1</td>\n",
       "      <td>1</td>\n",
       "      <td>0.0</td>\n",
       "      <td>0</td>\n",
       "    </tr>\n",
       "    <tr>\n",
       "      <th>B000E46IX0</th>\n",
       "      <td>14</td>\n",
       "      <td>3</td>\n",
       "      <td>8</td>\n",
       "      <td>0.0</td>\n",
       "      <td>1</td>\n",
       "    </tr>\n",
       "    <tr>\n",
       "      <th>B000E48LGC</th>\n",
       "      <td>15</td>\n",
       "      <td>3</td>\n",
       "      <td>9</td>\n",
       "      <td>0.0</td>\n",
       "      <td>1</td>\n",
       "    </tr>\n",
       "    <tr>\n",
       "      <th>B000E48LOY</th>\n",
       "      <td>16</td>\n",
       "      <td>3</td>\n",
       "      <td>10</td>\n",
       "      <td>0.0</td>\n",
       "      <td>0</td>\n",
       "    </tr>\n",
       "    <tr>\n",
       "      <th>...</th>\n",
       "      <td>...</td>\n",
       "      <td>...</td>\n",
       "      <td>...</td>\n",
       "      <td>...</td>\n",
       "      <td>...</td>\n",
       "    </tr>\n",
       "    <tr>\n",
       "      <th>B06XTDH92X</th>\n",
       "      <td>228</td>\n",
       "      <td>2</td>\n",
       "      <td>12</td>\n",
       "      <td>1.0</td>\n",
       "      <td>0</td>\n",
       "    </tr>\n",
       "    <tr>\n",
       "      <th>B06XTQD8BX</th>\n",
       "      <td>229</td>\n",
       "      <td>3</td>\n",
       "      <td>33</td>\n",
       "      <td>0.0</td>\n",
       "      <td>0</td>\n",
       "    </tr>\n",
       "    <tr>\n",
       "      <th>B06XVG9DTP</th>\n",
       "      <td>12</td>\n",
       "      <td>2</td>\n",
       "      <td>10</td>\n",
       "      <td>1.0</td>\n",
       "      <td>0</td>\n",
       "    </tr>\n",
       "    <tr>\n",
       "      <th>B06XWT9KZ1</th>\n",
       "      <td>230</td>\n",
       "      <td>3</td>\n",
       "      <td>26</td>\n",
       "      <td>1.0</td>\n",
       "      <td>0</td>\n",
       "    </tr>\n",
       "    <tr>\n",
       "      <th>B06XWWR9VM</th>\n",
       "      <td>231</td>\n",
       "      <td>2</td>\n",
       "      <td>1</td>\n",
       "      <td>0.0</td>\n",
       "      <td>0</td>\n",
       "    </tr>\n",
       "    <tr>\n",
       "      <th>B06XXY3YYR</th>\n",
       "      <td>232</td>\n",
       "      <td>3</td>\n",
       "      <td>26</td>\n",
       "      <td>0.0</td>\n",
       "      <td>0</td>\n",
       "    </tr>\n",
       "    <tr>\n",
       "      <th>B06XXYJYWM</th>\n",
       "      <td>202</td>\n",
       "      <td>1</td>\n",
       "      <td>119</td>\n",
       "      <td>0.0</td>\n",
       "      <td>0</td>\n",
       "    </tr>\n",
       "    <tr>\n",
       "      <th>B06Y2DBF1T</th>\n",
       "      <td>233</td>\n",
       "      <td>2</td>\n",
       "      <td>25</td>\n",
       "      <td>0.0</td>\n",
       "      <td>0</td>\n",
       "    </tr>\n",
       "    <tr>\n",
       "      <th>B06Y2K3Y6D</th>\n",
       "      <td>10</td>\n",
       "      <td>2</td>\n",
       "      <td>4</td>\n",
       "      <td>0.0</td>\n",
       "      <td>0</td>\n",
       "    </tr>\n",
       "    <tr>\n",
       "      <th>B06ZXXP7DP</th>\n",
       "      <td>234</td>\n",
       "      <td>3</td>\n",
       "      <td>25</td>\n",
       "      <td>1.0</td>\n",
       "      <td>1</td>\n",
       "    </tr>\n",
       "    <tr>\n",
       "      <th>B0711BC8YH</th>\n",
       "      <td>235</td>\n",
       "      <td>3</td>\n",
       "      <td>26</td>\n",
       "      <td>0.0</td>\n",
       "      <td>0</td>\n",
       "    </tr>\n",
       "    <tr>\n",
       "      <th>B07174K6XQ</th>\n",
       "      <td>236</td>\n",
       "      <td>1</td>\n",
       "      <td>12</td>\n",
       "      <td>0.0</td>\n",
       "      <td>1</td>\n",
       "    </tr>\n",
       "    <tr>\n",
       "      <th>B0718WJ3NR</th>\n",
       "      <td>237</td>\n",
       "      <td>2</td>\n",
       "      <td>10</td>\n",
       "      <td>0.0</td>\n",
       "      <td>0</td>\n",
       "    </tr>\n",
       "    <tr>\n",
       "      <th>B0719Q7751</th>\n",
       "      <td>238</td>\n",
       "      <td>3</td>\n",
       "      <td>33</td>\n",
       "      <td>0.0</td>\n",
       "      <td>0</td>\n",
       "    </tr>\n",
       "    <tr>\n",
       "      <th>B071D3WCTJ</th>\n",
       "      <td>132</td>\n",
       "      <td>2</td>\n",
       "      <td>120</td>\n",
       "      <td>0.0</td>\n",
       "      <td>1</td>\n",
       "    </tr>\n",
       "    <tr>\n",
       "      <th>B071D549S7</th>\n",
       "      <td>195</td>\n",
       "      <td>2</td>\n",
       "      <td>121</td>\n",
       "      <td>0.0</td>\n",
       "      <td>0</td>\n",
       "    </tr>\n",
       "    <tr>\n",
       "      <th>B071JL91JP</th>\n",
       "      <td>239</td>\n",
       "      <td>2</td>\n",
       "      <td>122</td>\n",
       "      <td>0.0</td>\n",
       "      <td>1</td>\n",
       "    </tr>\n",
       "    <tr>\n",
       "      <th>B071JQXC8Y</th>\n",
       "      <td>240</td>\n",
       "      <td>2</td>\n",
       "      <td>25</td>\n",
       "      <td>0.0</td>\n",
       "      <td>0</td>\n",
       "    </tr>\n",
       "    <tr>\n",
       "      <th>B071QYVR17</th>\n",
       "      <td>8</td>\n",
       "      <td>3</td>\n",
       "      <td>12</td>\n",
       "      <td>0.0</td>\n",
       "      <td>1</td>\n",
       "    </tr>\n",
       "    <tr>\n",
       "      <th>B071RWG1YG</th>\n",
       "      <td>241</td>\n",
       "      <td>2</td>\n",
       "      <td>12</td>\n",
       "      <td>0.0</td>\n",
       "      <td>1</td>\n",
       "    </tr>\n",
       "    <tr>\n",
       "      <th>B071VK2TBD</th>\n",
       "      <td>242</td>\n",
       "      <td>3</td>\n",
       "      <td>3</td>\n",
       "      <td>0.0</td>\n",
       "      <td>0</td>\n",
       "    </tr>\n",
       "    <tr>\n",
       "      <th>B071YHPCDP</th>\n",
       "      <td>2</td>\n",
       "      <td>2</td>\n",
       "      <td>1</td>\n",
       "      <td>0.0</td>\n",
       "      <td>0</td>\n",
       "    </tr>\n",
       "    <tr>\n",
       "      <th>B071ZVQSP5</th>\n",
       "      <td>243</td>\n",
       "      <td>2</td>\n",
       "      <td>123</td>\n",
       "      <td>0.0</td>\n",
       "      <td>0</td>\n",
       "    </tr>\n",
       "    <tr>\n",
       "      <th>B0722L18HQ</th>\n",
       "      <td>235</td>\n",
       "      <td>3</td>\n",
       "      <td>26</td>\n",
       "      <td>0.0</td>\n",
       "      <td>1</td>\n",
       "    </tr>\n",
       "    <tr>\n",
       "      <th>B0727PP8JX</th>\n",
       "      <td>244</td>\n",
       "      <td>2</td>\n",
       "      <td>25</td>\n",
       "      <td>0.0</td>\n",
       "      <td>0</td>\n",
       "    </tr>\n",
       "    <tr>\n",
       "      <th>B072F6YFXJ</th>\n",
       "      <td>245</td>\n",
       "      <td>2</td>\n",
       "      <td>3</td>\n",
       "      <td>0.0</td>\n",
       "      <td>0</td>\n",
       "    </tr>\n",
       "    <tr>\n",
       "      <th>B072J2VHYJ</th>\n",
       "      <td>219</td>\n",
       "      <td>2</td>\n",
       "      <td>124</td>\n",
       "      <td>0.0</td>\n",
       "      <td>0</td>\n",
       "    </tr>\n",
       "    <tr>\n",
       "      <th>B072JSQ159</th>\n",
       "      <td>246</td>\n",
       "      <td>2</td>\n",
       "      <td>25</td>\n",
       "      <td>0.0</td>\n",
       "      <td>0</td>\n",
       "    </tr>\n",
       "    <tr>\n",
       "      <th>B072SV42RJ</th>\n",
       "      <td>247</td>\n",
       "      <td>2</td>\n",
       "      <td>33</td>\n",
       "      <td>0.0</td>\n",
       "      <td>1</td>\n",
       "    </tr>\n",
       "    <tr>\n",
       "      <th>B072WPDGDN</th>\n",
       "      <td>248</td>\n",
       "      <td>2</td>\n",
       "      <td>3</td>\n",
       "      <td>0.0</td>\n",
       "      <td>0</td>\n",
       "    </tr>\n",
       "  </tbody>\n",
       "</table>\n",
       "<p>621 rows × 5 columns</p>\n",
       "</div>"
      ],
      "text/plain": [
       "            brand category  color  new_rank  features weight\n",
       "B00004R93U      0        2      0       1.0                1\n",
       "B00004R93V      0        2      1       0.0                1\n",
       "B00004S8FH      1        2      1       0.0                0\n",
       "B00004S8FJ      1        1      2       0.0                0\n",
       "B00004X139      2        2      1       0.0                0\n",
       "B00005MF9O      3        1      3       1.0                0\n",
       "B00006IUZK      4        1      1       0.0                0\n",
       "B00009ENKU      5        3      1       0.0                0\n",
       "B00009KO85      1        2      2       0.0                0\n",
       "B0000DDVN4      6        2      4       0.0                0\n",
       "B0000DDVUO      1        2      5       0.0                0\n",
       "B0000VLI5K      7        1      2       0.0                0\n",
       "B0000ZP3MA      8        3      1       0.0                1\n",
       "B0000ZP3MK      8        3      1       0.0                1\n",
       "B00015NMWC      2        2      3       0.0                0\n",
       "B00016AFOE      9        2      1       1.0                0\n",
       "B0001IT0IY     10        2      6       0.0                0\n",
       "B0001LB9R6      3        2      1       0.0                1\n",
       "B00023XDJA     11        1      1       0.0                0\n",
       "B0002CA3TY      2        2      7       0.0                0\n",
       "B0002CA3U8      2        2      1       0.0                0\n",
       "B0002JNMEU      9        1      1       0.0                0\n",
       "B0002OKDT2      5        3      6       0.0                0\n",
       "B0006DOVGU     12        1      1       0.0                0\n",
       "B0007MU2O0      0        2      4       1.0                0\n",
       "B0007W160E     12        1      1       0.0                0\n",
       "B000AV3WF4     13        1      1       0.0                0\n",
       "B000E46IX0     14        3      8       0.0                1\n",
       "B000E48LGC     15        3      9       0.0                1\n",
       "B000E48LOY     16        3     10       0.0                0\n",
       "...           ...      ...    ...       ...              ...\n",
       "B06XTDH92X    228        2     12       1.0                0\n",
       "B06XTQD8BX    229        3     33       0.0                0\n",
       "B06XVG9DTP     12        2     10       1.0                0\n",
       "B06XWT9KZ1    230        3     26       1.0                0\n",
       "B06XWWR9VM    231        2      1       0.0                0\n",
       "B06XXY3YYR    232        3     26       0.0                0\n",
       "B06XXYJYWM    202        1    119       0.0                0\n",
       "B06Y2DBF1T    233        2     25       0.0                0\n",
       "B06Y2K3Y6D     10        2      4       0.0                0\n",
       "B06ZXXP7DP    234        3     25       1.0                1\n",
       "B0711BC8YH    235        3     26       0.0                0\n",
       "B07174K6XQ    236        1     12       0.0                1\n",
       "B0718WJ3NR    237        2     10       0.0                0\n",
       "B0719Q7751    238        3     33       0.0                0\n",
       "B071D3WCTJ    132        2    120       0.0                1\n",
       "B071D549S7    195        2    121       0.0                0\n",
       "B071JL91JP    239        2    122       0.0                1\n",
       "B071JQXC8Y    240        2     25       0.0                0\n",
       "B071QYVR17      8        3     12       0.0                1\n",
       "B071RWG1YG    241        2     12       0.0                1\n",
       "B071VK2TBD    242        3      3       0.0                0\n",
       "B071YHPCDP      2        2      1       0.0                0\n",
       "B071ZVQSP5    243        2    123       0.0                0\n",
       "B0722L18HQ    235        3     26       0.0                1\n",
       "B0727PP8JX    244        2     25       0.0                0\n",
       "B072F6YFXJ    245        2      3       0.0                0\n",
       "B072J2VHYJ    219        2    124       0.0                0\n",
       "B072JSQ159    246        2     25       0.0                0\n",
       "B072SV42RJ    247        2     33       0.0                1\n",
       "B072WPDGDN    248        2      3       0.0                0\n",
       "\n",
       "[621 rows x 5 columns]"
      ]
     },
     "execution_count": 479,
     "metadata": {},
     "output_type": "execute_result"
    }
   ],
   "source": [
    "df_train = df_all[['brand', 'category', 'color', 'new_rank', 'features weight']]\n",
    "df_train\n",
    "#X = np.array(df_all[['brand', 'category', 'color', 'new_rank', 'features weight']])"
   ]
  },
  {
   "cell_type": "code",
   "execution_count": 476,
   "metadata": {
    "collapsed": true
   },
   "outputs": [],
   "source": [
    "y = np.array(df_all['price'])"
   ]
  },
  {
   "cell_type": "code",
   "execution_count": 477,
   "metadata": {
    "collapsed": false
   },
   "outputs": [
    {
     "name": "stdout",
     "output_type": "stream",
     "text": [
      "R^2 is: \n",
      " 0.203840122703\n"
     ]
    }
   ],
   "source": [
    "lr = linear_model.LinearRegression()\n",
    "X_train, X_test, y_train, y_test = train_test_split(X, y, random_state=42, test_size=.33)\n",
    "model = lr.fit(X_train, y_train)\n",
    "print (\"R^2 is: \\n\", model.score(X_test, y_test))"
   ]
  }
 ],
 "metadata": {
  "kernelspec": {
   "display_name": "Python 3",
   "language": "python",
   "name": "python3"
  },
  "language_info": {
   "codemirror_mode": {
    "name": "ipython",
    "version": 3
   },
   "file_extension": ".py",
   "mimetype": "text/x-python",
   "name": "python",
   "nbconvert_exporter": "python",
   "pygments_lexer": "ipython3",
   "version": "3.5.3"
  }
 },
 "nbformat": 4,
 "nbformat_minor": 2
}
